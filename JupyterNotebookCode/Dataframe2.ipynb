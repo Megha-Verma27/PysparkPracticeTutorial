{
 "cells": [
  {
   "cell_type": "code",
   "execution_count": 1,
   "id": "9d993a00",
   "metadata": {},
   "outputs": [
    {
     "data": {
      "text/plain": [
       "'C:\\\\Users\\\\Admin\\\\anaconda3\\\\envs\\\\SparkEnvironment\\\\Lib\\\\site-packages\\\\pyspark'"
      ]
     },
     "execution_count": 1,
     "metadata": {},
     "output_type": "execute_result"
    }
   ],
   "source": [
    "import findspark\n",
    "findspark.init()\n",
    "findspark.find()\n"
   ]
  },
  {
   "cell_type": "code",
   "execution_count": 2,
   "id": "2cf95607",
   "metadata": {},
   "outputs": [
    {
     "data": {
      "text/html": [
       "\n",
       "            <div>\n",
       "                <p><b>SparkSession - in-memory</b></p>\n",
       "                \n",
       "        <div>\n",
       "            <p><b>SparkContext</b></p>\n",
       "\n",
       "            <p><a href=\"http://192.168.86.219:4041\">Spark UI</a></p>\n",
       "\n",
       "            <dl>\n",
       "              <dt>Version</dt>\n",
       "                <dd><code>v3.5.0</code></dd>\n",
       "              <dt>Master</dt>\n",
       "                <dd><code>local[4]</code></dd>\n",
       "              <dt>AppName</dt>\n",
       "                <dd><code>DataFrameApp</code></dd>\n",
       "            </dl>\n",
       "        </div>\n",
       "        \n",
       "            </div>\n",
       "        "
      ],
      "text/plain": [
       "<pyspark.sql.session.SparkSession at 0x29ac8afed90>"
      ]
     },
     "execution_count": 2,
     "metadata": {},
     "output_type": "execute_result"
    }
   ],
   "source": [
    "from pyspark.sql import SparkSession\n",
    "from pyspark.sql.types import *\n",
    "from pyspark.sql.functions import *\n",
    "\n",
    "spark = (\n",
    "    SparkSession\n",
    "    .builder\n",
    "    .appName(\"DataFrameApp\")\n",
    "    .master(\"local[4]\")\n",
    "    .getOrCreate()\n",
    ")\n",
    "\n",
    "sc = spark.sparkContext\n",
    "\n",
    "spark"
   ]
  },
  {
   "cell_type": "code",
   "execution_count": 4,
   "id": "1de6019d",
   "metadata": {},
   "outputs": [],
   "source": [
    "path = 'C:\\\\DataFiles\\\\new-data\\\\names.csv'"
   ]
  },
  {
   "cell_type": "code",
   "execution_count": 5,
   "id": "ec42ff57",
   "metadata": {},
   "outputs": [
    {
     "name": "stdout",
     "output_type": "stream",
     "text": [
      "+---------+---------+\n",
      "|firstname| lastname|\n",
      "+---------+---------+\n",
      "|    Rohit|   Sharma|\n",
      "|    Virat|    Kohli|\n",
      "|   Sachin|Tendulkar|\n",
      "|   Zaheer|     Khan|\n",
      "|  Rishabh|     Pant|\n",
      "| Mohammed|    Shami|\n",
      "|       KL|    Rahul|\n",
      "+---------+---------+\n",
      "\n"
     ]
    }
   ],
   "source": [
    "\n",
    "\n",
    "df = (\n",
    "    spark\n",
    "    .read\n",
    "    .format(\"csv\")\n",
    "    .option(\"header\", \"true\")\n",
    "    .load(path)\n",
    ")\n",
    "df.show()\n",
    "    "
   ]
  },
  {
   "cell_type": "code",
   "execution_count": 13,
   "id": "4969ec6f",
   "metadata": {},
   "outputs": [
    {
     "name": "stdout",
     "output_type": "stream",
     "text": [
      "+---------+---------+----------------+\n",
      "|firstname| lastname|            name|\n",
      "+---------+---------+----------------+\n",
      "|    Rohit|   Sharma|    Sharma,Rohit|\n",
      "|    Virat|    Kohli|     Kohli,Virat|\n",
      "|   Sachin|Tendulkar|Tendulkar,Sachin|\n",
      "|   Zaheer|     Khan|     Khan,Zaheer|\n",
      "|  Rishabh|     Pant|    Pant,Rishabh|\n",
      "| Mohammed|    Shami|  Shami,Mohammed|\n",
      "|       KL|    Rahul|        Rahul,KL|\n",
      "+---------+---------+----------------+\n",
      "\n"
     ]
    }
   ],
   "source": [
    "df = df.withColumn(\"name\", concat(col(\"lastname\"), lit(\",\"), col(\"firstname\")))\n",
    "df.show()"
   ]
  },
  {
   "cell_type": "code",
   "execution_count": 6,
   "id": "3a9f0a78",
   "metadata": {},
   "outputs": [],
   "source": [
    "# ---------- San Fransisco Fire Calls Case Study ------------------------\n",
    " \n",
    "fire_schema = StructType([StructField('CallNumber', IntegerType(), True),\n",
    " StructField('UnitID', StringType(), True),\n",
    " StructField('IncidentNumber', IntegerType(), True),\n",
    " StructField('CallType', StringType(), True),\n",
    " StructField('CallDate', StringType(), True),\n",
    " StructField('WatchDate', StringType(), True),\n",
    " StructField('CallFinalDisposition', StringType(), True),\n",
    " StructField('AvailableDtTm', StringType(), True),\n",
    " StructField('Address', StringType(), True),\n",
    " StructField('City', StringType(), True),\n",
    " StructField('Zipcode', IntegerType(), True),\n",
    " StructField('Battalion', StringType(), True),\n",
    " StructField('StationArea', StringType(), True),\n",
    " StructField('Box', StringType(), True),\n",
    " StructField('OriginalPriority', StringType(), True),\n",
    " StructField('Priority', StringType(), True),\n",
    " StructField('FinalPriority', IntegerType(), True),\n",
    " StructField('ALSUnit', BooleanType(), True),\n",
    " StructField('CallTypeGroup', StringType(), True),\n",
    " StructField('NumAlarms', IntegerType(), True),\n",
    " StructField('UnitType', StringType(), True),\n",
    " StructField('UnitSequenceInCallDispatch', IntegerType(), True),\n",
    " StructField('FirePreventionDistrict', StringType(), True),\n",
    " StructField('SupervisorDistrict', StringType(), True),\n",
    " StructField('Neighborhood', StringType(), True),\n",
    " StructField('Location', StringType(), True),\n",
    " StructField('RowID', StringType(), True),\n",
    " StructField('Delay', FloatType(), True)])\n",
    " \n",
    " "
   ]
  },
  {
   "cell_type": "code",
   "execution_count": 7,
   "id": "45169804",
   "metadata": {},
   "outputs": [],
   "source": [
    "path = 'C:\\\\DataFiles\\\\new-data\\\\sf-fire\\\\sf-fire-calls.csv'"
   ]
  },
  {
   "cell_type": "code",
   "execution_count": 8,
   "id": "73c1b21c",
   "metadata": {},
   "outputs": [
    {
     "name": "stdout",
     "output_type": "stream",
     "text": [
      "+----------+------+--------------+----------------+----------+----------+--------------------+----------------------+------------------------------+----+-------+---------+-----------+----+----------------+--------+-------------+-------+-------------+---------+--------------+--------------------------+----------------------+------------------+------------------------------+-------------------------------------+-------------+---------+\n",
      "|CallNumber|UnitID|IncidentNumber|CallType        |CallDate  |WatchDate |CallFinalDisposition|AvailableDtTm         |Address                       |City|Zipcode|Battalion|StationArea|Box |OriginalPriority|Priority|FinalPriority|ALSUnit|CallTypeGroup|NumAlarms|UnitType      |UnitSequenceInCallDispatch|FirePreventionDistrict|SupervisorDistrict|Neighborhood                  |Location                             |RowID        |Delay    |\n",
      "+----------+------+--------------+----------------+----------+----------+--------------------+----------------------+------------------------------+----+-------+---------+-----------+----+----------------+--------+-------------+-------+-------------+---------+--------------+--------------------------+----------------------+------------------+------------------------------+-------------------------------------+-------------+---------+\n",
      "|20110016  |T13   |2003235       |Structure Fire  |01/11/2002|01/10/2002|Other               |01/11/2002 01:51:44 AM|2000 Block of CALIFORNIA ST   |SF  |94109  |B04      |38         |3362|3               |3       |3            |false  |NULL         |1        |TRUCK         |2                         |4                     |5                 |Pacific Heights               |(37.7895840679362, -122.428071912459)|020110016-T13|2.95     |\n",
      "|20110022  |M17   |2003241       |Medical Incident|01/11/2002|01/10/2002|Other               |01/11/2002 03:01:18 AM|0 Block of SILVERVIEW DR      |SF  |94124  |B10      |42         |6495|3               |3       |3            |true   |NULL         |1        |MEDIC         |1                         |10                    |10                |Bayview Hunters Point         |(37.7337623673897, -122.396113802632)|020110022-M17|4.7      |\n",
      "|20110023  |M41   |2003242       |Medical Incident|01/11/2002|01/10/2002|Other               |01/11/2002 02:39:50 AM|MARKET ST/MCALLISTER ST       |SF  |94102  |B03      |01         |1455|3               |3       |3            |true   |NULL         |1        |MEDIC         |2                         |3                     |6                 |Tenderloin                    |(37.7811772186856, -122.411699931232)|020110023-M41|2.4333334|\n",
      "|20110032  |E11   |2003250       |Vehicle Fire    |01/11/2002|01/10/2002|Other               |01/11/2002 04:16:46 AM|APPLETON AV/MISSION ST        |SF  |94110  |B06      |32         |5626|3               |3       |3            |false  |NULL         |1        |ENGINE        |1                         |6                     |9                 |Bernal Heights                |(37.7388432849018, -122.423948785199)|020110032-E11|1.5      |\n",
      "|20110043  |B04   |2003259       |Alarms          |01/11/2002|01/10/2002|Other               |01/11/2002 06:01:58 AM|1400 Block of SUTTER ST       |SF  |94109  |B04      |03         |3223|3               |3       |3            |false  |NULL         |1        |CHIEF         |2                         |4                     |2                 |Western Addition              |(37.7872890372638, -122.424236212664)|020110043-B04|3.4833333|\n",
      "|20110072  |T08   |2003279       |Structure Fire  |01/11/2002|01/11/2002|Other               |01/11/2002 08:03:26 AM|BEALE ST/FOLSOM ST            |SF  |94105  |B03      |35         |2122|3               |3       |3            |false  |NULL         |1        |TRUCK         |2                         |3                     |6                 |Financial District/South Beach|(37.7886866619654, -122.392722833778)|020110072-T08|1.75     |\n",
      "|20110125  |E33   |2003301       |Alarms          |01/11/2002|01/11/2002|Other               |01/11/2002 09:46:44 AM|0 Block of FARALLONES ST      |SF  |94112  |B09      |33         |8324|3               |3       |3            |false  |NULL         |1        |ENGINE        |2                         |9                     |11                |Oceanview/Merced/Ingleside    |(37.7140353531157, -122.454117149916)|020110125-E33|2.7166667|\n",
      "|20110130  |E36   |2003304       |Alarms          |01/11/2002|01/11/2002|Other               |01/11/2002 09:58:53 AM|600 Block of POLK ST          |SF  |94102  |B02      |03         |3114|3               |3       |3            |false  |NULL         |1        |ENGINE        |1                         |2                     |6                 |Tenderloin                    |(37.7826266328595, -122.41915582123) |020110130-E36|1.7833333|\n",
      "|20110197  |E05   |2003343       |Medical Incident|01/11/2002|01/11/2002|Other               |01/11/2002 12:06:57 PM|1500 Block of WEBSTER ST      |SF  |94115  |B04      |05         |3513|3               |3       |3            |false  |NULL         |1        |ENGINE        |1                         |4                     |5                 |Japantown                     |(37.784958590666, -122.431435274503) |020110197-E05|1.5166667|\n",
      "|20110215  |E06   |2003348       |Medical Incident|01/11/2002|01/11/2002|Other               |01/11/2002 01:08:40 PM|DIAMOND ST/MARKET ST          |SF  |94114  |B05      |06         |5415|3               |3       |3            |false  |NULL         |1        |ENGINE        |1                         |5                     |8                 |Castro/Upper Market           |(37.7618954753708, -122.437298717721)|020110215-E06|2.7666667|\n",
      "|20110274  |M07   |2003381       |Medical Incident|01/11/2002|01/11/2002|Other               |01/11/2002 03:31:02 PM|2700 Block of MISSION ST      |SF  |94110  |B06      |11         |5525|1               |1       |2            |true   |NULL         |1        |MEDIC         |1                         |6                     |9                 |Mission                       |(37.7530339738059, -122.418588598473)|020110274-M07|2.1833334|\n",
      "|20110275  |T15   |2003382       |Structure Fire  |01/11/2002|01/11/2002|Other               |01/11/2002 02:59:04 PM|BRUNSWICK ST/GUTTENBERG ST    |SF  |94112  |B09      |43         |6218|3               |3       |3            |false  |NULL         |1        |TRUCK         |1                         |9                     |11                |Excelsior                     |(37.7105545807996, -122.443335369545)|020110275-T15|2.5      |\n",
      "|20110304  |E03   |2003399       |Medical Incident|01/11/2002|01/11/2002|Other               |01/11/2002 04:22:49 PM|1000 Block of SUTTER ST       |SF  |94109  |B04      |03         |1557|3               |3       |3            |false  |NULL         |1        |ENGINE        |1                         |4                     |3                 |Nob Hill                      |(37.7881263034393, -122.417657214041)|020110304-E03|2.4166667|\n",
      "|20110308  |E14   |2003403       |Medical Incident|01/11/2002|01/11/2002|Other               |01/11/2002 04:18:33 PM|100 Block of 21ST AVE         |SF  |94121  |B07      |14         |7173|3               |3       |3            |false  |NULL         |1        |ENGINE        |1                         |7                     |1                 |Outer Richmond                |(37.7850084431077, -122.480723607753)|020110308-E14|4.95     |\n",
      "|20110313  |B10   |2003408       |Structure Fire  |01/11/2002|01/11/2002|Other               |01/11/2002 04:09:08 PM|700 Block of CAPP ST          |SF  |94110  |B06      |07         |5472|3               |3       |3            |false  |NULL         |1        |CHIEF         |6                         |6                     |9                 |Mission                       |(37.7547064357942, -122.417513465479)|020110313-B10|1.4166666|\n",
      "|20110313  |D3    |2003408       |Structure Fire  |01/11/2002|01/11/2002|Other               |01/11/2002 04:09:08 PM|700 Block of CAPP ST          |SF  |94110  |B06      |07         |5472|3               |3       |3            |false  |NULL         |1        |CHIEF         |4                         |6                     |9                 |Mission                       |(37.7547064357942, -122.417513465479)|020110313-D3 |2.5333333|\n",
      "|20110313  |E32   |2003408       |Structure Fire  |01/11/2002|01/11/2002|Other               |01/11/2002 04:09:08 PM|700 Block of CAPP ST          |SF  |94110  |B06      |07         |5472|3               |3       |3            |true   |NULL         |1        |ENGINE        |8                         |6                     |9                 |Mission                       |(37.7547064357942, -122.417513465479)|020110313-E32|1.8833333|\n",
      "|20110315  |RC2   |2003409       |Medical Incident|01/11/2002|01/11/2002|Other               |01/11/2002 04:34:23 PM|200 Block of LAGUNA HONDA BLVD|SF  |94116  |B08      |20         |8635|3               |3       |3            |true   |NULL         |1        |RESCUE CAPTAIN|2                         |8                     |7                 |West of Twin Peaks            |(37.7501117393668, -122.460819155469)|020110315-RC2|5.35     |\n",
      "|20110330  |E14   |2003417       |Medical Incident|01/11/2002|01/11/2002|Other               |01/11/2002 04:51:31 PM|BALBOA ST/PARK PRESIDIO BL    |SF  |94118  |B07      |31         |7145|3               |3       |3            |false  |NULL         |1        |ENGINE        |1                         |7                     |1                 |Inner Richmond                |(37.7768682293368, -122.472039541478)|020110330-E14|2.0      |\n",
      "|20110330  |M12   |2003417       |Medical Incident|01/11/2002|01/11/2002|Other               |01/11/2002 04:51:12 PM|BALBOA ST/PARK PRESIDIO BL    |SF  |94118  |B07      |31         |7145|3               |3       |3            |true   |NULL         |1        |MEDIC         |2                         |7                     |1                 |Inner Richmond                |(37.7768682293368, -122.472039541478)|020110330-M12|1.8166667|\n",
      "+----------+------+--------------+----------------+----------+----------+--------------------+----------------------+------------------------------+----+-------+---------+-----------+----+----------------+--------+-------------+-------+-------------+---------+--------------+--------------------------+----------------------+------------------+------------------------------+-------------------------------------+-------------+---------+\n",
      "only showing top 20 rows\n",
      "\n"
     ]
    }
   ],
   "source": [
    "df = (\n",
    "    spark\n",
    "    .read\n",
    "    .format(\"csv\")\n",
    "    .option(\"header\", \"true\")\n",
    "    .load(path)\n",
    ")\n",
    "df.show(truncate = False)\n",
    "    "
   ]
  },
  {
   "cell_type": "code",
   "execution_count": 24,
   "id": "89f2e1e5",
   "metadata": {},
   "outputs": [
    {
     "name": "stdout",
     "output_type": "stream",
     "text": [
      "+----------+------+--------------+-----------------------------+----------+----------+--------------------+----------------------+---------------------------+----+-------+---------+-----------+----+----------------+--------+-------------+-------+-------------+---------+--------+--------------------------+----------------------+------------------+------------------------------+-------------------------------------+-------------+---------+\n",
      "|CallNumber|UnitID|IncidentNumber|CallType                     |CallDate  |WatchDate |CallFinalDisposition|AvailableDtTm         |Address                    |City|Zipcode|Battalion|StationArea|Box |OriginalPriority|Priority|FinalPriority|ALSUnit|CallTypeGroup|NumAlarms|UnitType|UnitSequenceInCallDispatch|FirePreventionDistrict|SupervisorDistrict|Neighborhood                  |Location                             |RowID        |Delay    |\n",
      "+----------+------+--------------+-----------------------------+----------+----------+--------------------+----------------------+---------------------------+----+-------+---------+-----------+----+----------------+--------+-------------+-------+-------------+---------+--------+--------------------------+----------------------+------------------+------------------------------+-------------------------------------+-------------+---------+\n",
      "|20110016  |T13   |2003235       |Structure Fire               |01/11/2002|01/10/2002|Other               |01/11/2002 01:51:44 AM|2000 Block of CALIFORNIA ST|SF  |94109  |B04      |38         |3362|3               |3       |3            |false  |NULL         |1        |TRUCK   |2                         |4                     |5                 |Pacific Heights               |(37.7895840679362, -122.428071912459)|020110016-T13|2.95     |\n",
      "|20110032  |E11   |2003250       |Vehicle Fire                 |01/11/2002|01/10/2002|Other               |01/11/2002 04:16:46 AM|APPLETON AV/MISSION ST     |SF  |94110  |B06      |32         |5626|3               |3       |3            |false  |NULL         |1        |ENGINE  |1                         |6                     |9                 |Bernal Heights                |(37.7388432849018, -122.423948785199)|020110032-E11|1.5      |\n",
      "|20110043  |B04   |2003259       |Alarms                       |01/11/2002|01/10/2002|Other               |01/11/2002 06:01:58 AM|1400 Block of SUTTER ST    |SF  |94109  |B04      |03         |3223|3               |3       |3            |false  |NULL         |1        |CHIEF   |2                         |4                     |2                 |Western Addition              |(37.7872890372638, -122.424236212664)|020110043-B04|3.4833333|\n",
      "|20110072  |T08   |2003279       |Structure Fire               |01/11/2002|01/11/2002|Other               |01/11/2002 08:03:26 AM|BEALE ST/FOLSOM ST         |SF  |94105  |B03      |35         |2122|3               |3       |3            |false  |NULL         |1        |TRUCK   |2                         |3                     |6                 |Financial District/South Beach|(37.7886866619654, -122.392722833778)|020110072-T08|1.75     |\n",
      "|20110125  |E33   |2003301       |Alarms                       |01/11/2002|01/11/2002|Other               |01/11/2002 09:46:44 AM|0 Block of FARALLONES ST   |SF  |94112  |B09      |33         |8324|3               |3       |3            |false  |NULL         |1        |ENGINE  |2                         |9                     |11                |Oceanview/Merced/Ingleside    |(37.7140353531157, -122.454117149916)|020110125-E33|2.7166667|\n",
      "|20110130  |E36   |2003304       |Alarms                       |01/11/2002|01/11/2002|Other               |01/11/2002 09:58:53 AM|600 Block of POLK ST       |SF  |94102  |B02      |03         |3114|3               |3       |3            |false  |NULL         |1        |ENGINE  |1                         |2                     |6                 |Tenderloin                    |(37.7826266328595, -122.41915582123) |020110130-E36|1.7833333|\n",
      "|20110275  |T15   |2003382       |Structure Fire               |01/11/2002|01/11/2002|Other               |01/11/2002 02:59:04 PM|BRUNSWICK ST/GUTTENBERG ST |SF  |94112  |B09      |43         |6218|3               |3       |3            |false  |NULL         |1        |TRUCK   |1                         |9                     |11                |Excelsior                     |(37.7105545807996, -122.443335369545)|020110275-T15|2.5      |\n",
      "|20110313  |B10   |2003408       |Structure Fire               |01/11/2002|01/11/2002|Other               |01/11/2002 04:09:08 PM|700 Block of CAPP ST       |SF  |94110  |B06      |07         |5472|3               |3       |3            |false  |NULL         |1        |CHIEF   |6                         |6                     |9                 |Mission                       |(37.7547064357942, -122.417513465479)|020110313-B10|1.4166666|\n",
      "|20110313  |D3    |2003408       |Structure Fire               |01/11/2002|01/11/2002|Other               |01/11/2002 04:09:08 PM|700 Block of CAPP ST       |SF  |94110  |B06      |07         |5472|3               |3       |3            |false  |NULL         |1        |CHIEF   |4                         |6                     |9                 |Mission                       |(37.7547064357942, -122.417513465479)|020110313-D3 |2.5333333|\n",
      "|20110313  |E32   |2003408       |Structure Fire               |01/11/2002|01/11/2002|Other               |01/11/2002 04:09:08 PM|700 Block of CAPP ST       |SF  |94110  |B06      |07         |5472|3               |3       |3            |true   |NULL         |1        |ENGINE  |8                         |6                     |9                 |Mission                       |(37.7547064357942, -122.417513465479)|020110313-E32|1.8833333|\n",
      "|20110344  |T06   |2003429       |Odor (Strange / Unknown)     |01/11/2002|01/11/2002|Other               |01/11/2002 05:17:15 PM|2300 Block of MARKET ST    |SF  |94114  |B05      |06         |5233|3               |3       |3            |false  |NULL         |1        |TRUCK   |2                         |5                     |8                 |Castro/Upper Market           |(37.7635007029742, -122.434209629009)|020110344-T06|2.0833333|\n",
      "|20110375  |B05   |2003453       |Alarms                       |01/11/2002|01/11/2002|Other               |01/11/2002 06:48:01 PM|100 Block of JOHNSTONE DR  |SF  |94131  |B05      |20         |5278|3               |3       |3            |false  |NULL         |1        |CHIEF   |3                         |5                     |7                 |Inner Sunset                  |(37.7585821585787, -122.453613744703)|020110375-B05|1.8      |\n",
      "|20110425  |B01   |2003497       |Structure Fire               |01/11/2002|01/11/2002|Other               |01/11/2002 09:03:17 PM|600 Block of OFARRELL ST   |SF  |94109  |B04      |03         |1544|3               |3       |3            |false  |NULL         |1        |CHIEF   |4                         |4                     |6                 |Tenderloin                    |(37.7854670505017, -122.415977627827)|020110425-B01|2.5666666|\n",
      "|20120020  |E36   |2003554       |Structure Fire               |01/12/2002|01/11/2002|Other               |01/12/2002 01:56:32 AM|9TH ST/HOWARD ST           |SF  |94103  |B02      |36         |2335|3               |3       |3            |false  |NULL         |1        |ENGINE  |1                         |2                     |6                 |South of Market               |(37.7749917496069, -122.413161109659)|020120020-E36|3.3333333|\n",
      "|20120111  |E18   |2003618       |Odor (Strange / Unknown)     |01/12/2002|01/12/2002|Other               |01/12/2002 11:07:36 AM|2000 Block of 34TH AVE     |SF  |94116  |B08      |18         |7556|3               |3       |3            |false  |NULL         |1        |ENGINE  |2                         |8                     |4                 |Sunset/Parkside               |(37.7488650921071, -122.492289492253)|020120111-E18|2.8      |\n",
      "|20120155  |B08   |2003649       |Odor (Strange / Unknown)     |01/12/2002|01/12/2002|Other               |01/12/2002 01:03:10 PM|1500 Block of 5TH AVE      |SF  |94122  |B08      |12         |7328|3               |3       |3            |false  |NULL         |1        |CHIEF   |3                         |8                     |7                 |Inner Sunset                  |(37.7598374406709, -122.46094294867) |020120155-B08|4.1833334|\n",
      "|20120217  |M03   |2003695       |Structure Fire               |01/12/2002|01/12/2002|Other               |01/12/2002 04:46:59 PM|400 Block of TURK ST       |SF  |94102  |B02      |03         |1554|3               |3       |3            |true   |NULL         |1        |MEDIC   |3                         |2                     |6                 |Tenderloin                    |(37.7825569563078, -122.416349428183)|020120217-M03|1.5666667|\n",
      "|20120295  |B05   |2003756       |Alarms                       |01/12/2002|01/12/2002|Other               |01/12/2002 07:54:42 PM|500 Block of STEINER ST    |SF  |94117  |B05      |21         |3632|3               |3       |3            |false  |NULL         |1        |CHIEF   |2                         |5                     |5                 |Hayes Valley                  |(37.7742331365027, -122.432492947831)|020120295-B05|2.0833333|\n",
      "|20120311  |E07   |2003770       |Smoke Investigation (Outside)|01/12/2002|01/12/2002|Other               |01/12/2002 08:44:01 PM|900 Block of SHOTWELL ST   |SF  |94110  |B06      |07         |0544|3               |3       |3            |false  |NULL         |1        |ENGINE  |1                         |6                     |9                 |Mission                       |(37.7532406253685, -122.415177223195)|020120311-E07|2.1166666|\n",
      "|20120322  |D2    |2003777       |Structure Fire               |01/12/2002|01/12/2002|Other               |01/12/2002 09:14:13 PM|0 Block of JONES ST        |SF  |94102  |B03      |01         |1455|3               |3       |3            |false  |NULL         |1        |CHIEF   |6                         |2                     |6                 |Tenderloin                    |(37.7815955871561, -122.412190669917)|020120322-D2 |1.9333333|\n",
      "+----------+------+--------------+-----------------------------+----------+----------+--------------------+----------------------+---------------------------+----+-------+---------+-----------+----+----------------+--------+-------------+-------+-------------+---------+--------+--------------------------+----------------------+------------------+------------------------------+-------------------------------------+-------------+---------+\n",
      "only showing top 20 rows\n",
      "\n"
     ]
    }
   ],
   "source": [
    "df.filter(df.CallType != \"Medical Incident\").show(truncate = False)"
   ]
  },
  {
   "cell_type": "code",
   "execution_count": 46,
   "id": "5104d19d",
   "metadata": {},
   "outputs": [
    {
     "name": "stdout",
     "output_type": "stream",
     "text": [
      "+--------------+-----+\n",
      "|CallType      |count|\n",
      "+--------------+-----+\n",
      "|Marine Fire   |14   |\n",
      "|Vehicle Fire  |854  |\n",
      "|Outside Fire  |2094 |\n",
      "|Structure Fire|23319|\n",
      "+--------------+-----+\n",
      "\n"
     ]
    }
   ],
   "source": [
    "df.filter(df.CallType.contains('Fire')).groupBy(\"CallType\").agg(count(\"*\").alias(\"count\")).show(truncate = False)\n"
   ]
  },
  {
   "cell_type": "code",
   "execution_count": 39,
   "id": "90466839",
   "metadata": {},
   "outputs": [
    {
     "name": "stdout",
     "output_type": "stream",
     "text": [
      "+--------------------------------------------+\n",
      "|CallType                                    |\n",
      "+--------------------------------------------+\n",
      "|Elevator / Escalator Rescue                 |\n",
      "|Marine Fire                                 |\n",
      "|Aircraft Emergency                          |\n",
      "|Confined Space / Structure Collapse         |\n",
      "|Administrative                              |\n",
      "|Alarms                                      |\n",
      "|Odor (Strange / Unknown)                    |\n",
      "|Citizen Assist / Service Call               |\n",
      "|HazMat                                      |\n",
      "|Watercraft in Distress                      |\n",
      "|Explosion                                   |\n",
      "|Oil Spill                                   |\n",
      "|Vehicle Fire                                |\n",
      "|Suspicious Package                          |\n",
      "|Extrication / Entrapped (Machinery, Vehicle)|\n",
      "|Other                                       |\n",
      "|Outside Fire                                |\n",
      "|Traffic Collision                           |\n",
      "|Assist Police                               |\n",
      "|Gas Leak (Natural and LP Gases)             |\n",
      "+--------------------------------------------+\n",
      "only showing top 20 rows\n",
      "\n"
     ]
    }
   ],
   "source": [
    "df.select('CallType').distinct().show(truncate = False)"
   ]
  },
  {
   "cell_type": "code",
   "execution_count": 11,
   "id": "f5b16de4",
   "metadata": {},
   "outputs": [
    {
     "name": "stdout",
     "output_type": "stream",
     "text": [
      "+----------+------+--------------+-----------------------------+----------+----------+--------------------+----------------------+------------------------------+----+-------+---------+-----------+----+----------------+--------+-------------+-------+-------------+---------+--------------+--------------------------+----------------------+------------------+------------------------------+-------------------------------------+-------------+---------+\n",
      "|CallNumber|UnitID|IncidentNumber|CallType                     |CallDate  |WatchDate |CallFinalDisposition|AvailableDtTm         |Address                       |City|Zipcode|Battalion|StationArea|Box |OriginalPriority|Priority|FinalPriority|ALSUnit|CallTypeGroup|NumAlarms|UnitType      |UnitSequenceInCallDispatch|FirePreventionDistrict|SupervisorDistrict|Neighborhood                  |Location                             |RowID        |Delay    |\n",
      "+----------+------+--------------+-----------------------------+----------+----------+--------------------+----------------------+------------------------------+----+-------+---------+-----------+----+----------------+--------+-------------+-------+-------------+---------+--------------+--------------------------+----------------------+------------------+------------------------------+-------------------------------------+-------------+---------+\n",
      "|20110315  |RC2   |2003409       |Medical Incident             |01/11/2002|01/11/2002|Other               |01/11/2002 04:34:23 PM|200 Block of LAGUNA HONDA BLVD|SF  |94116  |B08      |20         |8635|3               |3       |3            |true   |NULL         |1        |RESCUE CAPTAIN|2                         |8                     |7                 |West of Twin Peaks            |(37.7501117393668, -122.460819155469)|020110315-RC2|5.35     |\n",
      "|20120147  |M38   |2003642       |Medical Incident             |01/12/2002|01/12/2002|Other               |01/12/2002 01:23:04 PM|1300 Block of HYDE ST         |SF  |94109  |B01      |41         |1564|1               |1       |2            |true   |NULL         |1        |MEDIC         |1                         |1                     |3                 |Russian Hill                  |(37.793235074749, -122.417915793747) |020120147-M38|6.25     |\n",
      "|20130013  |M03   |2003818       |Medical Incident             |01/13/2002|01/12/2002|Other               |01/13/2002 01:51:15 AM|800 Block of LARKIN ST        |SF  |94109  |B04      |03         |1642|2               |2       |2            |true   |NULL         |1        |MEDIC         |1                         |4                     |6                 |Tenderloin                    |(37.7858627664608, -122.418110537872)|020130013-M03|5.2      |\n",
      "|20140067  |T19   |2004152       |Citizen Assist / Service Call|01/14/2002|01/14/2002|Other               |01/14/2002 08:16:54 AM|2900 Block of 22ND AVE        |SF  |94132  |B08      |19         |8732|3               |3       |3            |false  |NULL         |1        |TRUCK         |1                         |8                     |7                 |Sunset/Parkside               |(37.7335645188552, -122.477843526592)|020140067-T19|5.6      |\n",
      "|20140177  |RS1   |2004216       |Medical Incident             |01/14/2002|01/14/2002|Other               |01/14/2002 12:27:03 PM|MONTGOMERY ST/SUTTER ST       |SF  |94104  |B01      |13         |1164|3               |3       |3            |false  |NULL         |1        |RESCUE SQUAD  |2                         |1                     |3                 |Financial District/South Beach|(37.7900390948551, -122.40218964437) |020140177-RS1|7.25     |\n",
      "|20150056  |E35   |2004408       |Medical Incident             |01/15/2002|01/14/2002|Other               |01/15/2002 06:53:38 AM|100 Block of 7TH ST           |SF  |94103  |B03      |08         |2312|3               |3       |3            |false  |NULL         |1        |ENGINE        |2                         |3                     |6                 |South of Market               |(37.7790372933741, -122.41062000696) |020150056-E35|11.916667|\n",
      "|20150254  |M07   |2004521       |Medical Incident             |01/15/2002|01/15/2002|Other               |01/15/2002 03:18:26 PM|18TH ST/CHURCH ST             |SF  |94114  |B02      |06         |5421|1               |1       |2            |true   |NULL         |1        |MEDIC         |1                         |2                     |8                 |Castro/Upper Market           |(37.761289573177, -122.428354067217) |020150254-M07|5.116667 |\n",
      "|20150265  |T16   |2004528       |Medical Incident             |01/15/2002|01/15/2002|Other               |01/15/2002 03:55:41 PM|FRANCISCO ST/MASON ST         |SF  |94133  |B01      |28         |1434|3               |3       |3            |false  |NULL         |1        |TRUCK         |4                         |1                     |3                 |North Beach                   |(37.8046841615796, -122.413428555065)|020150265-T16|8.633333 |\n",
      "|20150265  |UU1   |2004528       |Medical Incident             |01/15/2002|01/15/2002|Other               |01/15/2002 07:49:05 PM|FRANCISCO ST/MASON ST         |SF  |94133  |B01      |28         |1434|3               |3       |3            |false  |NULL         |1        |SUPPORT       |9                         |1                     |3                 |North Beach                   |(37.8046841615796, -122.413428555065)|020150265-UU1|95.28333 |\n",
      "|20150380  |91    |2004610       |Medical Incident             |01/15/2002|01/15/2002|Other               |01/15/2002 08:17:15 PM|800 Block of MARKET ST        |SF  |94103  |B03      |01         |2212|3               |3       |3            |false  |NULL         |1        |MEDIC         |1                         |3                     |6                 |South of Market               |(37.7842056749338, -122.407612731809)|020150380-91 |5.45     |\n",
      "|20150414  |M12   |2004641       |Medical Incident             |01/15/2002|01/15/2002|Other               |01/15/2002 09:46:50 PM|800 Block of CLAYTON ST       |SF  |94117  |B05      |12         |5151|2               |2       |2            |true   |NULL         |1        |MEDIC         |1                         |5                     |5                 |Haight Ashbury                |(37.7665307249018, -122.447986787891)|020150414-M12|7.6      |\n",
      "|20160059  |M15   |2004721       |Medical Incident             |01/16/2002|01/15/2002|Other               |01/16/2002 08:43:45 AM|400 Block of PALMETTO AVE     |SF  |94132  |B09      |33         |8412|3               |3       |3            |false  |NULL         |1        |MEDIC         |3                         |9                     |7                 |Oceanview/Merced/Ingleside    |(37.7107387933676, -122.46569167278) |020160059-M15|6.133333 |\n",
      "|20160064  |RC3   |2004724       |Structure Fire               |01/16/2002|01/15/2002|Other               |01/16/2002 07:31:16 AM|2500 Block of 19TH ST         |SF  |94110  |B10      |07         |5427|3               |3       |3            |true   |NULL         |1        |RESCUE CAPTAIN|13                        |10                    |10                |Potrero Hill                  |(37.7605763978135, -122.407559721688)|020160064-RC3|5.1833334|\n",
      "|20170118  |E26   |2005038       |Medical Incident             |01/17/2002|01/17/2002|Other               |01/17/2002 10:32:16 AM|2900 Block of DIAMOND ST      |SF  |94131  |B09      |26         |8261|3               |3       |3            |false  |NULL         |1        |ENGINE        |2                         |9                     |8                 |West of Twin Peaks            |(37.7330546406059, -122.434361048267)|020170118-E26|6.9166665|\n",
      "|20170342  |91    |2005173       |Medical Incident             |01/17/2002|01/17/2002|Other               |01/17/2002 08:10:08 PM|900 Block of VALENCIA ST      |SF  |94110  |B06      |07         |5456|E               |E       |3            |false  |NULL         |1        |MEDIC         |2                         |6                     |8                 |Mission                       |(37.7580957160416, -122.421301773834)|020170342-91 |5.2      |\n",
      "|20180129  |T06   |2005321       |Alarms                       |01/18/2002|01/18/2002|Other               |01/18/2002 09:40:38 AM|500 Block of VALENCIA ST      |SF  |94103  |B02      |07         |5247|3               |3       |3            |false  |NULL         |1        |TRUCK         |3                         |2                     |9                 |Mission                       |(37.7641127383912, -122.421739995141)|020180129-T06|6.35     |\n",
      "|20180191  |91    |2005353       |Other                        |01/18/2002|01/18/2002|Other               |01/18/2002 12:51:51 PM|0 Block of LECH WALESA ST     |SF  |94102  |B02      |36         |0381|3               |3       |3            |false  |NULL         |1        |MEDIC         |1                         |2                     |6                 |Tenderloin                    |(37.7779246419176, -122.418936072128)|020180191-91 |7.983333 |\n",
      "|20180382  |M36   |2005480       |Medical Incident             |01/18/2002|01/18/2002|Other               |01/18/2002 07:33:58 PM|2700 Block of 16TH ST         |SF  |94110  |B02      |07         |5237|2               |2       |2            |true   |NULL         |1        |MEDIC         |1                         |2                     |9                 |Mission                       |(37.7653263612606, -122.414201573327)|020180382-M36|13.55    |\n",
      "|20190062  |E14   |2005599       |Medical Incident             |01/19/2002|01/18/2002|Other               |01/19/2002 06:14:56 AM|400 Block of 20TH AVE         |SF  |94121  |B07      |14         |7172|3               |3       |3            |false  |NULL         |1        |ENGINE        |2                         |7                     |1                 |Outer Richmond                |(37.7793747233139, -122.479242794814)|020190062-E14|5.15     |\n",
      "|20190097  |RS1   |2005623       |Structure Fire               |01/19/2002|01/19/2002|Other               |01/19/2002 10:50:41 AM|100 Block of 2ND ST           |SF  |94105  |B03      |01         |2146|3               |3       |3            |true   |NULL         |1        |RESCUE SQUAD  |2                         |3                     |6                 |Financial District/South Beach|(37.787352867216, -122.399071684966) |020190097-RS1|13.583333|\n",
      "+----------+------+--------------+-----------------------------+----------+----------+--------------------+----------------------+------------------------------+----+-------+---------+-----------+----+----------------+--------+-------------+-------+-------------+---------+--------------+--------------------------+----------------------+------------------+------------------------------+-------------------------------------+-------------+---------+\n",
      "only showing top 20 rows\n",
      "\n"
     ]
    }
   ],
   "source": [
    "df.filter(df.Delay * 60 > 300 ).show(truncate = False)"
   ]
  },
  {
   "cell_type": "code",
   "execution_count": 16,
   "id": "eab8ff53",
   "metadata": {},
   "outputs": [
    {
     "name": "stdout",
     "output_type": "stream",
     "text": [
      "+--------------------+------+\n",
      "|            CallType| count|\n",
      "+--------------------+------+\n",
      "|    Medical Incident|113794|\n",
      "|      Structure Fire| 23319|\n",
      "|              Alarms| 19406|\n",
      "|   Traffic Collision|  7013|\n",
      "|Citizen Assist / ...|  2524|\n",
      "+--------------------+------+\n",
      "only showing top 5 rows\n",
      "\n"
     ]
    }
   ],
   "source": [
    "df.groupBy(\"CallType\").agg(count(\"*\").alias(\"count\")).sort(desc(\"count\")).show(5)"
   ]
  },
  {
   "cell_type": "code",
   "execution_count": 17,
   "id": "770a7178",
   "metadata": {},
   "outputs": [
    {
     "name": "stdout",
     "output_type": "stream",
     "text": [
      "+-------+-----+\n",
      "|Zipcode|count|\n",
      "+-------+-----+\n",
      "|NULL   |142  |\n",
      "|94129  |512  |\n",
      "|94158  |882  |\n",
      "|94130  |1100 |\n",
      "|94104  |1341 |\n",
      "|94127  |1881 |\n",
      "|94111  |2974 |\n",
      "|94131  |3236 |\n",
      "|94123  |3719 |\n",
      "|94116  |3933 |\n",
      "|94108  |4084 |\n",
      "|94105  |4236 |\n",
      "|94132  |4321 |\n",
      "|94121  |4555 |\n",
      "|94134  |5009 |\n",
      "|94118  |5157 |\n",
      "|94114  |5175 |\n",
      "|94117  |5804 |\n",
      "|94133  |6246 |\n",
      "|94122  |6355 |\n",
      "+-------+-----+\n",
      "only showing top 20 rows\n",
      "\n"
     ]
    }
   ],
   "source": [
    "df.groupBy(\"Zipcode\").agg(count(\"*\").alias(\"count\")).sort(asc(\"count\")).show(truncate = False)"
   ]
  },
  {
   "cell_type": "code",
   "execution_count": null,
   "id": "fd1b1e84",
   "metadata": {},
   "outputs": [],
   "source": []
  }
 ],
 "metadata": {
  "kernelspec": {
   "display_name": "Python 3 (ipykernel)",
   "language": "python",
   "name": "python3"
  },
  "language_info": {
   "codemirror_mode": {
    "name": "ipython",
    "version": 3
   },
   "file_extension": ".py",
   "mimetype": "text/x-python",
   "name": "python",
   "nbconvert_exporter": "python",
   "pygments_lexer": "ipython3",
   "version": "3.11.5"
  }
 },
 "nbformat": 4,
 "nbformat_minor": 5
}

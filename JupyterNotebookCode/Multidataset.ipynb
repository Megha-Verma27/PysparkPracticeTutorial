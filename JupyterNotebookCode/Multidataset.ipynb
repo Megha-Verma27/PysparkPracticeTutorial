{
 "cells": [
  {
   "cell_type": "code",
   "execution_count": 1,
   "id": "07be0a58",
   "metadata": {},
   "outputs": [
    {
     "data": {
      "text/plain": [
       "'C:\\\\Users\\\\Admin\\\\anaconda3\\\\envs\\\\SparkEnvironment\\\\Lib\\\\site-packages\\\\pyspark'"
      ]
     },
     "execution_count": 1,
     "metadata": {},
     "output_type": "execute_result"
    }
   ],
   "source": [
    "import findspark\n",
    "findspark.init()\n",
    "findspark.find()"
   ]
  },
  {
   "cell_type": "code",
   "execution_count": 2,
   "id": "de710527",
   "metadata": {},
   "outputs": [
    {
     "data": {
      "text/html": [
       "\n",
       "            <div>\n",
       "                <p><b>SparkSession - in-memory</b></p>\n",
       "                \n",
       "        <div>\n",
       "            <p><b>SparkContext</b></p>\n",
       "\n",
       "            <p><a href=\"http://192.168.86.219:4047\">Spark UI</a></p>\n",
       "\n",
       "            <dl>\n",
       "              <dt>Version</dt>\n",
       "                <dd><code>v3.5.0</code></dd>\n",
       "              <dt>Master</dt>\n",
       "                <dd><code>local[4]</code></dd>\n",
       "              <dt>AppName</dt>\n",
       "                <dd><code>MultiDataSetApp</code></dd>\n",
       "            </dl>\n",
       "        </div>\n",
       "        \n",
       "            </div>\n",
       "        "
      ],
      "text/plain": [
       "<pyspark.sql.session.SparkSession at 0x24e9cbf4190>"
      ]
     },
     "execution_count": 2,
     "metadata": {},
     "output_type": "execute_result"
    }
   ],
   "source": [
    "from pyspark.sql import SparkSession\n",
    "from pyspark.sql.types import *\n",
    "from pyspark.sql.functions import *\n",
    "\n",
    "spark = (\n",
    "    SparkSession\n",
    "    .builder\n",
    "    .appName(\"MultiDataSetApp\")\n",
    "    .master(\"local[4]\")\n",
    "    .config(\"spark.dynamicAloocation.enabled\", \"false\")\n",
    "    .getOrCreate()\n",
    ")\n",
    "\n",
    "sc = spark.sparkContext\n",
    "\n",
    "spark"
   ]
  },
  {
   "cell_type": "code",
   "execution_count": 3,
   "id": "4454b396",
   "metadata": {},
   "outputs": [],
   "source": [
    "# Create schema for Yellow Taxi Data\n",
    " \n",
    "taxiSchema = (\n",
    "                    StructType\n",
    "                    ([ \n",
    "                        StructField(\"VendorId\"               , IntegerType()   , True),\n",
    "                        StructField(\"lpep_pickup_datetime\"   , TimestampType() , True),\n",
    "                        StructField(\"lpep_dropoff_datetime\"  , TimestampType() , True),                            \n",
    "                        StructField(\"passenger_count\"        , DoubleType()    , True),\n",
    "                        StructField(\"trip_distance\"          , DoubleType()    , True),\n",
    "                        StructField(\"RatecodeID\"             , DoubleType()    , True),                            \n",
    "                        StructField(\"store_and_fwd_flag\"     , StringType()    , True),\n",
    "                        StructField(\"PULocationID\"           , IntegerType()   , True),\n",
    "                        StructField(\"DOLocationID\"           , IntegerType()   , True),                            \n",
    "                        StructField(\"payment_type\"           , IntegerType()   , True),                            \n",
    "                        StructField(\"fare_amount\"            , DoubleType()    , True),\n",
    "                        StructField(\"extra\"                  , DoubleType()    , True),\n",
    "                        StructField(\"mta_tax\"                , DoubleType()    , True),\n",
    "                        StructField(\"tip_amount\"             , DoubleType()    , True),\n",
    "                        StructField(\"tolls_amount\"           , DoubleType()    , True),\n",
    "                        StructField(\"improvement_surcharge\"  , DoubleType()    , True),\n",
    "                        StructField(\"total_amount\"           , DoubleType()    , True),\n",
    "                        StructField(\"congestion_surcharge\"   , DoubleType()    , True),\n",
    "                        StructField(\"airport_fee\"            , DoubleType()    , True)\n",
    "                    ])\n",
    "               )"
   ]
  },
  {
   "cell_type": "code",
   "execution_count": 4,
   "id": "d559895d",
   "metadata": {},
   "outputs": [
    {
     "name": "stdout",
     "output_type": "stream",
     "text": [
      "root\n",
      " |-- VendorId: integer (nullable = true)\n",
      " |-- lpep_pickup_datetime: timestamp (nullable = true)\n",
      " |-- lpep_dropoff_datetime: timestamp (nullable = true)\n",
      " |-- passenger_count: double (nullable = true)\n",
      " |-- trip_distance: double (nullable = true)\n",
      " |-- RatecodeID: double (nullable = true)\n",
      " |-- store_and_fwd_flag: string (nullable = true)\n",
      " |-- PULocationID: integer (nullable = true)\n",
      " |-- DOLocationID: integer (nullable = true)\n",
      " |-- payment_type: integer (nullable = true)\n",
      " |-- fare_amount: double (nullable = true)\n",
      " |-- extra: double (nullable = true)\n",
      " |-- mta_tax: double (nullable = true)\n",
      " |-- tip_amount: double (nullable = true)\n",
      " |-- tolls_amount: double (nullable = true)\n",
      " |-- improvement_surcharge: double (nullable = true)\n",
      " |-- total_amount: double (nullable = true)\n",
      " |-- congestion_surcharge: double (nullable = true)\n",
      " |-- airport_fee: double (nullable = true)\n",
      "\n"
     ]
    }
   ],
   "source": [
    "yellowTaxiDf = (\n",
    "    spark\n",
    "    .read\n",
    "    .option(\"header\", \"true\")\n",
    "    .schema(taxiSchema)\n",
    "    .csv(\"C:\\DataFiles\\YellowTaxis_202210.csv\")\n",
    ")\n",
    "yellowTaxiDf.printSchema()"
   ]
  },
  {
   "cell_type": "code",
   "execution_count": 5,
   "id": "9fb4beb3",
   "metadata": {},
   "outputs": [],
   "source": [
    "yellowTaxiDf.createOrReplaceTempView(\"yellowTaxis\")"
   ]
  },
  {
   "cell_type": "code",
   "execution_count": 6,
   "id": "3c266d33",
   "metadata": {},
   "outputs": [
    {
     "name": "stdout",
     "output_type": "stream",
     "text": [
      "root\n",
      " |-- LocationID: integer (nullable = true)\n",
      " |-- Borough: string (nullable = true)\n",
      " |-- Zone: string (nullable = true)\n",
      " |-- serviceZone: string (nullable = true)\n",
      "\n"
     ]
    }
   ],
   "source": [
    "taxiZoneSchema = \"LocationID INT, Borough STRING, Zone STRING, serviceZone STRING\"\n",
    "\n",
    "taxiZonesDf = (\n",
    "    spark\n",
    "    .read\n",
    "    .schema(taxiZoneSchema)\n",
    "    .csv(\"C:\\DataFiles\\TaxiZones.csv\")\n",
    ")\n",
    "\n",
    "taxiZonesDf.createOrReplaceTempView(\"TaxiZones\")\n",
    "taxiZonesDf.printSchema()"
   ]
  },
  {
   "cell_type": "code",
   "execution_count": 8,
   "id": "3f009b20",
   "metadata": {},
   "outputs": [
    {
     "ename": "SyntaxError",
     "evalue": "invalid syntax (3118549280.py, line 3)",
     "output_type": "error",
     "traceback": [
      "\u001b[1;36m  Cell \u001b[1;32mIn[8], line 3\u001b[1;36m\u001b[0m\n\u001b[1;33m    .join\u001b[0m\n\u001b[1;37m    ^\u001b[0m\n\u001b[1;31mSyntaxError\u001b[0m\u001b[1;31m:\u001b[0m invalid syntax\n"
     ]
    }
   ],
   "source": [
    "joinedDf = (\n",
    "    yellowTaxiDf,\n",
    "    .join\n",
    "    (\n",
    "        taxiZonesDf,\n",
    "        yellowTaxiDf.PULocationID == taxiZonesDF.LocationID\n",
    "        \"inner\"\n",
    "    )\n",
    ")\n",
    "joinedDf.printSchema()"
   ]
  },
  {
   "cell_type": "code",
   "execution_count": 11,
   "id": "8e788514",
   "metadata": {},
   "outputs": [
    {
     "name": "stdout",
     "output_type": "stream",
     "text": [
      "root\n",
      " |-- DriverLicenseNumber: integer (nullable = true)\n",
      " |-- Name: string (nullable = true)\n",
      " |-- Type: string (nullable = true)\n",
      " |-- ExpirationDate: string (nullable = true)\n",
      " |-- LastDateUpdated: string (nullable = true)\n",
      "\n",
      "+-------------------+--------------------+--------------------+--------------+---------------+\n",
      "|DriverLicenseNumber|                Name|                Type|ExpirationDate|LastDateUpdated|\n",
      "+-------------------+--------------------+--------------------+--------------+---------------+\n",
      "|            5430898|   ABDEL-BAR,ESLAM,M|MEDALLION TAXI DR...|    04/12/2023|     04/22/2020|\n",
      "|            5363749|ABDOUSAMADOV,ALIC...|MEDALLION TAXI DR...|    06/01/2020|     04/22/2020|\n",
      "|            5534446|  ABDUHALIKOV,RUSTAM|MEDALLION TAXI DR...|    06/16/2020|     04/22/2020|\n",
      "|            5935702|   ABDULLAEV,JONIBEK|MEDALLION TAXI DR...|    03/14/2022|     04/22/2020|\n",
      "|            5255097|ABDULNABI,MASHHOUR,H|MEDALLION TAXI DR...|    03/16/2021|     04/22/2020|\n",
      "|            5778633|ABDUSALOMOV,IKROMJON|MEDALLION TAXI DR...|    06/02/2023|     04/22/2020|\n",
      "|            5934755|ABDUVOKHIDOV,MURO...|MEDALLION TAXI DR...|    02/27/2022|     04/22/2020|\n",
      "|             443085|         ABEDIN,MD,J|MEDALLION TAXI DR...|    11/28/2020|     04/22/2020|\n",
      "|            5206734|ABUAL-AINAIN,OSAMA,S|MEDALLION TAXI DR...|    07/06/2020|     04/22/2020|\n",
      "|            5891245|      ABUTIDZE,LEVAN|MEDALLION TAXI DR...|    09/11/2021|     04/22/2020|\n",
      "|            5939698|ADAMES DICENT,HEC...|MEDALLION TAXI DR...|    06/27/2022|     04/22/2020|\n",
      "|            5856128|     AGLAGUEL,ADNANE|MEDALLION TAXI DR...|    03/20/2021|     04/22/2020|\n",
      "|            5702245|      AHAMED,TANVEER|MEDALLION TAXI DR...|    06/30/2022|     04/22/2020|\n",
      "|            5596480|AHMAD,FIRAS,HAMAM...|MEDALLION TAXI DR...|    05/11/2022|     04/22/2020|\n",
      "|            5570416|      AHMAD,IFTEKHAR|MEDALLION TAXI DR...|    12/04/2020|     04/22/2020|\n",
      "|            5526240|        AHMAD,JAWAID|MEDALLION TAXI DR...|    04/22/2023|     04/22/2020|\n",
      "|            5741789|         AHMAD,MALAK|MEDALLION TAXI DR...|    01/20/2023|     04/22/2020|\n",
      "|            5448948|        AHMAD,SABBIR|MEDALLION TAXI DR...|    11/20/2020|     04/22/2020|\n",
      "|             439779|      AHMAD,ZULFEQAR|MEDALLION TAXI DR...|    05/21/2022|     04/22/2020|\n",
      "|            5895140|AHMED KHAN,MOHAMM...|MEDALLION TAXI DR...|    10/23/2021|     04/22/2020|\n",
      "+-------------------+--------------------+--------------------+--------------+---------------+\n",
      "only showing top 20 rows\n",
      "\n"
     ]
    }
   ],
   "source": [
    "driversDf = (\n",
    "    spark\n",
    "    .read\n",
    "    .option(\"header\", \"true\")\n",
    "    .option(\"inferSchema\", \"true\")\n",
    "    .csv(\"C:\\DataFiles\\Drivers.csv\")\n",
    ")\n",
    "\n",
    "driversDf.createOrReplaceTempView(\"drivers\")\n",
    "driversDf.printSchema()\n",
    "driversDf.show()"
   ]
  },
  {
   "cell_type": "code",
   "execution_count": 13,
   "id": "50e1b73e",
   "metadata": {},
   "outputs": [
    {
     "name": "stdout",
     "output_type": "stream",
     "text": [
      "root\n",
      " |-- CabNumber: string (nullable = true)\n",
      " |-- VehicleLicenseNumber: string (nullable = true)\n",
      " |-- Name: string (nullable = true)\n",
      " |-- LicenseType: string (nullable = true)\n",
      " |-- Active: string (nullable = true)\n",
      " |-- PermitLicenseNumber: string (nullable = true)\n",
      " |-- VehicleVinNumber: string (nullable = true)\n",
      " |-- WheelchairAccessible: string (nullable = true)\n",
      " |-- VehicleYear: integer (nullable = true)\n",
      " |-- VehicleType: string (nullable = true)\n",
      " |-- TelephoneNumber: string (nullable = true)\n",
      " |-- Website: string (nullable = true)\n",
      " |-- Address: string (nullable = true)\n",
      " |-- LastDateUpdated: string (nullable = true)\n",
      "\n",
      "+---------+--------------------+--------------------+----------------+------+-------------------+-----------------+--------------------+-----------+-----------+---------------+--------------------+--------------------+---------------+\n",
      "|CabNumber|VehicleLicenseNumber|                Name|     LicenseType|Active|PermitLicenseNumber| VehicleVinNumber|WheelchairAccessible|VehicleYear|VehicleType|TelephoneNumber|             Website|             Address|LastDateUpdated|\n",
      "+---------+--------------------+--------------------+----------------+------+-------------------+-----------------+--------------------+-----------+-----------+---------------+--------------------+--------------------+---------------+\n",
      "| T802127C|              C19641|          ABCON INC.|OWNER MUST DRIVE|   YES|               NULL|5TDBK3EH0DS268018|                NULL|       2016|       NULL|  (718)438-1100|                NULL|41-24   38 STREET...|     04/22/2020|\n",
      "| T525963C|             5362996| ACCEPTABLE TAXI LLC|    NAMED DRIVER|   YES|               NULL|JTDZN3EU1GJ044907|                NULL|       2016|       NULL|  (718)375-1001|                NULL|2395 CONEY ISLAND...|     04/22/2020|\n",
      "| T457353C|             5122403|      ALLIS CAB CORP|    NAMED DRIVER|   YES|               NULL|4T1BD1FK9FU150746|                NULL|       2013|       NULL|  (212)927-4600|                NULL|2400 AMSTERDAM AV...|     04/22/2020|\n",
      "| T606373C|             5386507|       BENE CAB CORP|    NAMED DRIVER|   YES|              AC992|4T1BD1FK1EU137360|                NULL|       2015|       NULL|  (718)472-9800|                NULL|29 - 10   36 AVEN...|     04/22/2020|\n",
      "| T451536C|             5143151|   BOULOS TAXI CORP.|    NAMED DRIVER|   YES|               NULL|4T1BD1FK8FU142430|                NULL|       2017|       NULL|  (718)971-5639|                NULL|636 WEST   28 STR...|     04/22/2020|\n",
      "| T500313C|             5268004|     CACERES,JAIME,P|OWNER MUST DRIVE|   YES|               NULL|4T1BF1FK8FU477889|                NULL|       2015|       NULL|  (516)861-2019|                NULL|62 MAIN STREET PT...|     04/22/2020|\n",
      "| T484321C|             5238526|CALCIUM ONE SERVI...|    NAMED DRIVER|   YES|               NULL|4T1BD1FK4FU176834|                NULL|       2017|       NULL|  (718)971-5559|WWW.DRIVEUBERNYC.COM|636 WEST   28 STR...|     04/22/2020|\n",
      "| T663612C|             5386120|     CHARLES,WILBERT|OWNER MUST DRIVE|   YES|               NULL|JTMRJREV1HD120102|                NULL|       2015|       NULL|  (718)658-5700|                NULL|135-10 JAMAICA AV...|     04/22/2020|\n",
      "| T725323C|             5171032|      CHAWKI,MICHAEL|OWNER MUST DRIVE|   YES|               NULL|1FMCU4K35AKA35795|                NULL|       2016|       NULL|  (646)665-3514|    DRIVEUBERNYC.COM|636 WEST   28 STR...|     04/22/2020|\n",
      "| T519718C|             5330235|CHRYSOVALANTOU CORP,|    NAMED DRIVER|   YES|               NULL|4T1BD1FK4FU149276|                NULL|       2017|       NULL|  (718)515-5555|WWW.BESTDEALCARSE...|757 A BURKE AVENU...|     04/22/2020|\n",
      "| T664587C|             5588056|     COFI BOAT CORP.|OWNER MUST DRIVE|   YES|               NULL|JTMRJREV5GD012564|                NULL|       2016|       NULL|  (212)666-6666|                NULL|2642 BROADWAY NY ...|     04/22/2020|\n",
      "| ELITE346|              F37515| DEKEL TAXI CAB CORP|    NAMED DRIVER|   YES|               NULL|4T1BD1FK4FU163789|                NULL|       2019|       NULL|  (718)472-2300|                NULL|32-72 GALE AVENUE...|     04/22/2020|\n",
      "| T621614C|             5453341|FLORIAN & ROBERT INC|    NAMED DRIVER|   YES|               NULL|JTDZN3EU3E3306122|                NULL|       2012|       NULL|  (718)543-0001|                NULL|3107 KINGSBRIDGE ...|     04/22/2020|\n",
      "| T714073C|             5385905|       GART CAB CORP|    NAMED DRIVER|   YES|               NULL|3N8CM0JT9EK702820|                NULL|       2016|       NULL|  (718)971-5559|         ZWEINYC.COM|636 WEST   28 STR...|     04/22/2020|\n",
      "| T655723C|             5553705|    GAUTHIER,JACQUES|OWNER MUST DRIVE|   YES|               NULL|1FMCU4K35CKA37551|                NULL|       2016|       NULL|  (212)431-5555|                NULL|11-35   31 DRIVE ...|     04/22/2020|\n",
      "| T600330C|              V75262|GEORGAKOPOULOS, G...|    NAMED DRIVER|   YES|               NULL|2FABP7AV7BX148809|                NULL|       2010|       NULL|  (646)665-7584|                NULL|636 WEST   28 STR...|     04/22/2020|\n",
      "| T652698C|             5552919|      GUJAR CAB CORP|    NAMED DRIVER|   YES|               NULL|1FMCU4K35CKA85955|                NULL|       2015|       NULL|  (646)665-7540|     WWW.ELFNYC1.COM|636 WEST   28 STR...|     04/22/2020|\n",
      "| T624038C|             5438429|     HUEZO, SALVADOR|OWNER MUST DRIVE|   YES|               NULL|3N8CM0JT3GK701911|                NULL|       2019|       NULL|  (646)665-7304|    DRIVEUBERNYC.COM|636 WEST   28 STR...|     04/22/2020|\n",
      "| ELITE903|             5388274|   JEAN-PIERRE,SERGE|OWNER MUST DRIVE|   YES|               NULL|5TDZK3DCXGS706794|                NULL|       2014|       NULL|  (718)472-2300|                NULL|32-72 GALE AVENUE...|     04/22/2020|\n",
      "| T487069C|             5250818|      JETS CAB CORP.|    NAMED DRIVER|   YES|               NULL|JTMRJREV8HD120663|                NULL|       2016|       NULL|  (646)665-7402|                NULL|636 WEST   28 STR...|     04/22/2020|\n",
      "+---------+--------------------+--------------------+----------------+------+-------------------+-----------------+--------------------+-----------+-----------+---------------+--------------------+--------------------+---------------+\n",
      "only showing top 20 rows\n",
      "\n"
     ]
    }
   ],
   "source": [
    "cabsDf = (\n",
    "    spark\n",
    "    .read\n",
    "    .option(\"header\", \"true\")\n",
    "    .option(\"inferSchema\", \"true\")\n",
    "    .csv(\"C:\\DataFiles\\Cabs.csv\")\n",
    ")\n",
    "\n",
    "cabsDf.createOrReplaceTempView(\"cabs\")\n",
    "cabsDf.printSchema()\n",
    "cabsDf.show()\n"
   ]
  },
  {
   "cell_type": "code",
   "execution_count": 14,
   "id": "78754097",
   "metadata": {},
   "outputs": [
    {
     "data": {
      "text/plain": [
       "8970"
      ]
     },
     "execution_count": 14,
     "metadata": {},
     "output_type": "execute_result"
    }
   ],
   "source": [
    "#create list of all drivers\n",
    "\n",
    "(spark.sql(\"\"\"\n",
    "(\n",
    "select Name from cabs where LicenseType = 'OWNER MUST DRIVE'\n",
    ")\n",
    "union\n",
    "(select name from drivers)\n",
    "\"\"\")\n",
    ").count()"
   ]
  },
  {
   "cell_type": "code",
   "execution_count": null,
   "id": "2bb74a9d",
   "metadata": {},
   "outputs": [],
   "source": []
  }
 ],
 "metadata": {
  "kernelspec": {
   "display_name": "Python 3 (ipykernel)",
   "language": "python",
   "name": "python3"
  },
  "language_info": {
   "codemirror_mode": {
    "name": "ipython",
    "version": 3
   },
   "file_extension": ".py",
   "mimetype": "text/x-python",
   "name": "python",
   "nbconvert_exporter": "python",
   "pygments_lexer": "ipython3",
   "version": "3.11.5"
  }
 },
 "nbformat": 4,
 "nbformat_minor": 5
}

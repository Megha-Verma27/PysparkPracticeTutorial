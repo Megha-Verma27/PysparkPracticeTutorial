{
 "cells": [
  {
   "cell_type": "code",
   "execution_count": 1,
   "id": "22485f7e",
   "metadata": {},
   "outputs": [
    {
     "data": {
      "text/plain": [
       "'C:\\\\Users\\\\Admin\\\\anaconda3\\\\envs\\\\SparkEnvironment\\\\Lib\\\\site-packages\\\\pyspark'"
      ]
     },
     "execution_count": 1,
     "metadata": {},
     "output_type": "execute_result"
    }
   ],
   "source": [
    "import findspark\n",
    "findspark.init()\n",
    "findspark.find()"
   ]
  },
  {
   "cell_type": "code",
   "execution_count": 2,
   "id": "8e3acd08",
   "metadata": {},
   "outputs": [
    {
     "data": {
      "text/html": [
       "\n",
       "            <div>\n",
       "                <p><b>SparkSession - in-memory</b></p>\n",
       "                \n",
       "        <div>\n",
       "            <p><b>SparkContext</b></p>\n",
       "\n",
       "            <p><a href=\"http://192.168.86.219:4040\">Spark UI</a></p>\n",
       "\n",
       "            <dl>\n",
       "              <dt>Version</dt>\n",
       "                <dd><code>v3.5.0</code></dd>\n",
       "              <dt>Master</dt>\n",
       "                <dd><code>local[4]</code></dd>\n",
       "              <dt>AppName</dt>\n",
       "                <dd><code>sparkJoinApp</code></dd>\n",
       "            </dl>\n",
       "        </div>\n",
       "        \n",
       "            </div>\n",
       "        "
      ],
      "text/plain": [
       "<pyspark.sql.session.SparkSession at 0x2647ff5fb10>"
      ]
     },
     "execution_count": 2,
     "metadata": {},
     "output_type": "execute_result"
    }
   ],
   "source": [
    "from pyspark.sql import SparkSession\n",
    "from pyspark.sql.types import *\n",
    "from pyspark.sql.functions import *\n",
    "\n",
    "spark = (\n",
    "    SparkSession\n",
    "    .builder\n",
    "    .appName(\"sparkJoinApp\")\n",
    "    .master(\"local[4]\")\n",
    "    .config(\"spark.dynamicAloocation.enabled\", \"false\")\n",
    "    .config(\"spark.sql.adaptive\", \"false\")\n",
    "    .getOrCreate()\n",
    ")\n",
    "\n",
    "sc = spark.sparkContext\n",
    "\n",
    "spark"
   ]
  },
  {
   "cell_type": "code",
   "execution_count": 3,
   "id": "c9794d77",
   "metadata": {},
   "outputs": [
    {
     "data": {
      "text/plain": [
       "'10485760b'"
      ]
     },
     "execution_count": 3,
     "metadata": {},
     "output_type": "execute_result"
    }
   ],
   "source": [
    "spark.conf.get(\"spark.sql.autoBroadcastJoinThreshold\")"
   ]
  },
  {
   "cell_type": "code",
   "execution_count": 4,
   "id": "df15564d",
   "metadata": {},
   "outputs": [],
   "source": [
    "spark.conf.set(\"spark.sql.autoBroadcasJoinThreshold\", \"-1\")"
   ]
  },
  {
   "cell_type": "code",
   "execution_count": 5,
   "id": "5b97f607",
   "metadata": {},
   "outputs": [],
   "source": [
    "# Create schema for Yellow Taxi Data\n",
    " \n",
    "taxiSchema = (\n",
    "                    StructType\n",
    "                    ([ \n",
    "                        StructField(\"VendorId\"               , IntegerType()   , True),\n",
    "                        StructField(\"lpep_pickup_datetime\"   , TimestampType() , True),\n",
    "                        StructField(\"lpep_dropoff_datetime\"  , TimestampType() , True),                            \n",
    "                        StructField(\"passenger_count\"        , DoubleType()    , True),\n",
    "                        StructField(\"trip_distance\"          , DoubleType()    , True),\n",
    "                        StructField(\"RatecodeID\"             , DoubleType()    , True),                            \n",
    "                        StructField(\"store_and_fwd_flag\"     , StringType()    , True),\n",
    "                        StructField(\"PULocationID\"           , IntegerType()   , True),\n",
    "                        StructField(\"DOLocationID\"           , IntegerType()   , True),                            \n",
    "                        StructField(\"payment_type\"           , IntegerType()   , True),                            \n",
    "                        StructField(\"fare_amount\"            , DoubleType()    , True),\n",
    "                        StructField(\"extra\"                  , DoubleType()    , True),\n",
    "                        StructField(\"mta_tax\"                , DoubleType()    , True),\n",
    "                        StructField(\"tip_amount\"             , DoubleType()    , True),\n",
    "                        StructField(\"tolls_amount\"           , DoubleType()    , True),\n",
    "                        StructField(\"improvement_surcharge\"  , DoubleType()    , True),\n",
    "                        StructField(\"total_amount\"           , DoubleType()    , True),\n",
    "                        StructField(\"congestion_surcharge\"   , DoubleType()    , True),\n",
    "                        StructField(\"airport_fee\"            , DoubleType()    , True)\n",
    "                    ])\n",
    "               )\n"
   ]
  },
  {
   "cell_type": "code",
   "execution_count": 6,
   "id": "ab0fa6eb",
   "metadata": {},
   "outputs": [
    {
     "name": "stdout",
     "output_type": "stream",
     "text": [
      "root\n",
      " |-- VendorId: integer (nullable = true)\n",
      " |-- lpep_pickup_datetime: timestamp (nullable = true)\n",
      " |-- lpep_dropoff_datetime: timestamp (nullable = true)\n",
      " |-- passenger_count: double (nullable = true)\n",
      " |-- trip_distance: double (nullable = true)\n",
      " |-- RatecodeID: double (nullable = true)\n",
      " |-- store_and_fwd_flag: string (nullable = true)\n",
      " |-- PULocationID: integer (nullable = true)\n",
      " |-- DOLocationID: integer (nullable = true)\n",
      " |-- payment_type: integer (nullable = true)\n",
      " |-- fare_amount: double (nullable = true)\n",
      " |-- extra: double (nullable = true)\n",
      " |-- mta_tax: double (nullable = true)\n",
      " |-- tip_amount: double (nullable = true)\n",
      " |-- tolls_amount: double (nullable = true)\n",
      " |-- improvement_surcharge: double (nullable = true)\n",
      " |-- total_amount: double (nullable = true)\n",
      " |-- congestion_surcharge: double (nullable = true)\n",
      " |-- airport_fee: double (nullable = true)\n",
      "\n"
     ]
    }
   ],
   "source": [
    "yellowTaxiDf = (\n",
    "    spark\n",
    "    .read\n",
    "    .option(\"header\", \"true\")\n",
    "    .schema(taxiSchema)\n",
    "    .csv(\"C:\\DataFiles\\YellowTaxis_202210.csv\")\n",
    ")\n",
    "yellowTaxiDf.printSchema()"
   ]
  },
  {
   "cell_type": "code",
   "execution_count": 7,
   "id": "591dccc9",
   "metadata": {},
   "outputs": [],
   "source": [
    "taxiZoneSchema = \"LocationID INT, Borough STRING, Zone STRING, serviceZone STRING\"\n",
    "\n",
    "taxiZonesDf = (\n",
    "    spark\n",
    "    .read\n",
    "    .schema(taxiZoneSchema)\n",
    "    .csv(\"C:\\DataFiles\\TaxiZones.csv\")\n",
    ")\n",
    "\n"
   ]
  },
  {
   "cell_type": "code",
   "execution_count": 10,
   "id": "9e620901",
   "metadata": {},
   "outputs": [
    {
     "name": "stdout",
     "output_type": "stream",
     "text": [
      "+--------+--------------------+---------------------+---------------+-------------+----------+------------------+------------+------------+------------+-----------+-----+-------+----------+------------+---------------------+------------+--------------------+-----------+----------+---------+--------------------+-----------+\n",
      "|VendorId|lpep_pickup_datetime|lpep_dropoff_datetime|passenger_count|trip_distance|RatecodeID|store_and_fwd_flag|PULocationID|DOLocationID|payment_type|fare_amount|extra|mta_tax|tip_amount|tolls_amount|improvement_surcharge|total_amount|congestion_surcharge|airport_fee|LocationID|  Borough|                Zone|serviceZone|\n",
      "+--------+--------------------+---------------------+---------------+-------------+----------+------------------+------------+------------+------------+-----------+-----+-------+----------+------------+---------------------+------------+--------------------+-----------+----------+---------+--------------------+-----------+\n",
      "|       1| 2022-10-01 05:33:41|  2022-10-01 05:48:39|            1.0|          1.7|       1.0|                 N|         249|         107|           1|        9.5|  3.0|    0.5|      2.65|         0.0|                  0.3|       15.95|                 2.5|        0.0|       249|Manhattan|        West Village|Yellow Zone|\n",
      "|       2| 2022-10-01 05:44:30|  2022-10-01 05:49:48|            2.0|         0.72|       1.0|                 N|         151|         238|           2|        5.5|  0.5|    0.5|       0.0|         0.0|                  0.3|         9.3|                 2.5|        0.0|       151|Manhattan|    Manhattan Valley|Yellow Zone|\n",
      "|       2| 2022-10-01 05:57:13|  2022-10-01 06:07:41|            1.0|         1.74|       1.0|                 N|         238|         166|           1|        9.0|  0.5|    0.5|      2.06|         0.0|                  0.3|       12.36|                 0.0|        0.0|       238|Manhattan|Upper West Side N...|Yellow Zone|\n",
      "|       1| 2022-10-01 06:02:53|  2022-10-01 06:08:55|            0.0|          1.3|       1.0|                 N|         142|         239|           1|        6.5|  3.0|    0.5|      2.05|         0.0|                  0.3|       12.35|                 2.5|        0.0|       142|Manhattan| Lincoln Square East|Yellow Zone|\n",
      "|       1| 2022-10-01 06:14:55|  2022-10-01 06:20:21|            0.0|          1.0|       1.0|                 N|         238|         166|           1|        6.0|  0.5|    0.5|       1.8|         0.0|                  0.3|         9.1|                 0.0|        0.0|       238|Manhattan|Upper West Side N...|Yellow Zone|\n",
      "|       1| 2022-10-01 05:52:52|  2022-10-01 06:22:14|            1.0|          6.8|       1.0|                 Y|         186|          41|           2|       25.5|  3.0|    0.5|       0.0|         0.0|                  0.3|        29.3|                 2.5|        0.0|       186|Manhattan|Penn Station/Madi...|Yellow Zone|\n",
      "|       2| 2022-10-01 06:03:19|  2022-10-01 06:14:51|            3.0|         1.88|       1.0|                 N|         162|         145|           2|       10.5|  0.5|    0.5|       0.0|         0.0|                  0.3|        14.3|                 2.5|        0.0|       162|Manhattan|        Midtown East|Yellow Zone|\n",
      "|       1| 2022-10-01 05:32:42|  2022-10-01 06:20:01|            1.0|         12.2|       1.0|                 N|         100|          22|           1|       41.0|  3.0|    0.5|       3.0|         0.0|                  0.3|        47.8|                 2.5|        0.0|       100|Manhattan|    Garment District|Yellow Zone|\n",
      "|       2| 2022-10-01 05:36:35|  2022-10-01 05:54:38|            1.0|         7.79|       1.0|                 N|         138|         112|           1|       23.5|  0.5|    0.5|      4.96|         0.0|                  0.3|       31.01|                 0.0|       1.25|       138|   Queens|   LaGuardia Airport|   Airports|\n",
      "|       2| 2022-10-01 05:59:25|  2022-10-01 06:13:15|            1.0|         4.72|       1.0|                 N|         145|          75|           1|       14.5|  0.5|    0.5|       1.5|         0.0|                  0.3|        19.8|                 2.5|        0.0|       145|   Queens|Long Island City/...|  Boro Zone|\n",
      "|       1| 2022-10-01 05:31:55|  2022-10-01 05:50:16|            1.0|          8.8|       1.0|                 N|         138|         236|           1|       26.0| 4.25|    0.5|      5.64|        6.55|                  0.3|       43.24|                 2.5|       1.25|       138|   Queens|   LaGuardia Airport|   Airports|\n",
      "|       1| 2022-10-01 05:57:48|  2022-10-01 06:29:50|            1.0|          8.6|       1.0|                 N|         140|          36|           1|       29.5|  3.0|    0.5|       6.0|         0.0|                  0.3|        39.3|                 2.5|        0.0|       140|Manhattan|     Lenox Hill East|Yellow Zone|\n",
      "|       1| 2022-10-01 05:35:27|  2022-10-01 06:05:33|            4.0|         12.0|       1.0|                 N|          70|         230|           2|       36.5|  3.0|    0.5|       0.0|        6.55|                  0.3|       46.85|                 2.5|        0.0|        70|   Queens|       East Elmhurst|  Boro Zone|\n",
      "|       1| 2022-10-01 06:08:53|  2022-10-01 06:18:13|            2.0|          1.4|       1.0|                 N|         230|          68|           1|        8.5|  3.0|    0.5|      3.05|         0.0|                  0.3|       15.35|                 2.5|        0.0|       230|Manhattan|Times Sq/Theatre ...|Yellow Zone|\n",
      "|       2| 2022-10-01 05:54:40|  2022-10-01 06:00:23|            1.0|         0.76|       1.0|                 N|          79|         113|           1|        5.5|  0.5|    0.5|      0.93|         0.0|                  0.3|       10.23|                 2.5|        0.0|        79|Manhattan|        East Village|Yellow Zone|\n",
      "|       2| 2022-10-01 06:02:22|  2022-10-01 06:28:55|            1.0|          7.8|       1.0|                 N|         113|         116|           1|       26.5|  0.5|    0.5|      6.06|         0.0|                  0.3|       36.36|                 2.5|        0.0|       113|Manhattan|Greenwich Village...|Yellow Zone|\n",
      "|       2| 2022-10-01 05:47:08|  2022-10-01 06:00:50|            2.0|          2.9|       1.0|                 N|          13|         249|           1|       12.0|  0.5|    0.5|       2.8|         0.0|                  0.3|        18.6|                 2.5|        0.0|        13|Manhattan|   Battery Park City|Yellow Zone|\n",
      "|       2| 2022-10-01 06:02:14|  2022-10-01 06:14:35|            1.0|         1.71|       1.0|                 N|         249|          79|           1|        9.0|  0.5|    0.5|      2.56|         0.0|                  0.3|       15.36|                 2.5|        0.0|       249|Manhattan|        West Village|Yellow Zone|\n",
      "|       2| 2022-10-01 05:39:24|  2022-10-01 05:51:45|            1.0|          2.3|       1.0|                 N|          48|         249|           1|       10.0|  0.5|    0.5|      2.76|         0.0|                  0.3|       16.56|                 2.5|        0.0|        48|Manhattan|        Clinton East|Yellow Zone|\n",
      "|       2| 2022-10-01 05:52:29|  2022-10-01 06:03:53|            2.0|         1.67|       1.0|                 N|         249|         224|           1|        8.5|  0.5|    0.5|      2.46|         0.0|                  0.3|       14.76|                 2.5|        0.0|       249|Manhattan|        West Village|Yellow Zone|\n",
      "+--------+--------------------+---------------------+---------------+-------------+----------+------------------+------------+------------+------------+-----------+-----+-------+----------+------------+---------------------+------------+--------------------+-----------+----------+---------+--------------------+-----------+\n",
      "only showing top 20 rows\n",
      "\n"
     ]
    }
   ],
   "source": [
    "joinedDf = (\n",
    "    yellowTaxiDf\n",
    "    .join(taxiZonesDf, \n",
    "      yellowTaxiDf.PULocationID == taxiZonesDf.LocationID,\n",
    "      \"inner\"\n",
    "     )\n",
    ")\n",
    "joinedDf.show()"
   ]
  },
  {
   "cell_type": "code",
   "execution_count": 11,
   "id": "5b0fc70b",
   "metadata": {},
   "outputs": [
    {
     "name": "stdout",
     "output_type": "stream",
     "text": [
      "+--------+--------------------+---------------------+---------------+-------------+----------+------------------+------------+------------+------------+-----------+-----+-------+----------+------------+---------------------+------------+--------------------+-----------+----------+---------+--------------------+-----------+\n",
      "|VendorId|lpep_pickup_datetime|lpep_dropoff_datetime|passenger_count|trip_distance|RatecodeID|store_and_fwd_flag|PULocationID|DOLocationID|payment_type|fare_amount|extra|mta_tax|tip_amount|tolls_amount|improvement_surcharge|total_amount|congestion_surcharge|airport_fee|LocationID|  Borough|                Zone|serviceZone|\n",
      "+--------+--------------------+---------------------+---------------+-------------+----------+------------------+------------+------------+------------+-----------+-----+-------+----------+------------+---------------------+------------+--------------------+-----------+----------+---------+--------------------+-----------+\n",
      "|       1| 2022-10-01 05:33:41|  2022-10-01 05:48:39|            1.0|          1.7|       1.0|                 N|         249|         107|           1|        9.5|  3.0|    0.5|      2.65|         0.0|                  0.3|       15.95|                 2.5|        0.0|       249|Manhattan|        West Village|Yellow Zone|\n",
      "|       2| 2022-10-01 05:44:30|  2022-10-01 05:49:48|            2.0|         0.72|       1.0|                 N|         151|         238|           2|        5.5|  0.5|    0.5|       0.0|         0.0|                  0.3|         9.3|                 2.5|        0.0|       151|Manhattan|    Manhattan Valley|Yellow Zone|\n",
      "|       2| 2022-10-01 05:57:13|  2022-10-01 06:07:41|            1.0|         1.74|       1.0|                 N|         238|         166|           1|        9.0|  0.5|    0.5|      2.06|         0.0|                  0.3|       12.36|                 0.0|        0.0|       238|Manhattan|Upper West Side N...|Yellow Zone|\n",
      "|       1| 2022-10-01 06:02:53|  2022-10-01 06:08:55|            0.0|          1.3|       1.0|                 N|         142|         239|           1|        6.5|  3.0|    0.5|      2.05|         0.0|                  0.3|       12.35|                 2.5|        0.0|       142|Manhattan| Lincoln Square East|Yellow Zone|\n",
      "|       1| 2022-10-01 06:14:55|  2022-10-01 06:20:21|            0.0|          1.0|       1.0|                 N|         238|         166|           1|        6.0|  0.5|    0.5|       1.8|         0.0|                  0.3|         9.1|                 0.0|        0.0|       238|Manhattan|Upper West Side N...|Yellow Zone|\n",
      "|       1| 2022-10-01 05:52:52|  2022-10-01 06:22:14|            1.0|          6.8|       1.0|                 Y|         186|          41|           2|       25.5|  3.0|    0.5|       0.0|         0.0|                  0.3|        29.3|                 2.5|        0.0|       186|Manhattan|Penn Station/Madi...|Yellow Zone|\n",
      "|       2| 2022-10-01 06:03:19|  2022-10-01 06:14:51|            3.0|         1.88|       1.0|                 N|         162|         145|           2|       10.5|  0.5|    0.5|       0.0|         0.0|                  0.3|        14.3|                 2.5|        0.0|       162|Manhattan|        Midtown East|Yellow Zone|\n",
      "|       1| 2022-10-01 05:32:42|  2022-10-01 06:20:01|            1.0|         12.2|       1.0|                 N|         100|          22|           1|       41.0|  3.0|    0.5|       3.0|         0.0|                  0.3|        47.8|                 2.5|        0.0|       100|Manhattan|    Garment District|Yellow Zone|\n",
      "|       2| 2022-10-01 05:36:35|  2022-10-01 05:54:38|            1.0|         7.79|       1.0|                 N|         138|         112|           1|       23.5|  0.5|    0.5|      4.96|         0.0|                  0.3|       31.01|                 0.0|       1.25|       138|   Queens|   LaGuardia Airport|   Airports|\n",
      "|       2| 2022-10-01 05:59:25|  2022-10-01 06:13:15|            1.0|         4.72|       1.0|                 N|         145|          75|           1|       14.5|  0.5|    0.5|       1.5|         0.0|                  0.3|        19.8|                 2.5|        0.0|       145|   Queens|Long Island City/...|  Boro Zone|\n",
      "|       1| 2022-10-01 05:31:55|  2022-10-01 05:50:16|            1.0|          8.8|       1.0|                 N|         138|         236|           1|       26.0| 4.25|    0.5|      5.64|        6.55|                  0.3|       43.24|                 2.5|       1.25|       138|   Queens|   LaGuardia Airport|   Airports|\n",
      "|       1| 2022-10-01 05:57:48|  2022-10-01 06:29:50|            1.0|          8.6|       1.0|                 N|         140|          36|           1|       29.5|  3.0|    0.5|       6.0|         0.0|                  0.3|        39.3|                 2.5|        0.0|       140|Manhattan|     Lenox Hill East|Yellow Zone|\n",
      "|       1| 2022-10-01 05:35:27|  2022-10-01 06:05:33|            4.0|         12.0|       1.0|                 N|          70|         230|           2|       36.5|  3.0|    0.5|       0.0|        6.55|                  0.3|       46.85|                 2.5|        0.0|        70|   Queens|       East Elmhurst|  Boro Zone|\n",
      "|       1| 2022-10-01 06:08:53|  2022-10-01 06:18:13|            2.0|          1.4|       1.0|                 N|         230|          68|           1|        8.5|  3.0|    0.5|      3.05|         0.0|                  0.3|       15.35|                 2.5|        0.0|       230|Manhattan|Times Sq/Theatre ...|Yellow Zone|\n",
      "|       2| 2022-10-01 05:54:40|  2022-10-01 06:00:23|            1.0|         0.76|       1.0|                 N|          79|         113|           1|        5.5|  0.5|    0.5|      0.93|         0.0|                  0.3|       10.23|                 2.5|        0.0|        79|Manhattan|        East Village|Yellow Zone|\n",
      "|       2| 2022-10-01 06:02:22|  2022-10-01 06:28:55|            1.0|          7.8|       1.0|                 N|         113|         116|           1|       26.5|  0.5|    0.5|      6.06|         0.0|                  0.3|       36.36|                 2.5|        0.0|       113|Manhattan|Greenwich Village...|Yellow Zone|\n",
      "|       2| 2022-10-01 05:47:08|  2022-10-01 06:00:50|            2.0|          2.9|       1.0|                 N|          13|         249|           1|       12.0|  0.5|    0.5|       2.8|         0.0|                  0.3|        18.6|                 2.5|        0.0|        13|Manhattan|   Battery Park City|Yellow Zone|\n",
      "|       2| 2022-10-01 06:02:14|  2022-10-01 06:14:35|            1.0|         1.71|       1.0|                 N|         249|          79|           1|        9.0|  0.5|    0.5|      2.56|         0.0|                  0.3|       15.36|                 2.5|        0.0|       249|Manhattan|        West Village|Yellow Zone|\n",
      "|       2| 2022-10-01 05:39:24|  2022-10-01 05:51:45|            1.0|          2.3|       1.0|                 N|          48|         249|           1|       10.0|  0.5|    0.5|      2.76|         0.0|                  0.3|       16.56|                 2.5|        0.0|        48|Manhattan|        Clinton East|Yellow Zone|\n",
      "|       2| 2022-10-01 05:52:29|  2022-10-01 06:03:53|            2.0|         1.67|       1.0|                 N|         249|         224|           1|        8.5|  0.5|    0.5|      2.46|         0.0|                  0.3|       14.76|                 2.5|        0.0|       249|Manhattan|        West Village|Yellow Zone|\n",
      "+--------+--------------------+---------------------+---------------+-------------+----------+------------------+------------+------------+------------+-----------+-----+-------+----------+------------+---------------------+------------+--------------------+-----------+----------+---------+--------------------+-----------+\n",
      "only showing top 20 rows\n",
      "\n"
     ]
    }
   ],
   "source": [
    "joinedDf = (\n",
    "    yellowTaxiDf\n",
    "    .join(\n",
    "        broadcast(taxiZonesDf), \n",
    "      yellowTaxiDf.PULocationID == taxiZonesDf.LocationID,\n",
    "      \"inner\"\n",
    "     )\n",
    ")\n",
    "joinedDf.show()"
   ]
  },
  {
   "cell_type": "code",
   "execution_count": 12,
   "id": "f6cc4b0b",
   "metadata": {},
   "outputs": [],
   "source": [
    "yellowTaxiDf.createOrReplaceTempView(\"YellowTaxis1_Unbucketed\")\n",
    "yellowTaxiDf.createOrReplaceTempView(\"YellowTaxis2_Unbucketed\")"
   ]
  },
  {
   "cell_type": "code",
   "execution_count": 14,
   "id": "4e93a52a",
   "metadata": {},
   "outputs": [
    {
     "name": "stdout",
     "output_type": "stream",
     "text": [
      "+--------+--------------------+---------------------+---------------+-------------+----------+------------------+------------+------------+------------+-----------+-----+-------+----------+------------+---------------------+------------+--------------------+-----------+--------+--------------------+---------------------+---------------+-------------+----------+------------------+------------+------------+------------+-----------+-----+-------+----------+------------+---------------------+------------+--------------------+-----------+\n",
      "|VendorId|lpep_pickup_datetime|lpep_dropoff_datetime|passenger_count|trip_distance|RatecodeID|store_and_fwd_flag|PULocationID|DOLocationID|payment_type|fare_amount|extra|mta_tax|tip_amount|tolls_amount|improvement_surcharge|total_amount|congestion_surcharge|airport_fee|VendorId|lpep_pickup_datetime|lpep_dropoff_datetime|passenger_count|trip_distance|RatecodeID|store_and_fwd_flag|PULocationID|DOLocationID|payment_type|fare_amount|extra|mta_tax|tip_amount|tolls_amount|improvement_surcharge|total_amount|congestion_surcharge|airport_fee|\n",
      "+--------+--------------------+---------------------+---------------+-------------+----------+------------------+------------+------------+------------+-----------+-----+-------+----------+------------+---------------------+------------+--------------------+-----------+--------+--------------------+---------------------+---------------+-------------+----------+------------------+------------+------------+------------+-----------+-----+-------+----------+------------+---------------------+------------+--------------------+-----------+\n",
      "|2       |2022-10-01 06:32:06 |2022-10-01 06:43:58  |1.0            |4.26         |1.0       |N                 |12          |52          |2           |14.0       |0.5  |0.5    |0.0       |0.0         |0.3                  |17.8        |2.5                 |0.0        |2       |2022-10-01 06:32:06 |2022-10-01 06:43:58  |1.0            |4.26         |1.0       |N                 |12          |52          |2           |14.0       |0.5  |0.5    |0.0       |0.0         |0.3                  |17.8        |2.5                 |0.0        |\n",
      "|2       |2022-10-01 06:32:06 |2022-10-01 06:43:58  |1.0            |4.26         |1.0       |N                 |12          |52          |2           |14.0       |0.5  |0.5    |0.0       |0.0         |0.3                  |17.8        |2.5                 |0.0        |2       |2022-10-01 16:12:42 |2022-10-01 16:29:04  |1.0            |5.7          |1.0       |N                 |12          |233         |1           |18.5       |0.0  |0.5    |4.36      |0.0         |0.3                  |26.16       |2.5                 |0.0        |\n",
      "|2       |2022-10-01 06:32:06 |2022-10-01 06:43:58  |1.0            |4.26         |1.0       |N                 |12          |52          |2           |14.0       |0.5  |0.5    |0.0       |0.0         |0.3                  |17.8        |2.5                 |0.0        |2       |2022-10-01 16:50:05 |2022-10-01 17:09:58  |1.0            |2.88         |1.0       |N                 |12          |45          |2           |14.0       |0.0  |0.5    |0.0       |0.0         |0.3                  |17.3        |2.5                 |0.0        |\n",
      "|2       |2022-10-01 06:32:06 |2022-10-01 06:43:58  |1.0            |4.26         |1.0       |N                 |12          |52          |2           |14.0       |0.5  |0.5    |0.0       |0.0         |0.3                  |17.8        |2.5                 |0.0        |2       |2022-10-01 16:31:48 |2022-10-01 16:50:04  |1.0            |2.67         |1.0       |N                 |12          |234         |1           |13.5       |0.0  |0.5    |3.0       |0.0         |0.3                  |19.8        |2.5                 |0.0        |\n",
      "|2       |2022-10-01 06:32:06 |2022-10-01 06:43:58  |1.0            |4.26         |1.0       |N                 |12          |52          |2           |14.0       |0.5  |0.5    |0.0       |0.0         |0.3                  |17.8        |2.5                 |0.0        |2       |2022-10-01 17:39:36 |2022-10-01 17:56:32  |2.0            |4.12         |1.0       |N                 |12          |48          |2           |15.5       |0.0  |0.5    |0.0       |0.0         |0.3                  |18.8        |2.5                 |0.0        |\n",
      "|2       |2022-10-01 06:32:06 |2022-10-01 06:43:58  |1.0            |4.26         |1.0       |N                 |12          |52          |2           |14.0       |0.5  |0.5    |0.0       |0.0         |0.3                  |17.8        |2.5                 |0.0        |2       |2022-10-01 17:31:10 |2022-10-01 18:10:09  |2.0            |22.95        |2.0       |N                 |12          |132         |1           |52.0       |0.0  |0.5    |11.06     |0.0         |0.3                  |66.36       |2.5                 |0.0        |\n",
      "|2       |2022-10-01 06:32:06 |2022-10-01 06:43:58  |1.0            |4.26         |1.0       |N                 |12          |52          |2           |14.0       |0.5  |0.5    |0.0       |0.0         |0.3                  |17.8        |2.5                 |0.0        |1       |2022-10-01 18:03:35 |2022-10-01 18:24:14  |2.0            |4.0          |1.0       |N                 |12          |186         |1           |16.5       |2.5  |0.5    |3.95      |0.0         |0.3                  |23.75       |2.5                 |0.0        |\n",
      "|2       |2022-10-01 06:32:06 |2022-10-01 06:43:58  |1.0            |4.26         |1.0       |N                 |12          |52          |2           |14.0       |0.5  |0.5    |0.0       |0.0         |0.3                  |17.8        |2.5                 |0.0        |2       |2022-10-01 18:50:47 |2022-10-01 19:24:55  |1.0            |5.24         |1.0       |N                 |12          |230         |1           |25.0       |0.0  |0.5    |5.66      |0.0         |0.3                  |33.96       |2.5                 |0.0        |\n",
      "|2       |2022-10-01 06:32:06 |2022-10-01 06:43:58  |1.0            |4.26         |1.0       |N                 |12          |52          |2           |14.0       |0.5  |0.5    |0.0       |0.0         |0.3                  |17.8        |2.5                 |0.0        |1       |2022-10-01 18:53:09 |2022-10-01 19:18:45  |2.0            |7.0          |1.0       |N                 |12          |163         |2           |25.0       |2.5  |0.5    |0.0       |0.0         |0.3                  |28.3        |2.5                 |0.0        |\n",
      "|2       |2022-10-01 06:32:06 |2022-10-01 06:43:58  |1.0            |4.26         |1.0       |N                 |12          |52          |2           |14.0       |0.5  |0.5    |0.0       |0.0         |0.3                  |17.8        |2.5                 |0.0        |2       |2022-10-01 18:45:37 |2022-10-01 18:49:35  |2.0            |0.83         |1.0       |N                 |12          |13          |1           |5.0        |0.0  |0.5    |1.66      |0.0         |0.3                  |9.96        |2.5                 |0.0        |\n",
      "|2       |2022-10-01 06:32:06 |2022-10-01 06:43:58  |1.0            |4.26         |1.0       |N                 |12          |52          |2           |14.0       |0.5  |0.5    |0.0       |0.0         |0.3                  |17.8        |2.5                 |0.0        |2       |2022-10-01 19:16:58 |2022-10-01 19:35:28  |2.0            |3.74         |1.0       |N                 |12          |246         |1           |15.5       |0.0  |0.5    |3.76      |0.0         |0.3                  |22.56       |2.5                 |0.0        |\n",
      "|2       |2022-10-01 06:32:06 |2022-10-01 06:43:58  |1.0            |4.26         |1.0       |N                 |12          |52          |2           |14.0       |0.5  |0.5    |0.0       |0.0         |0.3                  |17.8        |2.5                 |0.0        |2       |2022-10-01 20:12:37 |2022-10-01 20:26:25  |1.0            |2.56         |1.0       |N                 |12          |249         |2           |11.5       |0.0  |0.5    |0.0       |0.0         |0.3                  |14.8        |2.5                 |0.0        |\n",
      "|2       |2022-10-01 06:32:06 |2022-10-01 06:43:58  |1.0            |4.26         |1.0       |N                 |12          |52          |2           |14.0       |0.5  |0.5    |0.0       |0.0         |0.3                  |17.8        |2.5                 |0.0        |2       |2022-10-01 19:56:06 |2022-10-01 20:17:59  |1.0            |4.61         |1.0       |N                 |12          |100         |1           |18.5       |0.0  |0.5    |4.36      |0.0         |0.3                  |26.16       |2.5                 |0.0        |\n",
      "|2       |2022-10-01 06:32:06 |2022-10-01 06:43:58  |1.0            |4.26         |1.0       |N                 |12          |52          |2           |14.0       |0.5  |0.5    |0.0       |0.0         |0.3                  |17.8        |2.5                 |0.0        |2       |2022-10-01 19:48:43 |2022-10-01 20:09:01  |1.0            |4.8          |1.0       |N                 |12          |230         |1           |17.5       |0.0  |0.5    |4.16      |0.0         |0.3                  |24.96       |2.5                 |0.0        |\n",
      "|2       |2022-10-01 06:32:06 |2022-10-01 06:43:58  |1.0            |4.26         |1.0       |N                 |12          |52          |2           |14.0       |0.5  |0.5    |0.0       |0.0         |0.3                  |17.8        |2.5                 |0.0        |2       |2022-10-01 20:02:25 |2022-10-01 20:22:35  |1.0            |6.47         |1.0       |N                 |12          |230         |2           |22.0       |0.0  |0.5    |0.0       |0.0         |0.3                  |25.3        |2.5                 |0.0        |\n",
      "|2       |2022-10-01 06:32:06 |2022-10-01 06:43:58  |1.0            |4.26         |1.0       |N                 |12          |52          |2           |14.0       |0.5  |0.5    |0.0       |0.0         |0.3                  |17.8        |2.5                 |0.0        |2       |2022-10-01 20:06:33 |2022-10-01 20:21:11  |1.0            |1.79         |1.0       |N                 |12          |45          |1           |10.5       |0.0  |0.5    |2.76      |0.0         |0.3                  |16.56       |2.5                 |0.0        |\n",
      "|2       |2022-10-01 06:32:06 |2022-10-01 06:43:58  |1.0            |4.26         |1.0       |N                 |12          |52          |2           |14.0       |0.5  |0.5    |0.0       |0.0         |0.3                  |17.8        |2.5                 |0.0        |2       |2022-10-01 20:04:26 |2022-10-01 20:15:53  |1.0            |5.73         |1.0       |N                 |12          |233         |2           |17.5       |0.0  |0.5    |0.0       |0.0         |0.3                  |20.8        |2.5                 |0.0        |\n",
      "|2       |2022-10-01 06:32:06 |2022-10-01 06:43:58  |1.0            |4.26         |1.0       |N                 |12          |52          |2           |14.0       |0.5  |0.5    |0.0       |0.0         |0.3                  |17.8        |2.5                 |0.0        |1       |2022-10-01 20:31:37 |2022-10-01 21:23:16  |2.0            |29.9         |2.0       |N                 |12          |132         |1           |52.0       |2.5  |0.5    |4.7       |0.0         |0.3                  |60.0        |2.5                 |0.0        |\n",
      "|2       |2022-10-01 06:32:06 |2022-10-01 06:43:58  |1.0            |4.26         |1.0       |N                 |12          |52          |2           |14.0       |0.5  |0.5    |0.0       |0.0         |0.3                  |17.8        |2.5                 |0.0        |2       |2022-10-01 21:19:08 |2022-10-01 22:05:15  |4.0            |14.12        |1.0       |N                 |12          |47          |2           |43.5       |0.0  |0.5    |0.0       |0.0         |0.3                  |46.8        |2.5                 |0.0        |\n",
      "|2       |2022-10-01 06:32:06 |2022-10-01 06:43:58  |1.0            |4.26         |1.0       |N                 |12          |52          |2           |14.0       |0.5  |0.5    |0.0       |0.0         |0.3                  |17.8        |2.5                 |0.0        |2       |2022-10-01 20:36:57 |2022-10-01 21:01:39  |1.0            |5.16         |1.0       |N                 |12          |230         |1           |20.0       |0.0  |0.5    |5.82      |0.0         |0.3                  |29.12       |2.5                 |0.0        |\n",
      "+--------+--------------------+---------------------+---------------+-------------+----------+------------------+------------+------------+------------+-----------+-----+-------+----------+------------+---------------------+------------+--------------------+-----------+--------+--------------------+---------------------+---------------+-------------+----------+------------------+------------+------------+------------+-----------+-----+-------+----------+------------+---------------------+------------+--------------------+-----------+\n",
      "only showing top 20 rows\n",
      "\n"
     ]
    }
   ],
   "source": [
    "spark.sql(\"\"\"\n",
    "select * from YellowTaxis1_Unbucketed b1 join YellowTaxis2_Unbucketed b2 on b1.PULocationID = b2.PULocationID\n",
    "\"\"\").show(truncate = False)"
   ]
  },
  {
   "cell_type": "code",
   "execution_count": 15,
   "id": "953bdfdd",
   "metadata": {},
   "outputs": [],
   "source": [
    "(yellowTaxiDf\n",
    " .write\n",
    " .bucketBy(4, \"PULocationID\")\n",
    " .option(\"header\", \"true\")\n",
    " .option(\"dateFormat\", \"yyyy-MM-dd HH:mm:ss.S\")\n",
    " .mode(\"overwrite\")\n",
    " .format(\"csv\")\n",
    " .saveAsTable(\"YellowTaxis_PickupBucket\")\n",
    ")"
   ]
  },
  {
   "cell_type": "code",
   "execution_count": 16,
   "id": "ea9a9fb9",
   "metadata": {},
   "outputs": [],
   "source": [
    "(yellowTaxiDf\n",
    " .write\n",
    " .bucketBy(4, \"DOLocationID\")\n",
    " .option(\"header\", \"true\")\n",
    " .option(\"dateFormat\", \"yyyy-MM-dd HH:mm:ss.S\")\n",
    " .mode(\"overwrite\")\n",
    " .format(\"csv\")\n",
    " .saveAsTable(\"YellowTaxis_DropBucket\")\n",
    ")"
   ]
  },
  {
   "cell_type": "code",
   "execution_count": 17,
   "id": "edb6376c",
   "metadata": {},
   "outputs": [
    {
     "name": "stdout",
     "output_type": "stream",
     "text": [
      "+--------+--------------------+---------------------+---------------+-------------+----------+------------------+------------+------------+------------+-----------+-----+-------+----------+------------+---------------------+------------+--------------------+-----------+--------+--------------------+---------------------+---------------+-------------+----------+------------------+------------+------------+------------+-----------+-----+-------+----------+------------+---------------------+------------+--------------------+-----------+\n",
      "|VendorId|lpep_pickup_datetime|lpep_dropoff_datetime|passenger_count|trip_distance|RatecodeID|store_and_fwd_flag|PULocationID|DOLocationID|payment_type|fare_amount|extra|mta_tax|tip_amount|tolls_amount|improvement_surcharge|total_amount|congestion_surcharge|airport_fee|VendorId|lpep_pickup_datetime|lpep_dropoff_datetime|passenger_count|trip_distance|RatecodeID|store_and_fwd_flag|PULocationID|DOLocationID|payment_type|fare_amount|extra|mta_tax|tip_amount|tolls_amount|improvement_surcharge|total_amount|congestion_surcharge|airport_fee|\n",
      "+--------+--------------------+---------------------+---------------+-------------+----------+------------------+------------+------------+------------+-----------+-----+-------+----------+------------+---------------------+------------+--------------------+-----------+--------+--------------------+---------------------+---------------+-------------+----------+------------------+------------+------------+------------+-----------+-----+-------+----------+------------+---------------------+------------+--------------------+-----------+\n",
      "|2       |2022-10-06 05:26:53 |2022-10-06 05:48:20  |1.0            |7.62         |1.0       |N                 |12          |227         |1           |23.5       |0.5  |0.5    |5.46      |0.0         |0.3                  |32.76       |2.5                 |0.0        |2       |2022-10-01 06:23:19 |2022-10-01 06:27:10  |1.0            |0.81         |1.0       |N                 |87          |12          |1           |5.0        |0.5  |0.5    |1.76      |0.0         |0.3                  |10.56       |2.5                 |0.0        |\n",
      "|2       |2022-10-06 05:26:53 |2022-10-06 05:48:20  |1.0            |7.62         |1.0       |N                 |12          |227         |1           |23.5       |0.5  |0.5    |5.46      |0.0         |0.3                  |32.76       |2.5                 |0.0        |2       |2022-10-06 12:12:49 |2022-10-06 12:29:35  |1.0            |4.36         |1.0       |N                 |186         |12          |1           |16.0       |0.0  |0.5    |3.86      |0.0         |0.3                  |23.16       |2.5                 |0.0        |\n",
      "|2       |2022-10-06 05:26:53 |2022-10-06 05:48:20  |1.0            |7.62         |1.0       |N                 |12          |227         |1           |23.5       |0.5  |0.5    |5.46      |0.0         |0.3                  |32.76       |2.5                 |0.0        |2       |2022-10-01 08:01:00 |2022-10-01 08:13:39  |1.0            |2.85         |1.0       |N                 |79          |12          |2           |11.5       |0.5  |0.5    |0.0       |0.0         |0.3                  |15.3        |2.5                 |0.0        |\n",
      "|2       |2022-10-06 05:26:53 |2022-10-06 05:48:20  |1.0            |7.62         |1.0       |N                 |12          |227         |1           |23.5       |0.5  |0.5    |5.46      |0.0         |0.3                  |32.76       |2.5                 |0.0        |2       |2022-10-06 13:25:19 |2022-10-06 13:49:45  |1.0            |5.45         |1.0       |N                 |230         |12          |1           |21.0       |0.0  |0.5    |4.86      |0.0         |0.3                  |29.16       |2.5                 |0.0        |\n",
      "|2       |2022-10-06 05:26:53 |2022-10-06 05:48:20  |1.0            |7.62         |1.0       |N                 |12          |227         |1           |23.5       |0.5  |0.5    |5.46      |0.0         |0.3                  |32.76       |2.5                 |0.0        |2       |2022-10-06 13:15:38 |2022-10-06 13:31:41  |2.0            |4.3          |1.0       |N                 |68          |12          |2           |15.5       |0.0  |0.5    |0.0       |0.0         |0.3                  |18.8        |2.5                 |0.0        |\n",
      "|2       |2022-10-06 05:26:53 |2022-10-06 05:48:20  |1.0            |7.62         |1.0       |N                 |12          |227         |1           |23.5       |0.5  |0.5    |5.46      |0.0         |0.3                  |32.76       |2.5                 |0.0        |2       |2022-10-06 12:48:12 |2022-10-06 13:08:21  |4.0            |6.06         |1.0       |N                 |142         |12          |1           |20.0       |0.0  |0.5    |4.66      |0.0         |0.3                  |27.96       |2.5                 |0.0        |\n",
      "|2       |2022-10-06 05:26:53 |2022-10-06 05:48:20  |1.0            |7.62         |1.0       |N                 |12          |227         |1           |23.5       |0.5  |0.5    |5.46      |0.0         |0.3                  |32.76       |2.5                 |0.0        |1       |2022-10-06 13:21:32 |2022-10-06 14:02:26  |1.0            |6.0          |99.0      |N                 |239         |12          |1           |32.2       |0.0  |0.5    |0.0       |0.0         |0.3                  |33.0        |0.0                 |0.0        |\n",
      "|2       |2022-10-06 05:26:53 |2022-10-06 05:48:20  |1.0            |7.62         |1.0       |N                 |12          |227         |1           |23.5       |0.5  |0.5    |5.46      |0.0         |0.3                  |32.76       |2.5                 |0.0        |2       |2022-10-06 14:02:53 |2022-10-06 14:28:55  |1.0            |5.15         |1.0       |N                 |230         |12          |1           |20.5       |0.0  |0.5    |4.76      |0.0         |0.3                  |28.56       |2.5                 |0.0        |\n",
      "|2       |2022-10-06 05:26:53 |2022-10-06 05:48:20  |1.0            |7.62         |1.0       |N                 |12          |227         |1           |23.5       |0.5  |0.5    |5.46      |0.0         |0.3                  |32.76       |2.5                 |0.0        |1       |2022-10-06 13:41:17 |2022-10-06 13:50:28  |1.0            |1.0          |1.0       |N                 |13          |12          |2           |7.5        |2.5  |0.5    |0.0       |0.0         |0.3                  |10.8        |2.5                 |0.0        |\n",
      "|2       |2022-10-06 05:26:53 |2022-10-06 05:48:20  |1.0            |7.62         |1.0       |N                 |12          |227         |1           |23.5       |0.5  |0.5    |5.46      |0.0         |0.3                  |32.76       |2.5                 |0.0        |1       |2022-10-06 14:01:35 |2022-10-06 14:32:46  |1.0            |5.5          |1.0       |N                 |230         |12          |2           |23.5       |2.5  |0.5    |0.0       |0.0         |0.3                  |26.8        |2.5                 |0.0        |\n",
      "|2       |2022-10-06 05:26:53 |2022-10-06 05:48:20  |1.0            |7.62         |1.0       |N                 |12          |227         |1           |23.5       |0.5  |0.5    |5.46      |0.0         |0.3                  |32.76       |2.5                 |0.0        |2       |2022-10-06 13:49:21 |2022-10-06 14:06:26  |2.0            |4.92         |1.0       |N                 |50          |12          |2           |17.0       |0.0  |0.5    |0.0       |0.0         |0.3                  |20.3        |2.5                 |0.0        |\n",
      "|2       |2022-10-06 05:26:53 |2022-10-06 05:48:20  |1.0            |7.62         |1.0       |N                 |12          |227         |1           |23.5       |0.5  |0.5    |5.46      |0.0         |0.3                  |32.76       |2.5                 |0.0        |2       |2022-10-06 13:48:38 |2022-10-06 13:59:21  |1.0            |1.53         |1.0       |N                 |231         |12          |1           |9.0        |0.0  |0.5    |2.46      |0.0         |0.3                  |14.76       |2.5                 |0.0        |\n",
      "|2       |2022-10-06 05:26:53 |2022-10-06 05:48:20  |1.0            |7.62         |1.0       |N                 |12          |227         |1           |23.5       |0.5  |0.5    |5.46      |0.0         |0.3                  |32.76       |2.5                 |0.0        |2       |2022-10-06 13:53:16 |2022-10-06 14:16:42  |3.0            |3.95         |1.0       |N                 |164         |12          |1           |17.5       |0.0  |0.5    |5.2       |0.0         |0.3                  |26.0        |2.5                 |0.0        |\n",
      "|2       |2022-10-06 05:26:53 |2022-10-06 05:48:20  |1.0            |7.62         |1.0       |N                 |12          |227         |1           |23.5       |0.5  |0.5    |5.46      |0.0         |0.3                  |32.76       |2.5                 |0.0        |2       |2022-10-06 13:48:03 |2022-10-06 14:11:36  |4.0            |4.69         |1.0       |N                 |100         |12          |1           |18.5       |0.0  |0.5    |5.45      |0.0         |0.3                  |27.25       |2.5                 |0.0        |\n",
      "|2       |2022-10-06 05:26:53 |2022-10-06 05:48:20  |1.0            |7.62         |1.0       |N                 |12          |227         |1           |23.5       |0.5  |0.5    |5.46      |0.0         |0.3                  |32.76       |2.5                 |0.0        |2       |2022-10-06 14:00:44 |2022-10-06 14:27:01  |1.0            |5.7          |1.0       |N                 |163         |12          |2           |21.5       |0.0  |0.5    |0.0       |0.0         |0.3                  |24.8        |2.5                 |0.0        |\n",
      "|2       |2022-10-06 05:26:53 |2022-10-06 05:48:20  |1.0            |7.62         |1.0       |N                 |12          |227         |1           |23.5       |0.5  |0.5    |5.46      |0.0         |0.3                  |32.76       |2.5                 |0.0        |1       |2022-10-06 14:03:56 |2022-10-06 14:39:26  |2.0            |5.4          |1.0       |N                 |230         |12          |2           |25.5       |2.5  |0.5    |0.0       |0.0         |0.3                  |28.8        |2.5                 |0.0        |\n",
      "|2       |2022-10-06 05:26:53 |2022-10-06 05:48:20  |1.0            |7.62         |1.0       |N                 |12          |227         |1           |23.5       |0.5  |0.5    |5.46      |0.0         |0.3                  |32.76       |2.5                 |0.0        |1       |2022-10-01 13:19:02 |2022-10-01 13:30:42  |1.0            |2.6          |1.0       |N                 |249         |12          |3           |11.0       |2.5  |0.5    |0.0       |0.0         |0.3                  |14.3        |2.5                 |0.0        |\n",
      "|2       |2022-10-06 05:26:53 |2022-10-06 05:48:20  |1.0            |7.62         |1.0       |N                 |12          |227         |1           |23.5       |0.5  |0.5    |5.46      |0.0         |0.3                  |32.76       |2.5                 |0.0        |2       |2022-10-01 13:21:55 |2022-10-01 13:45:35  |1.0            |5.32         |1.0       |N                 |48          |12          |2           |21.0       |0.0  |0.5    |0.0       |0.0         |0.3                  |24.3        |2.5                 |0.0        |\n",
      "|2       |2022-10-06 05:26:53 |2022-10-06 05:48:20  |1.0            |7.62         |1.0       |N                 |12          |227         |1           |23.5       |0.5  |0.5    |5.46      |0.0         |0.3                  |32.76       |2.5                 |0.0        |2       |2022-10-01 13:29:54 |2022-10-01 13:46:58  |1.0            |4.09         |1.0       |N                 |186         |12          |1           |15.5       |0.0  |0.5    |5.64      |0.0         |0.3                  |24.44       |2.5                 |0.0        |\n",
      "|2       |2022-10-06 05:26:53 |2022-10-06 05:48:20  |1.0            |7.62         |1.0       |N                 |12          |227         |1           |23.5       |0.5  |0.5    |5.46      |0.0         |0.3                  |32.76       |2.5                 |0.0        |1       |2022-10-06 14:06:13 |2022-10-06 14:32:57  |2.0            |6.3          |1.0       |N                 |161         |12          |2           |24.0       |2.5  |0.5    |0.0       |0.0         |0.3                  |27.3        |2.5                 |0.0        |\n",
      "+--------+--------------------+---------------------+---------------+-------------+----------+------------------+------------+------------+------------+-----------+-----+-------+----------+------------+---------------------+------------+--------------------+-----------+--------+--------------------+---------------------+---------------+-------------+----------+------------------+------------+------------+------------+-----------+-----+-------+----------+------------+---------------------+------------+--------------------+-----------+\n",
      "only showing top 20 rows\n",
      "\n"
     ]
    }
   ],
   "source": [
    "spark.sql(\"\"\"\n",
    "select * from YellowTaxis_PickupBucket b1 join YellowTaxis_DropBucket b2 on b1.PULocationID = b2.DOLocationID\n",
    "\"\"\").show(truncate = False)"
   ]
  },
  {
   "cell_type": "code",
   "execution_count": null,
   "id": "762c4caa",
   "metadata": {},
   "outputs": [],
   "source": []
  }
 ],
 "metadata": {
  "kernelspec": {
   "display_name": "Python 3 (ipykernel)",
   "language": "python",
   "name": "python3"
  },
  "language_info": {
   "codemirror_mode": {
    "name": "ipython",
    "version": 3
   },
   "file_extension": ".py",
   "mimetype": "text/x-python",
   "name": "python",
   "nbconvert_exporter": "python",
   "pygments_lexer": "ipython3",
   "version": "3.11.5"
  }
 },
 "nbformat": 4,
 "nbformat_minor": 5
}

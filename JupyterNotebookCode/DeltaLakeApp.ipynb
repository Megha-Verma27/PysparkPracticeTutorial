{
 "cells": [
  {
   "cell_type": "code",
   "execution_count": 1,
   "id": "a8e80428",
   "metadata": {},
   "outputs": [
    {
     "data": {
      "text/html": [
       "<style>pre {white-space: pre !important; }</style>"
      ],
      "text/plain": [
       "<IPython.core.display.HTML object>"
      ]
     },
     "metadata": {},
     "output_type": "display_data"
    }
   ],
   "source": [
    "import findspark\n",
    "findspark.init()\n",
    "findspark.find()\n",
    "\n",
    "from IPython.display import *\n",
    "display(HTML(\"<style>pre {white-space: pre !important; }</style>\"))"
   ]
  },
  {
   "cell_type": "code",
   "execution_count": 2,
   "id": "df680884",
   "metadata": {},
   "outputs": [
    {
     "data": {
      "text/html": [
       "\n",
       "            <div>\n",
       "                <p><b>SparkSession - in-memory</b></p>\n",
       "                \n",
       "        <div>\n",
       "            <p><b>SparkContext</b></p>\n",
       "\n",
       "            <p><a href=\"http://192.168.86.219:4040\">Spark UI</a></p>\n",
       "\n",
       "            <dl>\n",
       "              <dt>Version</dt>\n",
       "                <dd><code>v3.5.0</code></dd>\n",
       "              <dt>Master</dt>\n",
       "                <dd><code>local[4]</code></dd>\n",
       "              <dt>AppName</dt>\n",
       "                <dd><code>DeltaLakeApp</code></dd>\n",
       "            </dl>\n",
       "        </div>\n",
       "        \n",
       "            </div>\n",
       "        "
      ],
      "text/plain": [
       "<pyspark.sql.session.SparkSession at 0x2679bcc7f50>"
      ]
     },
     "execution_count": 2,
     "metadata": {},
     "output_type": "execute_result"
    }
   ],
   "source": [
    "from pyspark.sql import SparkSession\n",
    "from pyspark.sql.types import *\n",
    "from pyspark.sql.functions import *\n",
    "\n",
    "spark = (\n",
    "            SparkSession\n",
    "                .builder\n",
    "                .appName(\"DeltaLakeApp\")\n",
    "    \n",
    "                .master(\"local[4]\")    \n",
    "                .config(\"spark.dynamicAllocation.enabled\", \"false\")     \n",
    "                .config(\"spark.sql.adaptive.enabled\", \"false\")\n",
    "                .config(\"sparl.sql.optimizer.dynamicPartitionPruning\", \"false\")\n",
    "                .getOrCreate()\n",
    "        )\n",
    "\n",
    "sc = spark.sparkContext\n",
    "\n",
    "spark"
   ]
  },
  {
   "cell_type": "code",
   "execution_count": 3,
   "id": "78b6cf34",
   "metadata": {},
   "outputs": [],
   "source": [
    "# Create schema for Yellow Taxi Data\n",
    " \n",
    "taxiSchema = (\n",
    "                    StructType\n",
    "                    ([ \n",
    "                        StructField(\"VendorId\"               , IntegerType()   , True),\n",
    "                        StructField(\"lpep_pickup_datetime\"   , TimestampType() , True),\n",
    "                        StructField(\"lpep_dropoff_datetime\"  , TimestampType() , True),                            \n",
    "                        StructField(\"passenger_count\"        , DoubleType()    , True),\n",
    "                        StructField(\"trip_distance\"          , DoubleType()    , True),\n",
    "                        StructField(\"RatecodeID\"             , DoubleType()    , True),                            \n",
    "                        StructField(\"store_and_fwd_flag\"     , StringType()    , True),\n",
    "                        StructField(\"PULocationID\"           , IntegerType()   , True),\n",
    "                        StructField(\"DOLocationID\"           , IntegerType()   , True),                            \n",
    "                        StructField(\"payment_type\"           , IntegerType()   , True),                            \n",
    "                        StructField(\"fare_amount\"            , DoubleType()    , True),\n",
    "                        StructField(\"extra\"                  , DoubleType()    , True),\n",
    "                        StructField(\"mta_tax\"                , DoubleType()    , True),\n",
    "                        StructField(\"tip_amount\"             , DoubleType()    , True),\n",
    "                        StructField(\"tolls_amount\"           , DoubleType()    , True),\n",
    "                        StructField(\"improvement_surcharge\"  , DoubleType()    , True),\n",
    "                        StructField(\"total_amount\"           , DoubleType()    , True),\n",
    "                        StructField(\"congestion_surcharge\"   , DoubleType()    , True),\n",
    "                        StructField(\"airport_fee\"            , DoubleType()    , True)\n",
    "                    ])\n",
    "               )"
   ]
  },
  {
   "cell_type": "code",
   "execution_count": 4,
   "id": "3d4a4de1",
   "metadata": {},
   "outputs": [
    {
     "name": "stdout",
     "output_type": "stream",
     "text": [
      "root\n",
      " |-- VendorId: integer (nullable = true)\n",
      " |-- lpep_pickup_datetime: timestamp (nullable = true)\n",
      " |-- lpep_dropoff_datetime: timestamp (nullable = true)\n",
      " |-- passenger_count: double (nullable = true)\n",
      " |-- trip_distance: double (nullable = true)\n",
      " |-- RatecodeID: double (nullable = true)\n",
      " |-- store_and_fwd_flag: string (nullable = true)\n",
      " |-- PULocationID: integer (nullable = true)\n",
      " |-- DOLocationID: integer (nullable = true)\n",
      " |-- payment_type: integer (nullable = true)\n",
      " |-- fare_amount: double (nullable = true)\n",
      " |-- extra: double (nullable = true)\n",
      " |-- mta_tax: double (nullable = true)\n",
      " |-- tip_amount: double (nullable = true)\n",
      " |-- tolls_amount: double (nullable = true)\n",
      " |-- improvement_surcharge: double (nullable = true)\n",
      " |-- total_amount: double (nullable = true)\n",
      " |-- congestion_surcharge: double (nullable = true)\n",
      " |-- airport_fee: double (nullable = true)\n",
      "\n"
     ]
    }
   ],
   "source": [
    "yellowTaxiDf = (\n",
    "    spark\n",
    "    .read\n",
    "    .option(\"header\", \"true\")\n",
    "    .schema(taxiSchema)\n",
    "    .csv(\"C:\\DataFiles\\YellowTaxis_202210.csv\")\n",
    ")\n",
    "\n",
    "yellowTaxiDf.printSchema()"
   ]
  },
  {
   "cell_type": "code",
   "execution_count": 10,
   "id": "ee25c3e5",
   "metadata": {},
   "outputs": [],
   "source": [
    "(yellowTaxiDf\n",
    " .write\n",
    " .partitionBy(\"PULocationID\")\n",
    " .option(\"header\", \"true\")\n",
    " .option(\"dateFormat\", \"yyyy-MM-dd HH:mm:ss.s\")\n",
    " .mode(\"overwrite\")\n",
    " .format(\"csv\")\n",
    " .option(\"path\", \"C:\\DataFiles\\PruningOutput2\\YellowTaxisOutput.csv\")\n",
    " .saveAsTable(\"YellowTaxisZone\")\n",
    ")"
   ]
  },
  {
   "cell_type": "code",
   "execution_count": 11,
   "id": "39ec29ca",
   "metadata": {},
   "outputs": [],
   "source": [
    "taxiZoneSchema = \"LocationID INT, Borough STRING, Zone STRING, serviceZone STRING\"\n",
    "\n",
    "taxiZonesDf = (\n",
    "    spark\n",
    "    .read\n",
    "    .schema(taxiZoneSchema)\n",
    "    .csv(\"C:\\DataFiles\\TaxiZones.csv\")\n",
    ")\n",
    "\n",
    "(taxiZonesDf\n",
    " .write\n",
    " .option(\"header\", \"true\")\n",
    " .option(\"dateFormat\", \"yyyy-MM-dd HH:mm:ss.s\")\n",
    " .mode(\"overwrite\")\n",
    " .format(\"csv\")\n",
    " .option(\"path\", \"C:\\DataFiles\\PruningOutput2\\TaxiZones.csv\")\n",
    " .saveAsTable(\"TaxisZones\")\n",
    ")"
   ]
  },
  {
   "cell_type": "code",
   "execution_count": 13,
   "id": "e1471c57",
   "metadata": {},
   "outputs": [
    {
     "name": "stdout",
     "output_type": "stream",
     "text": [
      "+--------+--------------------+---------------------+---------------+-------------+----------+------------------+------------+------------+-----------+-----+-------+----------+------------+---------------------+------------+--------------------+-----------+------------+----------+-------+--------------+-----------+\n",
      "|VendorId|lpep_pickup_datetime|lpep_dropoff_datetime|passenger_count|trip_distance|RatecodeID|store_and_fwd_flag|DOLocationID|payment_type|fare_amount|extra|mta_tax|tip_amount|tolls_amount|improvement_surcharge|total_amount|congestion_surcharge|airport_fee|PULocationID|LocationID|Borough|          Zone|serviceZone|\n",
      "+--------+--------------------+---------------------+---------------+-------------+----------+------------------+------------+------------+-----------+-----+-------+----------+------------+---------------------+------------+--------------------+-----------+------------+----------+-------+--------------+-----------+\n",
      "|       2| 2022-10-09 18:42:58|  2022-10-09 18:43:02|            1.0|         0.02|       5.0|                 N|           1|           1|       30.0|  0.0|    0.0|       0.0|         0.0|                  0.3|        30.3|                 0.0|        0.0|           1|         1|    EWR|Newark Airport|        EWR|\n",
      "|       2| 2022-10-14 15:48:28|  2022-10-14 15:48:31|            1.0|          0.0|       5.0|                 N|         264|           1|       95.0|  0.0|    0.5|     23.95|         0.0|                  0.3|      119.75|                 0.0|        0.0|           1|         1|    EWR|Newark Airport|        EWR|\n",
      "|       2| 2022-10-09 19:24:29|  2022-10-09 19:24:38|            1.0|          0.0|       5.0|                 N|           1|           2|      125.0|  0.0|    0.0|       0.0|         0.0|                  0.3|       125.3|                 0.0|        0.0|           1|         1|    EWR|Newark Airport|        EWR|\n",
      "|       2| 2022-10-14 17:28:20|  2022-10-14 17:28:34|            1.0|          0.0|       5.0|                 N|           1|           1|       79.0|  0.0|    0.0|     19.61|       18.75|                  0.3|      117.66|                 0.0|        0.0|           1|         1|    EWR|Newark Airport|        EWR|\n",
      "|       2| 2022-10-09 19:27:32|  2022-10-09 19:27:36|            3.0|          0.0|       5.0|                 N|           1|           1|      105.0|  0.0|    0.0|     21.06|         0.0|                  0.3|      126.36|                 0.0|        0.0|           1|         1|    EWR|Newark Airport|        EWR|\n",
      "|       2| 2022-10-14 16:34:44|  2022-10-14 16:34:51|            4.0|         0.02|       5.0|                 N|           1|           1|      115.0|  0.0|    0.0|     23.06|         0.0|                  0.3|      138.36|                 0.0|        0.0|           1|         1|    EWR|Newark Airport|        EWR|\n",
      "|       2| 2022-10-09 19:36:38|  2022-10-09 19:36:46|            2.0|          0.0|       5.0|                 N|           1|           1|       90.0|  0.0|    0.0|     18.06|         0.0|                  0.3|      108.36|                 0.0|        0.0|           1|         1|    EWR|Newark Airport|        EWR|\n",
      "|       2| 2022-10-14 18:28:57|  2022-10-14 18:33:24|            1.0|         0.12|       5.0|                 N|           1|           1|      110.0|  0.0|    0.0|     33.09|         0.0|                  0.3|      143.39|                 0.0|        0.0|           1|         1|    EWR|Newark Airport|        EWR|\n",
      "|       2| 2022-10-09 20:20:25|  2022-10-09 20:20:51|            3.0|          0.0|       5.0|                 N|           1|           1|       69.0|  0.0|    0.0|     18.46|        23.0|                  0.3|      110.76|                 0.0|        0.0|           1|         1|    EWR|Newark Airport|        EWR|\n",
      "|       2| 2022-10-14 17:50:32|  2022-10-14 17:51:39|            1.0|         0.52|       5.0|                 N|           1|           1|       90.0|  0.0|    0.0|       5.0|       11.75|                  0.3|      107.05|                 0.0|        0.0|           1|         1|    EWR|Newark Airport|        EWR|\n",
      "|       2| 2022-10-09 20:48:20|  2022-10-09 20:50:24|            2.0|         0.41|       5.0|                 N|           1|           1|       85.0|  0.0|    0.0|     20.61|       17.75|                  0.3|      123.66|                 0.0|        0.0|           1|         1|    EWR|Newark Airport|        EWR|\n",
      "|       2| 2022-10-14 18:42:42|  2022-10-14 18:42:56|            4.0|          0.0|       5.0|                 N|           1|           1|       95.0|  0.0|    0.0|     22.81|       18.75|                  0.3|      136.86|                 0.0|        0.0|           1|         1|    EWR|Newark Airport|        EWR|\n",
      "|       2| 2022-10-09 20:39:50|  2022-10-09 20:39:54|            1.0|          0.0|       5.0|                 N|           1|           1|       95.0|  0.0|    0.5|     19.16|         0.0|                  0.3|      114.96|                 0.0|        0.0|           1|         1|    EWR|Newark Airport|        EWR|\n",
      "|       2| 2022-10-14 18:42:11|  2022-10-14 18:42:23|            2.0|         0.01|       5.0|                 N|           1|           1|       85.0|  0.0|    0.0|     21.26|        21.0|                  0.3|      127.56|                 0.0|        0.0|           1|         1|    EWR|Newark Airport|        EWR|\n",
      "|       2| 2022-10-09 21:43:36|  2022-10-09 21:43:49|            1.0|          0.0|       5.0|                 N|           1|           1|       23.0|  0.0|    0.0|       0.0|         0.0|                  0.3|        23.3|                 0.0|        0.0|           1|         1|    EWR|Newark Airport|        EWR|\n",
      "|       2| 2022-10-14 18:44:06|  2022-10-14 18:44:17|            2.0|          0.0|       5.0|                 N|           1|           1|       79.0|  0.0|    0.5|     18.31|       11.75|                  0.3|      109.86|                 0.0|        0.0|           1|         1|    EWR|Newark Airport|        EWR|\n",
      "|       2| 2022-10-09 22:12:10|  2022-10-09 22:13:00|            4.0|          0.0|       5.0|                 N|           1|           2|       55.0|  0.0|    0.0|       0.0|       16.75|                  0.3|       72.05|                 0.0|        0.0|           1|         1|    EWR|Newark Airport|        EWR|\n",
      "|       1| 2022-10-14 20:28:22|  2022-10-14 20:29:26|            1.0|          0.0|       5.0|                 N|           1|           1|       50.0|  0.0|    0.0|     10.05|         0.0|                  0.3|       60.35|                 0.0|        0.0|           1|         1|    EWR|Newark Airport|        EWR|\n",
      "|       2| 2022-10-09 21:33:06|  2022-10-09 21:33:11|            0.0|          0.0|       5.0|                 N|           1|           1|      119.0|  0.0|    0.5|       0.0|         0.0|                  0.3|       119.8|                 0.0|        0.0|           1|         1|    EWR|Newark Airport|        EWR|\n",
      "|       2| 2022-10-14 20:04:18|  2022-10-14 20:04:24|            4.0|          0.0|       5.0|                 N|           1|           1|       95.0|  0.0|    0.0|     23.82|         0.0|                  0.3|      119.12|                 0.0|        0.0|           1|         1|    EWR|Newark Airport|        EWR|\n",
      "+--------+--------------------+---------------------+---------------+-------------+----------+------------------+------------+------------+-----------+-----+-------+----------+------------+---------------------+------------+--------------------+-----------+------------+----------+-------+--------------+-----------+\n",
      "only showing top 20 rows\n",
      "\n"
     ]
    }
   ],
   "source": [
    "spark.sql(\"\"\"\n",
    "select * from YellowTaxisZone yt join TaxisZones tz on yt.PULocationID = tz.LocationID where yt.PULocationID = 1\n",
    "\"\"\").show()"
   ]
  },
  {
   "cell_type": "code",
   "execution_count": 16,
   "id": "5c512565",
   "metadata": {},
   "outputs": [
    {
     "name": "stdout",
     "output_type": "stream",
     "text": [
      "+----------+-------+--------------+-----------+\n",
      "|LocationID|Borough|          Zone|serviceZone|\n",
      "+----------+-------+--------------+-----------+\n",
      "|         1|    EWR|Newark Airport|        EWR|\n",
      "+----------+-------+--------------+-----------+\n",
      "\n"
     ]
    }
   ],
   "source": [
    "spark.sql(\"\"\"\n",
    "select * from Taxiszones where Borough = 'EWR'\n",
    "\"\"\").show()"
   ]
  },
  {
   "cell_type": "code",
   "execution_count": 20,
   "id": "e52ff772",
   "metadata": {},
   "outputs": [
    {
     "name": "stdout",
     "output_type": "stream",
     "text": [
      "+--------+--------------------+---------------------+---------------+-------------+----------+------------------+------------+------------+-----------+-----+-------+----------+------------+---------------------+------------+--------------------+-----------+------------+----------+-------+--------------+-----------+\n",
      "|VendorId|lpep_pickup_datetime|lpep_dropoff_datetime|passenger_count|trip_distance|RatecodeID|store_and_fwd_flag|DOLocationID|payment_type|fare_amount|extra|mta_tax|tip_amount|tolls_amount|improvement_surcharge|total_amount|congestion_surcharge|airport_fee|PULocationID|LocationID|Borough|          Zone|serviceZone|\n",
      "+--------+--------------------+---------------------+---------------+-------------+----------+------------------+------------+------------+-----------+-----+-------+----------+------------+---------------------+------------+--------------------+-----------+------------+----------+-------+--------------+-----------+\n",
      "|       2| 2022-10-09 18:42:58|  2022-10-09 18:43:02|            1.0|         0.02|       5.0|                 N|           1|           1|       30.0|  0.0|    0.0|       0.0|         0.0|                  0.3|        30.3|                 0.0|        0.0|           1|         1|    EWR|Newark Airport|        EWR|\n",
      "|       2| 2022-10-14 15:48:28|  2022-10-14 15:48:31|            1.0|          0.0|       5.0|                 N|         264|           1|       95.0|  0.0|    0.5|     23.95|         0.0|                  0.3|      119.75|                 0.0|        0.0|           1|         1|    EWR|Newark Airport|        EWR|\n",
      "|       2| 2022-10-09 19:24:29|  2022-10-09 19:24:38|            1.0|          0.0|       5.0|                 N|           1|           2|      125.0|  0.0|    0.0|       0.0|         0.0|                  0.3|       125.3|                 0.0|        0.0|           1|         1|    EWR|Newark Airport|        EWR|\n",
      "|       2| 2022-10-14 17:28:20|  2022-10-14 17:28:34|            1.0|          0.0|       5.0|                 N|           1|           1|       79.0|  0.0|    0.0|     19.61|       18.75|                  0.3|      117.66|                 0.0|        0.0|           1|         1|    EWR|Newark Airport|        EWR|\n",
      "|       2| 2022-10-09 19:27:32|  2022-10-09 19:27:36|            3.0|          0.0|       5.0|                 N|           1|           1|      105.0|  0.0|    0.0|     21.06|         0.0|                  0.3|      126.36|                 0.0|        0.0|           1|         1|    EWR|Newark Airport|        EWR|\n",
      "|       2| 2022-10-14 16:34:44|  2022-10-14 16:34:51|            4.0|         0.02|       5.0|                 N|           1|           1|      115.0|  0.0|    0.0|     23.06|         0.0|                  0.3|      138.36|                 0.0|        0.0|           1|         1|    EWR|Newark Airport|        EWR|\n",
      "|       2| 2022-10-09 19:36:38|  2022-10-09 19:36:46|            2.0|          0.0|       5.0|                 N|           1|           1|       90.0|  0.0|    0.0|     18.06|         0.0|                  0.3|      108.36|                 0.0|        0.0|           1|         1|    EWR|Newark Airport|        EWR|\n",
      "|       2| 2022-10-14 18:28:57|  2022-10-14 18:33:24|            1.0|         0.12|       5.0|                 N|           1|           1|      110.0|  0.0|    0.0|     33.09|         0.0|                  0.3|      143.39|                 0.0|        0.0|           1|         1|    EWR|Newark Airport|        EWR|\n",
      "|       2| 2022-10-09 20:20:25|  2022-10-09 20:20:51|            3.0|          0.0|       5.0|                 N|           1|           1|       69.0|  0.0|    0.0|     18.46|        23.0|                  0.3|      110.76|                 0.0|        0.0|           1|         1|    EWR|Newark Airport|        EWR|\n",
      "|       2| 2022-10-14 17:50:32|  2022-10-14 17:51:39|            1.0|         0.52|       5.0|                 N|           1|           1|       90.0|  0.0|    0.0|       5.0|       11.75|                  0.3|      107.05|                 0.0|        0.0|           1|         1|    EWR|Newark Airport|        EWR|\n",
      "|       2| 2022-10-09 20:48:20|  2022-10-09 20:50:24|            2.0|         0.41|       5.0|                 N|           1|           1|       85.0|  0.0|    0.0|     20.61|       17.75|                  0.3|      123.66|                 0.0|        0.0|           1|         1|    EWR|Newark Airport|        EWR|\n",
      "|       2| 2022-10-14 18:42:42|  2022-10-14 18:42:56|            4.0|          0.0|       5.0|                 N|           1|           1|       95.0|  0.0|    0.0|     22.81|       18.75|                  0.3|      136.86|                 0.0|        0.0|           1|         1|    EWR|Newark Airport|        EWR|\n",
      "|       2| 2022-10-09 20:39:50|  2022-10-09 20:39:54|            1.0|          0.0|       5.0|                 N|           1|           1|       95.0|  0.0|    0.5|     19.16|         0.0|                  0.3|      114.96|                 0.0|        0.0|           1|         1|    EWR|Newark Airport|        EWR|\n",
      "|       2| 2022-10-14 18:42:11|  2022-10-14 18:42:23|            2.0|         0.01|       5.0|                 N|           1|           1|       85.0|  0.0|    0.0|     21.26|        21.0|                  0.3|      127.56|                 0.0|        0.0|           1|         1|    EWR|Newark Airport|        EWR|\n",
      "|       2| 2022-10-09 21:43:36|  2022-10-09 21:43:49|            1.0|          0.0|       5.0|                 N|           1|           1|       23.0|  0.0|    0.0|       0.0|         0.0|                  0.3|        23.3|                 0.0|        0.0|           1|         1|    EWR|Newark Airport|        EWR|\n",
      "|       2| 2022-10-14 18:44:06|  2022-10-14 18:44:17|            2.0|          0.0|       5.0|                 N|           1|           1|       79.0|  0.0|    0.5|     18.31|       11.75|                  0.3|      109.86|                 0.0|        0.0|           1|         1|    EWR|Newark Airport|        EWR|\n",
      "|       2| 2022-10-09 22:12:10|  2022-10-09 22:13:00|            4.0|          0.0|       5.0|                 N|           1|           2|       55.0|  0.0|    0.0|       0.0|       16.75|                  0.3|       72.05|                 0.0|        0.0|           1|         1|    EWR|Newark Airport|        EWR|\n",
      "|       1| 2022-10-14 20:28:22|  2022-10-14 20:29:26|            1.0|          0.0|       5.0|                 N|           1|           1|       50.0|  0.0|    0.0|     10.05|         0.0|                  0.3|       60.35|                 0.0|        0.0|           1|         1|    EWR|Newark Airport|        EWR|\n",
      "|       2| 2022-10-09 21:33:06|  2022-10-09 21:33:11|            0.0|          0.0|       5.0|                 N|           1|           1|      119.0|  0.0|    0.5|       0.0|         0.0|                  0.3|       119.8|                 0.0|        0.0|           1|         1|    EWR|Newark Airport|        EWR|\n",
      "|       2| 2022-10-14 20:04:18|  2022-10-14 20:04:24|            4.0|          0.0|       5.0|                 N|           1|           1|       95.0|  0.0|    0.0|     23.82|         0.0|                  0.3|      119.12|                 0.0|        0.0|           1|         1|    EWR|Newark Airport|        EWR|\n",
      "+--------+--------------------+---------------------+---------------+-------------+----------+------------------+------------+------------+-----------+-----+-------+----------+------------+---------------------+------------+--------------------+-----------+------------+----------+-------+--------------+-----------+\n",
      "only showing top 20 rows\n",
      "\n"
     ]
    }
   ],
   "source": [
    "spark.sql(\"\"\"\n",
    "select * from YellowTaxisZone yt join TaxisZones tz on yt.PULocationID = tz.LocationID where tz.Borough = 'EWR'\n",
    "\"\"\").show()"
   ]
  },
  {
   "cell_type": "code",
   "execution_count": null,
   "id": "a3678c8c",
   "metadata": {},
   "outputs": [],
   "source": []
  }
 ],
 "metadata": {
  "kernelspec": {
   "display_name": "Python 3 (ipykernel)",
   "language": "python",
   "name": "python3"
  },
  "language_info": {
   "codemirror_mode": {
    "name": "ipython",
    "version": 3
   },
   "file_extension": ".py",
   "mimetype": "text/x-python",
   "name": "python",
   "nbconvert_exporter": "python",
   "pygments_lexer": "ipython3",
   "version": "3.11.5"
  }
 },
 "nbformat": 4,
 "nbformat_minor": 5
}

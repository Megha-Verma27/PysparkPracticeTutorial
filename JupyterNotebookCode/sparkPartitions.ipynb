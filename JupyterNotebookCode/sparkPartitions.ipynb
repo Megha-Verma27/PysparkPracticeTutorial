{
 "cells": [
  {
   "cell_type": "code",
   "execution_count": 1,
   "id": "450673cd",
   "metadata": {},
   "outputs": [
    {
     "data": {
      "text/plain": [
       "'C:\\\\Users\\\\Admin\\\\anaconda3\\\\envs\\\\SparkEnvironment\\\\Lib\\\\site-packages\\\\pyspark'"
      ]
     },
     "execution_count": 1,
     "metadata": {},
     "output_type": "execute_result"
    }
   ],
   "source": [
    "import findspark\n",
    "findspark.init()\n",
    "findspark.find()"
   ]
  },
  {
   "cell_type": "code",
   "execution_count": 50,
   "id": "f6713025",
   "metadata": {},
   "outputs": [
    {
     "data": {
      "text/html": [
       "\n",
       "            <div>\n",
       "                <p><b>SparkSession - in-memory</b></p>\n",
       "                \n",
       "        <div>\n",
       "            <p><b>SparkContext</b></p>\n",
       "\n",
       "            <p><a href=\"http://192.168.86.219:4041\">Spark UI</a></p>\n",
       "\n",
       "            <dl>\n",
       "              <dt>Version</dt>\n",
       "                <dd><code>v3.5.0</code></dd>\n",
       "              <dt>Master</dt>\n",
       "                <dd><code>local[4]</code></dd>\n",
       "              <dt>AppName</dt>\n",
       "                <dd><code>SparkPartitionsApp</code></dd>\n",
       "            </dl>\n",
       "        </div>\n",
       "        \n",
       "            </div>\n",
       "        "
      ],
      "text/plain": [
       "<pyspark.sql.session.SparkSession at 0x194598fffd0>"
      ]
     },
     "execution_count": 50,
     "metadata": {},
     "output_type": "execute_result"
    }
   ],
   "source": [
    "from pyspark.sql import SparkSession\n",
    "from pyspark.sql.types import *\n",
    "from pyspark.sql.functions import *\n",
    "\n",
    "spark = (\n",
    "    SparkSession\n",
    "    .builder\n",
    "    .appName(\"SparkPartitionsApp\")\n",
    "    .master(\"local[4]\")\n",
    "    #Standalone/YARN\n",
    "    #.confif(\"spark.cores.max\", \"6\")\n",
    "    #.config(\"spark.execotor.memory\", \"2g\")\n",
    "    #.config(\"spark.executor.core\", 2)\n",
    "    #.config(\"spark.sql.files.maxPartitionBytes\", \"64m\")\n",
    "    .config(\"spark.dynamicAllocation.enabled\", \"false\")\n",
    "    .config(\"spark.sql.adaptive\", \"false\")\n",
    "    .getOrCreate()\n",
    ")\n",
    "\n",
    "sc = spark.sparkContext\n",
    "\n",
    "spark"
   ]
  },
  {
   "cell_type": "code",
   "execution_count": 4,
   "id": "8e39cb54",
   "metadata": {},
   "outputs": [
    {
     "data": {
      "text/plain": [
       "4"
      ]
     },
     "execution_count": 4,
     "metadata": {},
     "output_type": "execute_result"
    }
   ],
   "source": [
    "sc.defaultParallelism"
   ]
  },
  {
   "cell_type": "code",
   "execution_count": 6,
   "id": "221a5508",
   "metadata": {},
   "outputs": [
    {
     "name": "stdout",
     "output_type": "stream",
     "text": [
      "Partitions = 1\n",
      "Record Count = 265\n"
     ]
    }
   ],
   "source": [
    "taxiZonesDf = (\n",
    "    spark\n",
    "    .read\n",
    "    .option('inferSchema', \"true\")\n",
    "    .csv(\"C:\\DataFiles\\TaxiZones.csv\")\n",
    ")\n",
    "\n",
    "print(\"Partitions = \" + str(taxiZonesDf.rdd.getNumPartitions()))\n",
    "print(\"Record Count = \"+ str(taxiZonesDf.count()))"
   ]
  },
  {
   "cell_type": "code",
   "execution_count": 22,
   "id": "937cf1c3",
   "metadata": {},
   "outputs": [],
   "source": [
    "# Create schema for Yellow Taxi Data\n",
    " \n",
    "taxiSchema = (\n",
    "                    StructType\n",
    "                    ([ \n",
    "                        StructField(\"VendorId\"               , IntegerType()   , True),\n",
    "                        StructField(\"lpep_pickup_datetime\"   , TimestampType() , True),\n",
    "                        StructField(\"lpep_dropoff_datetime\"  , TimestampType() , True),                            \n",
    "                        StructField(\"passenger_count\"        , DoubleType()    , True),\n",
    "                        StructField(\"trip_distance\"          , DoubleType()    , True),\n",
    "                        StructField(\"RatecodeID\"             , DoubleType()    , True),                            \n",
    "                        StructField(\"store_and_fwd_flag\"     , StringType()    , True),\n",
    "                        StructField(\"PULocationID\"           , IntegerType()   , True),\n",
    "                        StructField(\"DOLocationID\"           , IntegerType()   , True),                            \n",
    "                        StructField(\"payment_type\"           , IntegerType()   , True),                            \n",
    "                        StructField(\"fare_amount\"            , DoubleType()    , True),\n",
    "                        StructField(\"extra\"                  , DoubleType()    , True),\n",
    "                        StructField(\"mta_tax\"                , DoubleType()    , True),\n",
    "                        StructField(\"tip_amount\"             , DoubleType()    , True),\n",
    "                        StructField(\"tolls_amount\"           , DoubleType()    , True),\n",
    "                        StructField(\"improvement_surcharge\"  , DoubleType()    , True),\n",
    "                        StructField(\"total_amount\"           , DoubleType()    , True),\n",
    "                        StructField(\"congestion_surcharge\"   , DoubleType()    , True),\n",
    "                        StructField(\"airport_fee\"            , DoubleType()    , True)\n",
    "                    ])\n",
    "               )\n"
   ]
  },
  {
   "cell_type": "code",
   "execution_count": 23,
   "id": "ad3ef0a0",
   "metadata": {},
   "outputs": [
    {
     "name": "stdout",
     "output_type": "stream",
     "text": [
      "root\n",
      " |-- VendorId: integer (nullable = true)\n",
      " |-- lpep_pickup_datetime: timestamp (nullable = true)\n",
      " |-- lpep_dropoff_datetime: timestamp (nullable = true)\n",
      " |-- passenger_count: double (nullable = true)\n",
      " |-- trip_distance: double (nullable = true)\n",
      " |-- RatecodeID: double (nullable = true)\n",
      " |-- store_and_fwd_flag: string (nullable = true)\n",
      " |-- PULocationID: integer (nullable = true)\n",
      " |-- DOLocationID: integer (nullable = true)\n",
      " |-- payment_type: integer (nullable = true)\n",
      " |-- fare_amount: double (nullable = true)\n",
      " |-- extra: double (nullable = true)\n",
      " |-- mta_tax: double (nullable = true)\n",
      " |-- tip_amount: double (nullable = true)\n",
      " |-- tolls_amount: double (nullable = true)\n",
      " |-- improvement_surcharge: double (nullable = true)\n",
      " |-- total_amount: double (nullable = true)\n",
      " |-- congestion_surcharge: double (nullable = true)\n",
      " |-- airport_fee: double (nullable = true)\n",
      "\n",
      "Partitions default = 4\n",
      "Partitions = 7\n",
      "Record Count = 3675413\n"
     ]
    }
   ],
   "source": [
    "yellowTaxiDf = (\n",
    "    spark\n",
    "    .read\n",
    "    .option(\"inferSchema\", \"true\")\n",
    "     .schema(taxiSchema)\n",
    "    .csv(\"C:\\DataFiles\\YellowTaxis_202210.csv\")\n",
    ")\n",
    "yellowTaxiDf.printSchema()\n",
    "print(\"Partitions default = \" + str(sc.defaultParallelism))\n",
    "print(\"Partitions = \" + str(yellowTaxiDf.rdd.getNumPartitions()))\n",
    "print(\"Record Count = \"+ str(yellowTaxiDf.count()))"
   ]
  },
  {
   "cell_type": "code",
   "execution_count": 26,
   "id": "45e9c739",
   "metadata": {},
   "outputs": [],
   "source": [
    "#Method to calculate dataframe statistics\n",
    "\n",
    "def getDataFrameStats(dataFrame, columnName):\n",
    "    outputDf =  (\n",
    "        dataFrame\n",
    "        .withColumn(\"Partition Number\", spark_partition_id())\n",
    "        .groupBy(\"Partition Number\")\n",
    "        .agg(\n",
    "        count(\"*\").alias(\"Record Count\"),\n",
    "        min(columnName).alias(\"Min Column Value\"),\n",
    "        max(columnName).alias(\"Man Column Value\")\n",
    "        )\n",
    "    .orderBy(\"Partition Number\")\n",
    "    )\n",
    "    return outputDf"
   ]
  },
  {
   "cell_type": "code",
   "execution_count": 27,
   "id": "55043b33",
   "metadata": {},
   "outputs": [
    {
     "name": "stdout",
     "output_type": "stream",
     "text": [
      "+----------------+------------+----------------+----------------+\n",
      "|Partition Number|Record Count|Min Column Value|Man Column Value|\n",
      "+----------------+------------+----------------+----------------+\n",
      "|               0|      531992|               1|             265|\n",
      "|               1|      531721|               1|             265|\n",
      "|               2|      531579|               1|             265|\n",
      "|               3|      531536|               1|             265|\n",
      "|               4|      531728|               1|             265|\n",
      "|               5|      531528|               1|             265|\n",
      "|               6|      485329|               1|             265|\n",
      "+----------------+------------+----------------+----------------+\n",
      "\n"
     ]
    }
   ],
   "source": [
    "getDataFrameStats(yellowTaxiDf, \"PULocationID\").show()"
   ]
  },
  {
   "cell_type": "code",
   "execution_count": 30,
   "id": "a7e60106",
   "metadata": {},
   "outputs": [
    {
     "data": {
      "text/plain": [
       "'200'"
      ]
     },
     "execution_count": 30,
     "metadata": {},
     "output_type": "execute_result"
    }
   ],
   "source": [
    "spark.conf.get(\"spark.sql.shuffle.partitions\")"
   ]
  },
  {
   "cell_type": "code",
   "execution_count": 51,
   "id": "0238f2e0",
   "metadata": {},
   "outputs": [
    {
     "name": "stdout",
     "output_type": "stream",
     "text": [
      "partitions = 1\n"
     ]
    },
    {
     "data": {
      "text/plain": [
       "1"
      ]
     },
     "execution_count": 51,
     "metadata": {},
     "output_type": "execute_result"
    }
   ],
   "source": [
    "yellowTaxiGroupDf = (\n",
    "    yellowTaxiDf.groupBy(\"PULocationID\").agg(sum(\"total_amount\"))\n",
    ")\n",
    "\n",
    "print(\"partitions = \" + str(yellowTaxiGroupDf.rdd.getNumPartitions()))\n",
    "getDataFrameStats(yellowTaxiGroupDf, \"PULocationID\").count()"
   ]
  },
  {
   "cell_type": "code",
   "execution_count": 33,
   "id": "1cdade48",
   "metadata": {},
   "outputs": [],
   "source": [
    "spark.conf.set(\"spark.sql.shuffle.partitions\", 3)"
   ]
  },
  {
   "cell_type": "code",
   "execution_count": 40,
   "id": "d9edc7a0",
   "metadata": {},
   "outputs": [
    {
     "name": "stdout",
     "output_type": "stream",
     "text": [
      "+----------------+------------+----------------+----------------+\n",
      "|Partition Number|Record Count|Min Column Value|Man Column Value|\n",
      "+----------------+------------+----------------+----------------+\n",
      "|               0|      531992|               1|             265|\n",
      "|               1|      531721|               1|             265|\n",
      "|               2|      531579|               1|             265|\n",
      "|               3|      531536|               1|             265|\n",
      "|               4|      531728|               1|             265|\n",
      "|               5|      531528|               1|             265|\n",
      "|               6|      485329|               1|             265|\n",
      "+----------------+------------+----------------+----------------+\n",
      "\n"
     ]
    }
   ],
   "source": [
    "\n",
    "getDataFrameStats(yellowTaxiDf, \"PULocationID\").show()"
   ]
  },
  {
   "cell_type": "code",
   "execution_count": 43,
   "id": "8c60072d",
   "metadata": {},
   "outputs": [
    {
     "name": "stdout",
     "output_type": "stream",
     "text": [
      "+----------------+------------+----------------+----------------+\n",
      "|Partition Number|Record Count|Min Column Value|Man Column Value|\n",
      "+----------------+------------+----------------+----------------+\n",
      "|               0|      306284|               1|             265|\n",
      "|               1|      306284|               1|             265|\n",
      "|               2|      306285|               1|             265|\n",
      "|               3|      306286|               1|             265|\n",
      "|               4|      306286|               1|             265|\n",
      "|               5|      306285|               1|             265|\n",
      "|               6|      306285|               1|             265|\n",
      "|               7|      306285|               1|             265|\n",
      "|               8|      306283|               1|             265|\n",
      "|               9|      306284|               1|             265|\n",
      "|              10|      306283|               1|             265|\n",
      "|              11|      306283|               1|             265|\n",
      "+----------------+------------+----------------+----------------+\n",
      "\n"
     ]
    }
   ],
   "source": [
    "repartionedDf = yellowTaxiDf.repartition(12)\n",
    "getDataFrameStats(repartionedDf, \"PULocationID\").show()"
   ]
  },
  {
   "cell_type": "code",
   "execution_count": 44,
   "id": "7ccb5741",
   "metadata": {},
   "outputs": [
    {
     "name": "stdout",
     "output_type": "stream",
     "text": [
      "+----------------+------------+----------------+----------------+\n",
      "|Partition Number|Record Count|Min Column Value|Man Column Value|\n",
      "+----------------+------------+----------------+----------------+\n",
      "|               0|     1246580|               3|             263|\n",
      "|               1|     1426282|               1|             265|\n",
      "|               2|     1002551|              11|             264|\n",
      "+----------------+------------+----------------+----------------+\n",
      "\n"
     ]
    }
   ],
   "source": [
    "repartionedDf = yellowTaxiDf.repartition(\"PULocationID\")\n",
    "getDataFrameStats(repartionedDf, \"PULocationID\").show()"
   ]
  },
  {
   "cell_type": "code",
   "execution_count": 45,
   "id": "16a3219f",
   "metadata": {},
   "outputs": [
    {
     "name": "stdout",
     "output_type": "stream",
     "text": [
      "+----------------+------------+----------------+----------------+\n",
      "|Partition Number|Record Count|Min Column Value|Man Column Value|\n",
      "+----------------+------------+----------------+----------------+\n",
      "|               0|      424961|              14|             263|\n",
      "|               1|      717657|               6|             255|\n",
      "|               2|      281144|              28|             264|\n",
      "|               3|      304918|               3|             258|\n",
      "|               4|      247256|              13|             265|\n",
      "|               5|      321605|              15|             260|\n",
      "|               6|      293535|               4|             259|\n",
      "|               7|      403055|               1|             236|\n",
      "|               8|      175190|              12|             244|\n",
      "|               9|      223166|               9|             246|\n",
      "|              10|       58314|              49|             262|\n",
      "|              11|      224612|              11|             251|\n",
      "+----------------+------------+----------------+----------------+\n",
      "\n"
     ]
    }
   ],
   "source": [
    "repartionedDf = yellowTaxiDf.repartition(12, \"PULocationID\")\n",
    "getDataFrameStats(repartionedDf, \"PULocationID\").show()"
   ]
  },
  {
   "cell_type": "code",
   "execution_count": 46,
   "id": "9beeaeed",
   "metadata": {},
   "outputs": [
    {
     "name": "stdout",
     "output_type": "stream",
     "text": [
      "+----------------+------------+----------------+----------------+\n",
      "|Partition Number|Record Count|Min Column Value|Man Column Value|\n",
      "+----------------+------------+----------------+----------------+\n",
      "|               0|      362939|               1|              68|\n",
      "|               1|      297314|              69|             100|\n",
      "|               2|      394409|             101|             132|\n",
      "|               3|      218033|             133|             140|\n",
      "|               4|      291621|             141|             144|\n",
      "|               5|      375184|             145|             162|\n",
      "|               6|      185499|             163|             164|\n",
      "|               7|      374971|             165|             229|\n",
      "|               8|      315543|             230|             234|\n",
      "|               9|      333770|             235|             237|\n",
      "|              10|      240733|             238|             246|\n",
      "|              11|      285397|             247|             265|\n",
      "+----------------+------------+----------------+----------------+\n",
      "\n"
     ]
    }
   ],
   "source": [
    "repartionedDf = yellowTaxiDf.repartitionByRange(12, \"PULocationID\")\n",
    "getDataFrameStats(repartionedDf, \"PULocationID\").show()"
   ]
  },
  {
   "cell_type": "code",
   "execution_count": 52,
   "id": "a6ef908e",
   "metadata": {},
   "outputs": [
    {
     "name": "stdout",
     "output_type": "stream",
     "text": [
      "+----------------+------------+----------------+----------------+\n",
      "|Partition Number|Record Count|Min Column Value|Man Column Value|\n",
      "+----------------+------------+----------------+----------------+\n",
      "|               0|     1595292|               1|             265|\n",
      "|               1|     2080121|               1|             265|\n",
      "+----------------+------------+----------------+----------------+\n",
      "\n"
     ]
    }
   ],
   "source": [
    "#Reduce the number of partition\n",
    "\n",
    "coalesceDf = yellowTaxiDf.coalesce(2)\n",
    "getDataFrameStats(coalesceDf, \"PULocationID\").show()"
   ]
  },
  {
   "cell_type": "code",
   "execution_count": null,
   "id": "cf803286",
   "metadata": {},
   "outputs": [],
   "source": []
  }
 ],
 "metadata": {
  "kernelspec": {
   "display_name": "Python 3 (ipykernel)",
   "language": "python",
   "name": "python3"
  },
  "language_info": {
   "codemirror_mode": {
    "name": "ipython",
    "version": 3
   },
   "file_extension": ".py",
   "mimetype": "text/x-python",
   "name": "python",
   "nbconvert_exporter": "python",
   "pygments_lexer": "ipython3",
   "version": "3.11.5"
  }
 },
 "nbformat": 4,
 "nbformat_minor": 5
}

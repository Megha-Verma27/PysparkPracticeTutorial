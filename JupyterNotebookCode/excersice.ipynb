{
 "cells": [
  {
   "cell_type": "code",
   "execution_count": 1,
   "id": "4193b43e",
   "metadata": {},
   "outputs": [
    {
     "data": {
      "text/plain": [
       "'C:\\\\Users\\\\Admin\\\\anaconda3\\\\envs\\\\SparkEnvironment\\\\Lib\\\\site-packages\\\\pyspark'"
      ]
     },
     "execution_count": 1,
     "metadata": {},
     "output_type": "execute_result"
    }
   ],
   "source": [
    "import findspark\n",
    "findspark.init()\n",
    "findspark.find()"
   ]
  },
  {
   "cell_type": "code",
   "execution_count": 2,
   "id": "e3fbf9d1",
   "metadata": {},
   "outputs": [
    {
     "data": {
      "text/html": [
       "\n",
       "            <div>\n",
       "                <p><b>SparkSession - in-memory</b></p>\n",
       "                \n",
       "        <div>\n",
       "            <p><b>SparkContext</b></p>\n",
       "\n",
       "            <p><a href=\"http://192.168.86.219:4048\">Spark UI</a></p>\n",
       "\n",
       "            <dl>\n",
       "              <dt>Version</dt>\n",
       "                <dd><code>v3.5.0</code></dd>\n",
       "              <dt>Master</dt>\n",
       "                <dd><code>local[4]</code></dd>\n",
       "              <dt>AppName</dt>\n",
       "                <dd><code>ExcerciseApp</code></dd>\n",
       "            </dl>\n",
       "        </div>\n",
       "        \n",
       "            </div>\n",
       "        "
      ],
      "text/plain": [
       "<pyspark.sql.session.SparkSession at 0x2b9877f3dd0>"
      ]
     },
     "execution_count": 2,
     "metadata": {},
     "output_type": "execute_result"
    }
   ],
   "source": [
    "from pyspark.sql import SparkSession\n",
    "from pyspark.sql.types import *\n",
    "from pyspark.sql.functions import *\n",
    "\n",
    "spark = (\n",
    "    SparkSession\n",
    "    .builder\n",
    "    .appName(\"ExcerciseApp\")\n",
    "    .master(\"local[4]\")\n",
    "    .config(\"spark.dynamicAloocation.enabled\", \"false\")\n",
    "    .getOrCreate()\n",
    ")\n",
    "\n",
    "sc = spark.sparkContext\n",
    "\n",
    "spark"
   ]
  },
  {
   "cell_type": "code",
   "execution_count": 10,
   "id": "f63bf23e",
   "metadata": {},
   "outputs": [
    {
     "name": "stdout",
     "output_type": "stream",
     "text": [
      "root\n",
      " |-- OBJECTID: integer (nullable = true)\n",
      " |-- HSISID: long (nullable = true)\n",
      " |-- NAME: string (nullable = true)\n",
      " |-- ADDRESS1: string (nullable = true)\n",
      " |-- ADDRESS2: string (nullable = true)\n",
      " |-- CITY: string (nullable = true)\n",
      " |-- STATE: string (nullable = true)\n",
      " |-- POSTALCODE: string (nullable = true)\n",
      " |-- PHONENUMBER: string (nullable = true)\n",
      " |-- RESTAURANTOPENDATE: string (nullable = true)\n",
      " |-- FACILITYTYPE: string (nullable = true)\n",
      " |-- PERMITID: integer (nullable = true)\n",
      " |-- X: double (nullable = true)\n",
      " |-- Y: double (nullable = true)\n",
      " |-- GEOCODESTATUS: string (nullable = true)\n",
      "\n"
     ]
    }
   ],
   "source": [
    "eateriesDf = (\n",
    "    spark\n",
    "    .read\n",
    "    .option(\"header\", \"true\")\n",
    "    .option(\"inferSchema\", \"true\")\n",
    "    .csv(\"C:\\\\DataFiles\\\\new-data\\\\eateries\\\\restaurants.csv\")\n",
    ")\n",
    "eateriesDf.printSchema()"
   ]
  },
  {
   "cell_type": "code",
   "execution_count": 12,
   "id": "c3d16694",
   "metadata": {},
   "outputs": [
    {
     "name": "stdout",
     "output_type": "stream",
     "text": [
      "+--------+----------+------------------------------------------+---------------------------+----------+-------------+-----+----------+------------------------+----------------------+--------------------------+--------+------------+-----------+-------------+\n",
      "|OBJECTID|HSISID    |NAME                                      |ADDRESS1                   |ADDRESS2  |CITY         |STATE|POSTALCODE|PHONENUMBER             |RESTAURANTOPENDATE    |FACILITYTYPE              |PERMITID|X           |Y          |GEOCODESTATUS|\n",
      "+--------+----------+------------------------------------------+---------------------------+----------+-------------+-----+----------+------------------------+----------------------+--------------------------+--------+------------+-----------+-------------+\n",
      "|1943376 |4092016286|CHECKERS PIZZA                            |2810 HILLSBOROUGH ST       |NULL      |RALEIGH      |NC   |27607     |(919) 832-6522          |2012/11/01 04:00:00+00|Restaurant                |3       |-78.67445032|35.78959693|M            |\n",
      "|1943377 |4092016489|SONIC DRIVE IN #6020                      |1925 S MAIN ST             |NULL      |WAKE FOREST  |NC   |27587     |(919) 554-1209          |2013/08/20 04:00:00+00|Restaurant                |13      |-78.52999701|35.94975468|M            |\n",
      "|1943378 |4092025369|Crepe Time Catering @ TKA                 |2201 S WILMINGTON ST       |NULL      |RALEIGH      |NC   |27603     |(919) 377-9447          |2021/06/24 04:00:00+00|Food Stand                |14      |-78.63902655|35.752054  |M            |\n",
      "|1943379 |4092018247|PIZZA HUT #2020                           |11010 LAKE GROVE  BLVD     |NULL      |MORRISVILLE  |NC   |27650     |(919) 234-0652          |2019/12/03 05:00:00+00|Restaurant                |16      |-78.84707532|35.82315923|M            |\n",
      "|1943380 |4092017322|BADA BEAN COFFEE & THINGS                 |938 GATEWAY COMMONS CIR    |NULL      |WAKE FOREST  |NC   |27587     |(984) 235-4608          |2016/09/16 04:00:00+00|Restaurant                |17      |-78.4951784 |35.96732914|M            |\n",
      "|1943381 |4092016487|PEACE CHINA                               |13220 Strickland  RD       |Ste 167   |RALEIGH      |NC   |27613     |(919) 676-9968          |2013/08/14 04:00:00+00|Restaurant                |34      |-78.72593809|35.90878313|M            |\n",
      "|1943382 |4092017539|HAMPTON INN RALEIGH/CARY BREAKFAST        |201 ASHVILLE AVE           |NULL      |CARY         |NC   |27518     |(919) 859-5559          |2017/02/28 05:00:00+00|Restaurant                |42      |-78.78426862|35.73925014|M            |\n",
      "|1943383 |4092021875|HL Catering Primary Shared Kitchen        |1012 OBERLIN RD            |NULL      |RALEIGH      |NC   |27605     |(919) 675-1854          |2015/09/29 04:00:00+00|Food Stand                |46      |-78.65955263|35.79661923|M            |\n",
      "|1943384 |4092015321|SUBWAY #12460                             |706 W PEACE ST             |NULL      |RALEIGH      |NC   |27605     |(919) 834-0605          |2009/01/12 05:00:00+00|Restaurant                |49      |-78.64931864|35.78886208|M            |\n",
      "|1943385 |4092017538|PIZZERIA FAULISI                          |215 E CHATHAM ST           |SUITE 101 |CARY         |NC   |27511     |(919) 377-8244          |2017/02/21 05:00:00+00|Restaurant                |50      |-78.77734174|35.78786553|M            |\n",
      "|1943386 |4092018307|Szechuan Mansion Restaurant               |1353 KILDAIRE FARM RD      |NULL      |CARY         |NC   |27511     |(919) 800-1802          |2020/01/27 05:00:00+00|Restaurant                |54      |-78.78193974|35.75976658|M            |\n",
      "|1943387 |4092018254|Teriyaki Madness                          |160 SHENSTONE BLVD         |NULL      |GARNER       |NC   |27529     |NULL                    |2019/12/02 05:00:00+00|Restaurant                |55      |-78.58054205|35.69110315|M            |\n",
      "|1943388 |4092017541|RISE BISCUITS & DONUTS                    |169 GRAND HILL PL          |NULL      |HOLLY SPRINGS|NC   |27540     |(919) 586-7343          |2017/03/03 05:00:00+00|Restaurant                |58      |-78.84948074|35.66266499|M            |\n",
      "|1943389 |4092050030|Wake Christian Academy Cafeteria          |5500 Wake Academy Dr       |NULL      |RALEIGH      |NC   |27603     |(919) 772-6264          |2018/08/03 04:00:00+00|Private School Lunchrooms |60      |-78.67165429|35.70444604|M            |\n",
      "|1943390 |4092018622|Northside Bistro & Cocktails              |832 SPRING FOREST RD       |NULL      |RALEIGH      |NC   |27609     |(919) 890-5225          |2021/05/13 04:00:00+00|Restaurant                |71      |-78.62263526|35.8662752 |M            |\n",
      "|1943391 |4092016255|BOTTLE MIXX                               |8111 CREEDMOOR RD          |STE 153   |RALEIGH      |NC   |27613     |(919) 615-1703          |2012/09/11 04:00:00+00|Restaurant                |74      |-78.68248786|35.89850336|M            |\n",
      "|1943392 |4092016264|THE YARD HOUSE #41                        |4208 SIX FORKS  RD         |C110      |RALEIGH      |NC   |27609     |(919) 881-2590          |2012/09/21 04:00:00+00|Restaurant                |77      |-78.63994726|35.83691426|M            |\n",
      "|1943393 |4092016771|Linus & Pepper's                          |126 S SALISBURY ST         |NULL      |RALEIGH      |NC   |27601     |(919) 649-2154          |2014/09/30 04:00:00+00|Restaurant                |99      |-78.64041384|35.77862242|M            |\n",
      "|1943394 |4092016891|DUNKIN' DONUTS #348417                    |3817 WESTERN BLVD          |NULL      |RALEIGH      |NC   |27606     |(919) 858-6501          |2015/04/08 04:00:00+00|Restaurant                |119     |-78.68893912|35.78436913|M            |\n",
      "|1943395 |4092016164|RUCKUS PIZZA PASTA & SPIRITS #3           |1101 MARKET CENTER  DR     |NULL      |MORRISVILLE  |NC   |27560     |(919) 388-3500          |2012/04/19 04:00:00+00|Restaurant                |121     |-78.81676023|35.80454378|M            |\n",
      "|1943396 |4092022031|CARVEL                                    |5959 TRIANGLE TOWN BLVD    |NULL      |RALEIGH      |NC   |27616     |(919) 449-0072          |2017/08/30 04:00:00+00|Food Stand                |122     |-78.57603863|35.86599856|M            |\n",
      "|1943397 |4092018378|Pleasant Grove Church                     |1528 Davis DR              |NULL      |CARY         |NC   |27519     |(919) 363-5198          |2020/05/29 04:00:00+00|Restaurant                |137     |-78.84348956|35.76990031|M            |\n",
      "|1943398 |4092017534|YUMMY HIBACHI                             |7110 KNIGHTDALE BLVD, STE P|NULL      |KNIGHTDALE   |NC   |27545     |(919) 373-0325          |2017/03/09 05:00:00+00|Restaurant                |140     |-78.4899936 |35.79638702|M            |\n",
      "|1943399 |4092018647|Five Guys #0368                           |8107 Creedmoor RD          |Ste 100   |RALEIGH      |NC   |27613     |(919) 844-7057          |2021/06/07 04:00:00+00|Restaurant                |144     |-78.68116797|35.89788799|M            |\n",
      "|1943400 |4092017193|CRAFTY BEER SHOP                          |8450 HONEYCUTT RD          |Suite 108 |RALEIGH      |NC   |27615     |(919) 703-0874          |2016/04/05 04:00:00+00|Restaurant                |146     |-78.62166097|35.89510574|M            |\n",
      "|1943401 |4092160080|ZEBULON REHABILITATION CENTER FOOD SERVICE|509 W GANNON AVE.          |NULL      |ZEBULON      |NC   |27597     |NULL                    |2014/06/04 04:00:00+00|Institutional Food Service|149     |-78.32569568|35.81964939|M            |\n",
      "|1943402 |4092016265|ACRO CAFE                                 |11 W JONES ST              |NULL      |RALEIGH      |NC   |27601     |(919) 733-7450          |2012/09/14 04:00:00+00|Restaurant                |154     |-78.63943083|35.78220511|M            |\n",
      "|1943403 |4092018715|Foundation Senior Living Food Service     |1437 Aversboro RD          |NULL      |GARNER       |NC   |27529     |(919) 624-2564          |2021/09/13 04:00:00+00|Restaurant                |160     |-78.61572011|35.69056999|M            |\n",
      "|1943404 |4092021950|KANGAROO EXPRESS #2720869                 |8500 HARPS MILL RD         |NULL      |RALEIGH      |NC   |27615-3834|(919) 872-0614          |2016/03/16 04:00:00+00|Food Stand                |162     |-78.60165311|35.89132184|M            |\n",
      "|1943405 |4092021582|HARRIS TEETER #311 DELI                   |324 VILLAGE WALK   DR      |NULL      |HOLLY SPRINGS|NC   |27540     |(919) 552-1596          |2009/09/10 04:00:00+00|Food Stand                |181     |-78.83920922|35.63987917|M            |\n",
      "|1943406 |4092018430|Dogwood Bar & Eatery                      |610 GLENWOOD AVE           |NULL      |RALEIGH      |NC   |27603     |(919) 977-3714          |2020/09/01 04:00:00+00|Restaurant                |182     |-78.64681795|35.78777191|M            |\n",
      "|1943407 |4092015915|SUBWAY #50592                             |601 N MAIN ST              |NULL      |HOLLY SPRINGS|NC   |27545     |(919) 557-4411          |2011/03/17 04:00:00+00|Restaurant                |189     |-78.83661982|35.66097455|M            |\n",
      "|1943408 |4092016809|NIGHT KITCHEN BAKERY                      |10 W. FRANKLIN STREET      |NULL      |RALEIGH      |NC   |27604     |(984) 232-8907          |2014/11/10 05:00:00+00|Restaurant                |191     |-78.64011364|35.78945486|M            |\n",
      "|1943409 |4092025272|Harris Teeter #496 Meat/Seafood           |940 US 64 HWY W            |NULL      |APEX         |NC   |27523-7184|NULL                    |2019/07/15 04:00:00+00|Food Stand                |195     |-78.82197042|35.74562504|M            |\n",
      "|1943410 |4092015443|MoonRunners Saloon                        |1506 US 70 HWY W           |NULL      |GARNER       |NC   |27529     |(919) 662-5119          |2009/08/12 04:00:00+00|Restaurant                |196     |-78.64623771|35.72377782|M            |\n",
      "|1943411 |4092025319|Satori Meals @ TKA                        |2201 S Wilmington ST       |NULL      |RALEIGH      |NC   |27603     |(919) 592-2330          |2020/09/01 04:00:00+00|Food Stand                |202     |-78.63902655|35.752054  |M            |\n",
      "|1943412 |4092018655|Dairy Queen #11993                        |12271 Capital  BLVD        |NULL      |WAKE FOREST  |NC   |27587     |(919) 554-2564          |2021/06/17 04:00:00+00|Restaurant                |204     |-78.53978632|35.98090041|M            |\n",
      "|1943413 |4092021659|WHOLE FOODS #10338 PRODUCE                |8710 SIX FORKS  RD         |NULL      |RALEIGH      |NC   |27615     |(919) 354-0350          |2011/03/11 05:00:00+00|Food Stand                |206     |-78.65023656|35.89889154|M            |\n",
      "|1943414 |4092300243|HARRIS TEETER #311 MEAT MARKET            |324 VILLAGE WALK DR        |NULL      |HOLLY SPRINGS|NC   |27502     |(919) 552-1596          |2009/09/10 04:00:00+00|Meat Market               |207     |-78.83920922|35.63987917|M            |\n",
      "|1943415 |4092021605|HARRIS TEETER #422 PRODUCE                |120-100 ST ALBANS DR       |NULL      |RALEIGH      |NC   |27607     |(919) 781-4165          |2010/02/03 05:00:00+00|Food Stand                |36      |-78.63887103|35.83819686|M            |\n",
      "|1943416 |4092018656|Brookfields Indoor Golf & Lounge          |1839 S Main ST             |NULL      |WAKE FOREST  |NC   |27587     |(984) 235-1722          |2021/06/17 04:00:00+00|Restaurant                |210     |-78.52626448|35.95102854|M            |\n",
      "|1943417 |4092021583|HARRIS TEETER #311 PRODUCE                |324 VILLAGE WALK DR        |NULL      |HOLLY SPRINGS|NC   |27540     |(919) 552-1596          |2009/09/10 04:00:00+00|Food Stand                |212     |-78.83920922|35.63987917|M            |\n",
      "|1943418 |4092015470|TIJUANA FLATS #138                        |1310 E MILLBROOK RD        |NULL      |RALEIGH      |NC   |27609     |(919) 790-6409          |2009/09/04 04:00:00+00|Restaurant                |226     |-78.61557526|35.84978294|M            |\n",
      "|1943419 |4092030454|Capones Chicago Eats  (WCID #750)         |8101 Holly Springs RD      |M-Sat 11-2|Raleigh      |NC   |27606     |(919) 757-9514          |2019/12/09 05:00:00+00|Pushcarts                 |230     |-78.76164101|35.70858774|M            |\n",
      "|1943420 |4092018719|Union Special Downtown                    |401 FAYETTEVILLE ST        |Suite 103 |RALEIGH      |NC   |27601     |(984) 200-3094 ext. 7004|2021/10/05 04:00:00+00|Restaurant                |233     |-78.63909101|35.77542096|M            |\n",
      "|1943421 |4092017521|MCDONALDS #13159                          |1725 New Hope Church Rd    |NULL      |RALEIGH      |NC   |27609     |(919) 713-0903          |2017/02/22 05:00:00+00|Restaurant                |236     |-78.60826495|35.83722719|M            |\n",
      "|1943422 |4092021891|FOOD LION #669 PRODUCE                    |405 S MAIN ST              |NULL      |ROLESVILLE   |NC   |27571     |(919) 554-4018          |2015/10/14 04:00:00+00|Food Stand                |247     |-78.46472721|35.91731538|T            |\n",
      "|1943423 |4092017669|FIRST CHINA RESTAURANT                    |6452 TRYON  RD             |NULL      |CARY         |NC   |27518     |(919) 852-5857          |2017/08/25 04:00:00+00|Restaurant                |250     |-78.7615544 |35.74559939|M            |\n",
      "|1943424 |4092016797|HYATT HOUSE FOOD SERVICE                  |10962 CHAPEL HILL RD       |NULL      |MORRISVILLE  |NC   |27560     |(919) 388-5355          |2014/11/12 05:00:00+00|Restaurant                |256     |-78.84052711|35.85506763|M            |\n",
      "|1943425 |4092014473|Mackey's Pub                              |2101 S Main  ST            |STE 112   |WAKE FOREST  |NC   |27587     |(919) 562-5570          |2006/01/20 05:00:00+00|Restaurant                |260     |-78.53310077|35.94802112|M            |\n",
      "|1943426 |4092025338|Lowes Foods #262 Meat/Seafood             |687 MILLS PARK DR          |NULL      |CARY         |NC   |27519     |NULL                    |2021/02/16 05:00:00+00|Food Stand                |261     |-78.89712096|35.80863645|M            |\n",
      "|1943427 |4092300278|GRAND ASIA MEAT MARKET                    |1253 BUCK JONES RD         |NULL      |RALEIGH      |NC   |27606-3326|(919) 468-2988          |2017/02/22 05:00:00+00|Meat Market               |262     |-78.74067496|35.76583498|M            |\n",
      "|1943428 |4092021744|LITTLE TOKYO                              |5959 TRIANGLE TOWN BLVD    |FC 1132   |RALEIGH      |NC   |27616     |(919) 792-0111          |2013/05/28 04:00:00+00|Food Stand                |276     |-78.57603863|35.86599856|M            |\n",
      "|1943429 |4092030426|DeMario's Smokin' Fry Masters (WCID #629) |1155 TIMBER DR E           |NULL      |GARNER       |NC   |27529-6916|(919) 605-5591          |2019/07/02 04:00:00+00|Mobile Food Units         |279     |-78.57703897|35.68905989|T            |\n",
      "|1943430 |4092018671|Burger King #11244                        |2791 NC 55 HWY             |NULL      |CARY         |NC   |27511     |(919) 387-0071          |2021/07/02 04:00:00+00|Restaurant                |280     |-78.87169627|35.78608086|M            |\n",
      "|1943431 |4092018645|Five Guys #1710                           |1121 Parkside Main ST      |NULL      |CARY         |NC   |27519     |(919) 380-0450          |2021/06/07 04:00:00+00|Restaurant                |287     |-78.88929435|35.84836238|M            |\n",
      "|1943432 |4092030440|Taco Veloz  (WCID #736)                   |1312 N ARENDELL AVE        |NULL      |ZEBULON      |NC   |27597-8732|(914) 497-2580          |2019/08/26 04:00:00+00|Mobile Food Units         |293     |-78.32392727|35.83867806|M            |\n",
      "|1943433 |4092021952|COSTCO WHOLESALE #1206 MEAT               |1021 PINE PLAZA DR         |NULL      |APEX         |NC   |27523     |(919) 331-6035          |2016/03/14 04:00:00+00|Food Stand                |294     |-78.82726689|35.7464159 |M            |\n",
      "|1943434 |4092017192|STARBUCKS #19453                          |185 GRAND HILL PL          |NULL      |HOLLY SPRINGS|NC   |27540     |(919) 557-3246          |2016/04/05 04:00:00+00|Restaurant                |299     |-78.84948074|35.66266499|M            |\n",
      "|1943435 |4092016155|DAILY PLANET CAFE                         |11   W JONES ST            |STE 1509  |RALEIGH      |NC   |27601     |(919) 707-8060          |2012/04/12 04:00:00+00|Restaurant                |309     |-78.63943083|35.78220511|M            |\n",
      "|1943436 |4092025276|Square Burgers                            |225 E MARTIN ST            |NULL      |RALEIGH      |NC   |27601-1316|(919) 896-6600          |2019/07/29 04:00:00+00|Food Stand                |56      |-78.63544584|35.77685868|M            |\n",
      "|1943437 |4092017191|TAMARIND                                  |8531-109 BRIER CREEK PKY   |NULL      |RALEIGH      |NC   |27617     |(919) 406-3473          |2016/03/31 04:00:00+00|Restaurant                |68      |-78.78606215|35.90557616|M            |\n",
      "|1943438 |4092021606|HARRIS TEETER #422 MM/SEAFOOD             |120-100 ST ALBANS DR       |NULL      |RALEIGH      |NC   |27609     |(919) 781-4165          |2010/02/03 05:00:00+00|Food Stand                |90      |-78.63887103|35.83819686|M            |\n",
      "|1943439 |4092015099|Subway #41217                             |8410-140 Louisburg RD      |NULL      |RALEIGH      |NC   |27616     |(919) 266-0300          |2008/03/25 04:00:00+00|Restaurant                |124     |-78.51125194|35.89400635|M            |\n",
      "|1943440 |4092016161|HIBACHI 88                                |3416 POOLE RD              |NULL      |RALEIGH      |NC   |27610     |(919) 231-1688          |2012/04/18 04:00:00+00|Restaurant                |311     |-78.57953261|35.76724571|M            |\n",
      "|1943441 |4092017180|BOND BROTHERS BEER COMPANY                |202 E CEDAR ST             |NULL      |CARY         |NC   |27511     |(919) 459-2670          |2016/03/11 05:00:00+00|Restaurant                |312     |-78.77802091|35.78798563|M            |\n",
      "|1943442 |4092018352|Prime Barbeque                            |403 KNIGHTDALE STATION RUN |NULL      |KNIGHTDALE   |NC   |27545     |(919) 373-8076          |2020/04/22 04:00:00+00|Restaurant                |313     |-78.47356613|35.79722482|M            |\n",
      "|1943443 |4092018422|Moe's Southwest Grill #283                |10760 WAKEFIELD COMMONS DR |NULL      |RALEIGH      |NC   |27614     |(919) 570-3222          |2020/08/19 04:00:00+00|Restaurant                |320     |-78.5408878 |35.94279833|M            |\n",
      "|1943444 |4092021953|COSTCO WHOLESALE #1206 ROTISSERIE/DELI    |1021 PINE PLAZA DR         |NULL      |APEX         |NC   |27523     |(919) 331-6035          |2016/03/14 04:00:00+00|Food Stand                |324     |-78.82726689|35.7464159 |M            |\n",
      "|1943445 |4092025393|Little Caesars #39                        |203 Timber  DR             |NULL      |GARNER       |NC   |27529     |(919) 772-7775          |2021/09/24 04:00:00+00|Food Stand                |330     |-78.60613102|35.68500723|M            |\n",
      "|1943446 |4092021889|FOOD LION #2504 PRODUCE                   |1030-125 N ROGERS LN       |NULL      |RALEIGH      |NC   |27610     |(919) 792-0321          |2015/10/06 04:00:00+00|Food Stand                |239     |-78.54967347|35.79198567|M            |\n",
      "|1943447 |4092021928|CIRCLE K #2723302                         |1414  E WILLIAMS ST        |NULL      |APEX         |NC   |27539     |(919) 362-5131          |2016/02/25 05:00:00+00|Food Stand                |332     |-78.83931692|35.71149361|M            |\n",
      "|1943448 |4092025358|Oak City Pizza                            |2906 Hillsborough  ST      |NULL      |RALEIGH      |NC   |27607     |(919) 322-2544          |2021/04/28 04:00:00+00|Food Stand                |334     |-78.67526404|35.78962141|M            |\n",
      "|1943449 |4092017187|THE 19TH HOLE                             |1527 TRYON RD              |NULL      |RALEIGH      |NC   |27603     |(919) 772-9987          |2016/04/01 04:00:00+00|Restaurant                |352     |-78.66755526|35.73521897|M            |\n",
      "|1943450 |4092017181|COSTCO WHOLESALE #1206 FOOD COURT         |1021 PINE PLAZA DR         |NULL      |APEX         |NC   |27523     |(919) 331-6035          |2016/03/14 04:00:00+00|Restaurant                |356     |-78.82726689|35.7464159 |M            |\n",
      "|1943451 |4092017178|RALEIGH RAW                               |7 W HARGETT ST             |NULL      |RALEIGH      |NC   |27601     |(919) 400-0944          |2016/03/14 04:00:00+00|Restaurant                |357     |-78.63957991|35.77810063|M            |\n",
      "|1943452 |4092018368|D's Bottle Shop                           |13200 Falls of Neuse RD    |STE 115   |RALEIGH      |NC   |27614     |(919) 435-7034          |2020/05/20 04:00:00+00|Restaurant                |358     |-78.55981965|35.9407555 |M            |\n",
      "|1943453 |4092017542|AMERICAN DELI                             |1601-11 CROSS LINK RD      |NULL      |RALEIGH      |NC   |27610     |(919) 516-5111          |2017/03/01 05:00:00+00|Restaurant                |351     |-78.61376   |35.75438832|M            |\n",
      "|1943454 |4092017179|DUCK DONUTS                               |8323 CREEDMOOR RD          |NULL      |RALEIGH      |NC   |27613     |(919) 847-8300          |2016/03/08 05:00:00+00|Restaurant                |376     |-78.68223183|35.90105252|M            |\n",
      "|1943455 |4092022008|KINGS WOK                                 |8320 Litchford  RD         |SUITE 160 |RALEIGH      |NC   |27615     |(919) 878-5252          |2017/03/09 05:00:00+00|Food Stand                |382     |-78.59988229|35.89223772|M            |\n",
      "|1943456 |4092017849|The Melting Pot                           |3100 Wake Forest RD        |NULL      |RALEIGH      |NC   |27609-7846|(919) 878-0477          |2018/05/14 04:00:00+00|Restaurant                |393     |-78.62038753|35.82333592|M            |\n",
      "|1943457 |4092030223|Valentino's (WCID 378)                    |4820 Signett DR            |NULL      |RALEIGH      |NC   |27615     |(919) 376-5814          |2010/07/09 04:00:00+00|Mobile Food Units         |394     |-78.58339304|35.85150753|M            |\n",
      "|1943458 |4092018593|Wendy's                                   |1809 N HARRISON AVE        |NULL      |CARY         |NC   |27513     |(919) 677-0039          |2021/03/24 04:00:00+00|Restaurant                |409     |-78.76795619|35.83059406|M            |\n",
      "|1943459 |4092016438|PDQ WAKE FOREST                           |11690 NORTHPARK DR         |NULL      |WAKE FOREST  |NC   |27587     |(919) 648-4221          |2013/05/31 04:00:00+00|Restaurant                |412     |-78.54504471|35.96485726|M            |\n",
      "|1943460 |4092017336|GREENWAY BEER AND WINE                    |7530 RAMBLE WAY            |SUITE 103 |RALEIGH      |NC   |27616     |(919) 803-6920          |2016/09/27 04:00:00+00|Restaurant                |416     |-78.537511  |35.87630713|M            |\n",
      "|1943461 |4092018228|Hady International Food                   |717-199 E MARTIN ST        |NULL      |RALEIGH      |NC   |27610     |(919) 741-1111          |2019/11/13 05:00:00+00|Restaurant                |410     |-78.62699406|35.77656647|M            |\n",
      "|1943462 |4092021899|FOOD LION #193 PRODUCE                    |5633 CREEDMOOR RD          |NULL      |RALEIGH      |NC   |27612     |(919) 781-0597          |2015/10/22 04:00:00+00|Food Stand                |417     |-78.68200551|35.85879117|M            |\n",
      "|1943463 |4092025265|Mama Crow's                               |500 E Davie  ST            |STE 116   |RALEIGH      |NC   |27601     |NULL                    |2019/06/18 04:00:00+00|Food Stand                |426     |-78.63206132|35.77487463|M            |\n",
      "|1943464 |4092016118|TENKO JAPAN                               |6325 FALLS OF NEUSE  RD    |NULL      |RALEIGH      |NC   |27615     |(919) 876-4545          |2012/03/01 05:00:00+00|Restaurant                |432     |-78.62251606|35.86922851|M            |\n",
      "|1943465 |4092015101|Michelangelos                             |7280 GB Alford  HWY        |NULL      |HOLLY SPRINGS|NC   |27540     |(919) 557-4992          |2008/03/26 04:00:00+00|Restaurant                |441     |-78.83292783|35.63500069|M            |\n",
      "|1943466 |4092016152|CLARK DINING HALL                         |221 JENSEN  DR             |NULL      |RALEIGH      |NC   |27695     |(919) 513-4680          |2012/02/09 05:00:00+00|Restaurant                |442     |-78.67872874|35.78448278|M            |\n",
      "|1943467 |4092015549|BRAVO'S MEXICAN GRILL                     |208 GRANDE HEIGHTS DR      |NULL      |CARY         |NC   |27513     |(919) 481-3811          |2009/12/31 05:00:00+00|Restaurant                |476     |-78.7805746 |35.804703  |M            |\n",
      "|1943468 |4092016439|RANDY'S PIZZA                             |2458 WYCLIFF RD            |NULL      |RALEIGH      |NC   |27607     |(919) 322-5990          |2013/05/31 04:00:00+00|Restaurant                |501     |-78.692995  |35.81676997|M            |\n",
      "|1943469 |4092018646|Five Guys #1797                           |1075 Pine Plaza BLVD       |NULL      |APEX         |NC   |27523     |(919) 616-0011          |2021/06/07 04:00:00+00|Restaurant                |450     |-78.82917015|35.7478436 |M            |\n",
      "|1943470 |4092016263|DICKEY'S BARBECUE PIT #413                |6552 GLENWOOD  AVE         |NULL      |RALEIGH      |NC   |27612     |(919) 436-3995          |2012/09/20 04:00:00+00|Restaurant                |524     |-78.70609774|35.86074545|M            |\n",
      "|1943471 |4092018287|Zanyu Asian Noodles                       |8450 HONEYCUTT RD          |STE. 112  |RALEIGH      |NC   |27615     |(919) 803-1340          |2020/01/07 05:00:00+00|Restaurant                |525     |-78.62166097|35.89510574|M            |\n",
      "|1943472 |4092021936|CIRCLE K #3146                            |1720  N MAIN ST            |NULL      |FUQUAY VARINA|NC   |27526     |NULL                    |2016/02/25 05:00:00+00|Food Stand                |544     |-78.75810908|35.59678082|M            |\n",
      "|1943473 |4092015913|SAS BUILDING C CAFE                       |820 SAS CAMPUS DR          |NULL      |CARY         |NC   |27513     |(919) 531-8651          |2011/03/16 04:00:00+00|Restaurant                |545     |-78.75122071|35.81750425|M            |\n",
      "|1943474 |4092014946|Good Taste Chinese Restaurant             |532 W Gannon AVE           |NULL      |ZEBULON      |NC   |27597     |(919) 404-1218          |2007/08/17 04:00:00+00|Restaurant                |552     |-78.32626437|35.8212487 |M            |\n",
      "|1943475 |4092018121|Chido Taco                                |2330 BALE ST               |NULL      |RALEIGH      |NC   |27608     |(919) 594-1930          |2019/06/27 04:00:00+00|Restaurant                |555     |-78.62748278|35.81292611|M            |\n",
      "+--------+----------+------------------------------------------+---------------------------+----------+-------------+-----+----------+------------------------+----------------------+--------------------------+--------+------------+-----------+-------------+\n",
      "only showing top 100 rows\n",
      "\n"
     ]
    }
   ],
   "source": [
    "eateriesDf.show(100, truncate = False)"
   ]
  },
  {
   "cell_type": "code",
   "execution_count": null,
   "id": "18b24cee",
   "metadata": {},
   "outputs": [],
   "source": [
    "eateriesSchema = (\n",
    "    StructType ([\n",
    "        StructField(\"ObjectId\", IntegerType()   , True),\n",
    "        StructField(\"HsisId\", LongType()   , True),\n",
    "        StructField(\"Name\", StringType()   , True),\n",
    "        StructField(\"HsisId\", LongType()   , True),\n",
    "        StructField('addresses_values', StructType([\n",
    "                    StructField('country', StringType(), True),\n",
    "                    StructField('street', StringType(), True),\n",
    "                   StructField('ZipCode', StringType(), True),\n",
    "                   ]), True),\n",
    "         \n",
    "    ])\n",
    ")"
   ]
  }
 ],
 "metadata": {
  "kernelspec": {
   "display_name": "Python 3 (ipykernel)",
   "language": "python",
   "name": "python3"
  },
  "language_info": {
   "codemirror_mode": {
    "name": "ipython",
    "version": 3
   },
   "file_extension": ".py",
   "mimetype": "text/x-python",
   "name": "python",
   "nbconvert_exporter": "python",
   "pygments_lexer": "ipython3",
   "version": "3.11.5"
  }
 },
 "nbformat": 4,
 "nbformat_minor": 5
}

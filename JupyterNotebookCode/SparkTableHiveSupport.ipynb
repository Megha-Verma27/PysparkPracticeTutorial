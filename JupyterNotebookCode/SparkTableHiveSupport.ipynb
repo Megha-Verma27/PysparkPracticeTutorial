{
 "cells": [
  {
   "cell_type": "code",
   "execution_count": 1,
   "id": "c31b2769",
   "metadata": {},
   "outputs": [
    {
     "data": {
      "text/plain": [
       "'C:\\\\Users\\\\Admin\\\\anaconda3\\\\envs\\\\SparkEnvironment\\\\Lib\\\\site-packages\\\\pyspark'"
      ]
     },
     "execution_count": 1,
     "metadata": {},
     "output_type": "execute_result"
    }
   ],
   "source": [
    "import findspark\n",
    "findspark.init()\n",
    "findspark.find()"
   ]
  },
  {
   "cell_type": "code",
   "execution_count": 2,
   "id": "808a2132",
   "metadata": {},
   "outputs": [
    {
     "data": {
      "text/html": [
       "\n",
       "            <div>\n",
       "                <p><b>SparkSession - hive</b></p>\n",
       "                \n",
       "        <div>\n",
       "            <p><b>SparkContext</b></p>\n",
       "\n",
       "            <p><a href=\"http://192.168.86.219:4043\">Spark UI</a></p>\n",
       "\n",
       "            <dl>\n",
       "              <dt>Version</dt>\n",
       "                <dd><code>v3.5.0</code></dd>\n",
       "              <dt>Master</dt>\n",
       "                <dd><code>local[4]</code></dd>\n",
       "              <dt>AppName</dt>\n",
       "                <dd><code>SparkTablesApp</code></dd>\n",
       "            </dl>\n",
       "        </div>\n",
       "        \n",
       "            </div>\n",
       "        "
      ],
      "text/plain": [
       "<pyspark.sql.session.SparkSession at 0x2e998f14b10>"
      ]
     },
     "execution_count": 2,
     "metadata": {},
     "output_type": "execute_result"
    }
   ],
   "source": [
    "from pyspark.sql import SparkSession\n",
    "from pyspark.sql.types import *\n",
    "from pyspark.sql.functions import *\n",
    "\n",
    "spark = (\n",
    "    SparkSession\n",
    "    .builder\n",
    "    .appName(\"SparkTablesApp\")\n",
    "    .master(\"local[4]\")\n",
    "    .config(\"spark.dynamicAllocation.enabled\", \"false\")\n",
    "    .config(\"spark.sql.adaptive.enabled\", \"false\")\n",
    "    .enableHiveSupport()\n",
    "    .getOrCreate()\n",
    ")\n",
    "\n",
    "sc = spark.sparkContext\n",
    "\n",
    "spark"
   ]
  },
  {
   "cell_type": "code",
   "execution_count": 3,
   "id": "ea25b310",
   "metadata": {},
   "outputs": [],
   "source": [
    "# Create schema for Yellow Taxi Data\n",
    " \n",
    "taxiSchema = (\n",
    "                    StructType\n",
    "                    ([ \n",
    "                        StructField(\"VendorId\"               , IntegerType()   , True),\n",
    "                        StructField(\"lpep_pickup_datetime\"   , TimestampType() , True),\n",
    "                        StructField(\"lpep_dropoff_datetime\"  , TimestampType() , True),                            \n",
    "                        StructField(\"passenger_count\"        , DoubleType()    , True),\n",
    "                        StructField(\"trip_distance\"          , DoubleType()    , True),\n",
    "                        StructField(\"RatecodeID\"             , DoubleType()    , True),                            \n",
    "                        StructField(\"store_and_fwd_flag\"     , StringType()    , True),\n",
    "                        StructField(\"PULocationID\"           , IntegerType()   , True),\n",
    "                        StructField(\"DOLocationID\"           , IntegerType()   , True),                            \n",
    "                        StructField(\"payment_type\"           , IntegerType()   , True),                            \n",
    "                        StructField(\"fare_amount\"            , DoubleType()    , True),\n",
    "                        StructField(\"extra\"                  , DoubleType()    , True),\n",
    "                        StructField(\"mta_tax\"                , DoubleType()    , True),\n",
    "                        StructField(\"tip_amount\"             , DoubleType()    , True),\n",
    "                        StructField(\"tolls_amount\"           , DoubleType()    , True),\n",
    "                        StructField(\"improvement_surcharge\"  , DoubleType()    , True),\n",
    "                        StructField(\"total_amount\"           , DoubleType()    , True),\n",
    "                        StructField(\"congestion_surcharge\"   , DoubleType()    , True),\n",
    "                        StructField(\"airport_fee\"            , DoubleType()    , True)\n",
    "                    ])\n",
    "               )"
   ]
  },
  {
   "cell_type": "code",
   "execution_count": 4,
   "id": "db728d56",
   "metadata": {},
   "outputs": [
    {
     "name": "stdout",
     "output_type": "stream",
     "text": [
      "root\n",
      " |-- VendorId: integer (nullable = true)\n",
      " |-- lpep_pickup_datetime: timestamp (nullable = true)\n",
      " |-- lpep_dropoff_datetime: timestamp (nullable = true)\n",
      " |-- passenger_count: double (nullable = true)\n",
      " |-- trip_distance: double (nullable = true)\n",
      " |-- RatecodeID: double (nullable = true)\n",
      " |-- store_and_fwd_flag: string (nullable = true)\n",
      " |-- PULocationID: integer (nullable = true)\n",
      " |-- DOLocationID: integer (nullable = true)\n",
      " |-- payment_type: integer (nullable = true)\n",
      " |-- fare_amount: double (nullable = true)\n",
      " |-- extra: double (nullable = true)\n",
      " |-- mta_tax: double (nullable = true)\n",
      " |-- tip_amount: double (nullable = true)\n",
      " |-- tolls_amount: double (nullable = true)\n",
      " |-- improvement_surcharge: double (nullable = true)\n",
      " |-- total_amount: double (nullable = true)\n",
      " |-- congestion_surcharge: double (nullable = true)\n",
      " |-- airport_fee: double (nullable = true)\n",
      "\n"
     ]
    }
   ],
   "source": [
    "yellowTaxiDf = (\n",
    "    spark\n",
    "    .read\n",
    "    .option(\"header\", \"true\")\n",
    "    .schema(taxiSchema)\n",
    "    .csv(\"C:\\DataFiles\\YellowTaxis_202210.csv\")\n",
    ")\n",
    "yellowTaxiDf.printSchema()"
   ]
  },
  {
   "cell_type": "code",
   "execution_count": 5,
   "id": "bc27fd75",
   "metadata": {},
   "outputs": [
    {
     "name": "stdout",
     "output_type": "stream",
     "text": [
      "+---------+\n",
      "|namespace|\n",
      "+---------+\n",
      "|  default|\n",
      "+---------+\n",
      "\n"
     ]
    }
   ],
   "source": [
    "spark.sql(\"\"\"\n",
    "show databases\n",
    "\"\"\").show()"
   ]
  },
  {
   "cell_type": "code",
   "execution_count": 8,
   "id": "69bcd60e",
   "metadata": {},
   "outputs": [
    {
     "data": {
      "text/plain": [
       "DataFrame[]"
      ]
     },
     "execution_count": 8,
     "metadata": {},
     "output_type": "execute_result"
    }
   ],
   "source": [
    "spark.sql(\"\"\"\n",
    "create database if not exists TaxisDB\n",
    "\"\"\")"
   ]
  },
  {
   "cell_type": "code",
   "execution_count": 12,
   "id": "a9911adc",
   "metadata": {},
   "outputs": [
    {
     "name": "stdout",
     "output_type": "stream",
     "text": [
      "+---------+\n",
      "|namespace|\n",
      "+---------+\n",
      "|  default|\n",
      "|  taxisdb|\n",
      "+---------+\n",
      "\n"
     ]
    }
   ],
   "source": [
    "spark.sql(\"\"\"\n",
    "show databases\n",
    "\"\"\").show()"
   ]
  },
  {
   "cell_type": "code",
   "execution_count": 10,
   "id": "cd960fe2",
   "metadata": {},
   "outputs": [],
   "source": [
    "(\n",
    "    yellowTaxiDf\n",
    "    .write\n",
    "    .mode(\"overwrite\")\n",
    "    .saveAsTable(\"TaxisDB.YellowTaxisManaged\")\n",
    ")"
   ]
  },
  {
   "cell_type": "code",
   "execution_count": 11,
   "id": "e000e532",
   "metadata": {},
   "outputs": [
    {
     "name": "stdout",
     "output_type": "stream",
     "text": [
      "+---------+------------------+-----------+\n",
      "|namespace|tableName         |isTemporary|\n",
      "+---------+------------------+-----------+\n",
      "|taxisdb  |yellowtaxismanaged|false      |\n",
      "+---------+------------------+-----------+\n",
      "\n"
     ]
    }
   ],
   "source": [
    "spark.sql(\"\"\"\n",
    "show tables in TaxisDB\n",
    "\"\"\").show(50, truncate = False)"
   ]
  },
  {
   "cell_type": "code",
   "execution_count": 13,
   "id": "56124525",
   "metadata": {},
   "outputs": [],
   "source": [
    "(yellowTaxiDf\n",
    " .write\n",
    " .mode(\"overwrite\")\n",
    " .option(\"path\", \"C:\\DataFiles\\output.parquet\")\n",
    " .saveAsTable(\"TaxisDB.YellowTaxis\")\n",
    ")"
   ]
  },
  {
   "cell_type": "code",
   "execution_count": 14,
   "id": "a68cc246",
   "metadata": {},
   "outputs": [
    {
     "name": "stdout",
     "output_type": "stream",
     "text": [
      "+----------------------------+--------------------------------------------------------------+-------+\n",
      "|col_name                    |data_type                                                     |comment|\n",
      "+----------------------------+--------------------------------------------------------------+-------+\n",
      "|VendorId                    |int                                                           |NULL   |\n",
      "|lpep_pickup_datetime        |timestamp                                                     |NULL   |\n",
      "|lpep_dropoff_datetime       |timestamp                                                     |NULL   |\n",
      "|passenger_count             |double                                                        |NULL   |\n",
      "|trip_distance               |double                                                        |NULL   |\n",
      "|RatecodeID                  |double                                                        |NULL   |\n",
      "|store_and_fwd_flag          |string                                                        |NULL   |\n",
      "|PULocationID                |int                                                           |NULL   |\n",
      "|DOLocationID                |int                                                           |NULL   |\n",
      "|payment_type                |int                                                           |NULL   |\n",
      "|fare_amount                 |double                                                        |NULL   |\n",
      "|extra                       |double                                                        |NULL   |\n",
      "|mta_tax                     |double                                                        |NULL   |\n",
      "|tip_amount                  |double                                                        |NULL   |\n",
      "|tolls_amount                |double                                                        |NULL   |\n",
      "|improvement_surcharge       |double                                                        |NULL   |\n",
      "|total_amount                |double                                                        |NULL   |\n",
      "|congestion_surcharge        |double                                                        |NULL   |\n",
      "|airport_fee                 |double                                                        |NULL   |\n",
      "|                            |                                                              |       |\n",
      "|# Detailed Table Information|                                                              |       |\n",
      "|Catalog                     |spark_catalog                                                 |       |\n",
      "|Database                    |taxisdb                                                       |       |\n",
      "|Table                       |yellowtaxis                                                   |       |\n",
      "|Owner                       |Admin                                                         |       |\n",
      "|Created Time                |Thu Jan 04 14:43:45 IST 2024                                  |       |\n",
      "|Last Access                 |UNKNOWN                                                       |       |\n",
      "|Created By                  |Spark 3.5.0                                                   |       |\n",
      "|Type                        |EXTERNAL                                                      |       |\n",
      "|Provider                    |parquet                                                       |       |\n",
      "|Statistics                  |78241286 bytes                                                |       |\n",
      "|Location                    |file:/C:/DataFiles/output.parquet                             |       |\n",
      "|Serde Library               |org.apache.hadoop.hive.ql.io.parquet.serde.ParquetHiveSerDe   |       |\n",
      "|InputFormat                 |org.apache.hadoop.hive.ql.io.parquet.MapredParquetInputFormat |       |\n",
      "|OutputFormat                |org.apache.hadoop.hive.ql.io.parquet.MapredParquetOutputFormat|       |\n",
      "+----------------------------+--------------------------------------------------------------+-------+\n",
      "\n"
     ]
    }
   ],
   "source": [
    "spark.sql(\"\"\"\n",
    "describe table extended TaxisDB.Yellowtaxis\n",
    "\"\"\").show(50, truncate = False)"
   ]
  },
  {
   "cell_type": "code",
   "execution_count": 15,
   "id": "09e23cd2",
   "metadata": {},
   "outputs": [
    {
     "data": {
      "text/plain": [
       "DataFrame[]"
      ]
     },
     "execution_count": 15,
     "metadata": {},
     "output_type": "execute_result"
    }
   ],
   "source": [
    "spark.sql(\"\"\"\n",
    "drop table TaxisDB.yellowTaxis\n",
    "\"\"\")\n"
   ]
  },
  {
   "cell_type": "code",
   "execution_count": 16,
   "id": "ab48cd85",
   "metadata": {},
   "outputs": [
    {
     "data": {
      "text/plain": [
       "DataFrame[]"
      ]
     },
     "execution_count": 16,
     "metadata": {},
     "output_type": "execute_result"
    }
   ],
   "source": [
    "spark.sql(\"\"\"\n",
    "create table TaxisDB.yellowTaxis\n",
    "using parquet\n",
    "location \"C://DataFiles//output.parquet\"\n",
    "\"\"\")"
   ]
  },
  {
   "cell_type": "code",
   "execution_count": null,
   "id": "de89225a",
   "metadata": {},
   "outputs": [],
   "source": []
  }
 ],
 "metadata": {
  "kernelspec": {
   "display_name": "Python 3 (ipykernel)",
   "language": "python",
   "name": "python3"
  },
  "language_info": {
   "codemirror_mode": {
    "name": "ipython",
    "version": 3
   },
   "file_extension": ".py",
   "mimetype": "text/x-python",
   "name": "python",
   "nbconvert_exporter": "python",
   "pygments_lexer": "ipython3",
   "version": "3.11.5"
  }
 },
 "nbformat": 4,
 "nbformat_minor": 5
}

{
 "cells": [
  {
   "cell_type": "code",
   "execution_count": 1,
   "id": "3a393ed9",
   "metadata": {},
   "outputs": [
    {
     "data": {
      "text/plain": [
       "'C:\\\\Users\\\\Admin\\\\anaconda3\\\\envs\\\\SparkEnvironment\\\\Lib\\\\site-packages\\\\pyspark'"
      ]
     },
     "execution_count": 1,
     "metadata": {},
     "output_type": "execute_result"
    }
   ],
   "source": [
    "import findspark\n",
    "findspark.init()\n",
    "findspark.find()"
   ]
  },
  {
   "cell_type": "code",
   "execution_count": 2,
   "id": "ffbf22e0",
   "metadata": {},
   "outputs": [
    {
     "data": {
      "text/html": [
       "\n",
       "            <div>\n",
       "                <p><b>SparkSession - in-memory</b></p>\n",
       "                \n",
       "        <div>\n",
       "            <p><b>SparkContext</b></p>\n",
       "\n",
       "            <p><a href=\"http://192.168.86.219:4043\">Spark UI</a></p>\n",
       "\n",
       "            <dl>\n",
       "              <dt>Version</dt>\n",
       "                <dd><code>v3.5.0</code></dd>\n",
       "              <dt>Master</dt>\n",
       "                <dd><code>local[4]</code></dd>\n",
       "              <dt>AppName</dt>\n",
       "                <dd><code>PersistingDataApp</code></dd>\n",
       "            </dl>\n",
       "        </div>\n",
       "        \n",
       "            </div>\n",
       "        "
      ],
      "text/plain": [
       "<pyspark.sql.session.SparkSession at 0x19b0ea2fb90>"
      ]
     },
     "execution_count": 2,
     "metadata": {},
     "output_type": "execute_result"
    }
   ],
   "source": [
    "from pyspark.sql import SparkSession\n",
    "from pyspark.sql.types import *\n",
    "from pyspark.sql.functions import *\n",
    "\n",
    "spark = (\n",
    "    SparkSession\n",
    "    .builder\n",
    "    .appName(\"PersistingDataApp\")\n",
    "    .master(\"local[4]\")\n",
    "    .config(\"spark.dynamicAllocation.enabled\", \"false\")\n",
    "    .config(\"spark.sql.adaptive.enabled\", \"false\")\n",
    "    .getOrCreate()\n",
    ")\n",
    "\n",
    "sc = spark.sparkContext\n",
    "\n",
    "spark"
   ]
  },
  {
   "cell_type": "code",
   "execution_count": 3,
   "id": "b8281ac0",
   "metadata": {},
   "outputs": [],
   "source": [
    "# Create schema for Yellow Taxi Data\n",
    " \n",
    "taxiSchema = (\n",
    "                    StructType\n",
    "                    ([ \n",
    "                        StructField(\"VendorId\"               , IntegerType()   , True),\n",
    "                        StructField(\"lpep_pickup_datetime\"   , TimestampType() , True),\n",
    "                        StructField(\"lpep_dropoff_datetime\"  , TimestampType() , True),                            \n",
    "                        StructField(\"passenger_count\"        , DoubleType()    , True),\n",
    "                        StructField(\"trip_distance\"          , DoubleType()    , True),\n",
    "                        StructField(\"RatecodeID\"             , DoubleType()    , True),                            \n",
    "                        StructField(\"store_and_fwd_flag\"     , StringType()    , True),\n",
    "                        StructField(\"PULocationID\"           , IntegerType()   , True),\n",
    "                        StructField(\"DOLocationID\"           , IntegerType()   , True),                            \n",
    "                        StructField(\"payment_type\"           , IntegerType()   , True),                            \n",
    "                        StructField(\"fare_amount\"            , DoubleType()    , True),\n",
    "                        StructField(\"extra\"                  , DoubleType()    , True),\n",
    "                        StructField(\"mta_tax\"                , DoubleType()    , True),\n",
    "                        StructField(\"tip_amount\"             , DoubleType()    , True),\n",
    "                        StructField(\"tolls_amount\"           , DoubleType()    , True),\n",
    "                        StructField(\"improvement_surcharge\"  , DoubleType()    , True),\n",
    "                        StructField(\"total_amount\"           , DoubleType()    , True),\n",
    "                        StructField(\"congestion_surcharge\"   , DoubleType()    , True),\n",
    "                        StructField(\"airport_fee\"            , DoubleType()    , True)\n",
    "                    ])\n",
    "               )\n"
   ]
  },
  {
   "cell_type": "code",
   "execution_count": 6,
   "id": "e84ff016",
   "metadata": {},
   "outputs": [
    {
     "name": "stdout",
     "output_type": "stream",
     "text": [
      "root\n",
      " |-- VendorId: integer (nullable = true)\n",
      " |-- lpep_pickup_datetime: timestamp (nullable = true)\n",
      " |-- lpep_dropoff_datetime: timestamp (nullable = true)\n",
      " |-- passenger_count: double (nullable = true)\n",
      " |-- trip_distance: double (nullable = true)\n",
      " |-- RatecodeID: double (nullable = true)\n",
      " |-- store_and_fwd_flag: string (nullable = true)\n",
      " |-- PULocationID: integer (nullable = true)\n",
      " |-- DOLocationID: integer (nullable = true)\n",
      " |-- payment_type: integer (nullable = true)\n",
      " |-- fare_amount: double (nullable = true)\n",
      " |-- extra: double (nullable = true)\n",
      " |-- mta_tax: double (nullable = true)\n",
      " |-- tip_amount: double (nullable = true)\n",
      " |-- tolls_amount: double (nullable = true)\n",
      " |-- improvement_surcharge: double (nullable = true)\n",
      " |-- total_amount: double (nullable = true)\n",
      " |-- congestion_surcharge: double (nullable = true)\n",
      " |-- airport_fee: double (nullable = true)\n",
      "\n"
     ]
    }
   ],
   "source": [
    "yellowTaxiDf = (\n",
    "    spark\n",
    "    .read\n",
    "    .option(\"header\", \"true\")\n",
    "    .schema(taxiSchema)\n",
    "    .csv(\"C:\\DataFiles\\YellowTaxis_202210.csv\")\n",
    ")\n",
    "yellowTaxiDf.printSchema()\n",
    "\n",
    "yellowTaxiGroupDf = (\n",
    "    yellowTaxiDf.dropDuplicates().groupBy(\"PULocationID\").agg(sum(\"total_amount\"))\n",
    ")"
   ]
  },
  {
   "cell_type": "code",
   "execution_count": 9,
   "id": "7c6f9ceb",
   "metadata": {},
   "outputs": [],
   "source": [
    "(\n",
    "    yellowTaxiGroupDf\n",
    "    .write\n",
    "    .option(\"header\", \"true\")\n",
    "    .option(\"dateformat\", \"yyyy-MM-dd HH:mm:ss.S\")\n",
    "    .mode(\"overwrite\")\n",
    "    .csv(\"C:\\DataFiles\\Output\\CacheTest_withoutEnabling.csv\")\n",
    ")"
   ]
  },
  {
   "cell_type": "code",
   "execution_count": 10,
   "id": "11fc93ad",
   "metadata": {},
   "outputs": [
    {
     "data": {
      "text/plain": [
       "DataFrame[PULocationID: int, sum(total_amount): double]"
      ]
     },
     "execution_count": 10,
     "metadata": {},
     "output_type": "execute_result"
    }
   ],
   "source": [
    "#Chaching for one session / per jobs\n",
    "\n",
    "import pyspark\n",
    "\n",
    "yellowTaxiGroupDf.persist(pyspark.StorageLevel.MEMORY_AND_DISK)"
   ]
  },
  {
   "cell_type": "code",
   "execution_count": 11,
   "id": "f88086c1",
   "metadata": {},
   "outputs": [],
   "source": [
    "(\n",
    "    yellowTaxiGroupDf\n",
    "    .write\n",
    "    .option(\"header\", \"true\")\n",
    "    .option(\"dateformat\", \"yyyy-MM-dd HH:mm:ss.S\")\n",
    "    .mode(\"overwrite\")\n",
    "    .csv(\"C:\\DataFiles\\Output\\CacheTest_EnabledFirstTime.csv\")\n",
    ")"
   ]
  },
  {
   "cell_type": "code",
   "execution_count": 12,
   "id": "eabcf061",
   "metadata": {},
   "outputs": [],
   "source": [
    "(\n",
    "    yellowTaxiGroupDf\n",
    "    .write\n",
    "    .option(\"header\", \"true\")\n",
    "    .option(\"dateformat\", \"yyyy-MM-dd HH:mm:ss.S\")\n",
    "    .mode(\"overwrite\")\n",
    "    .csv(\"C:\\DataFiles\\Output\\CacheTest_EnabledSecondTime.csv\")\n",
    ")"
   ]
  },
  {
   "cell_type": "code",
   "execution_count": 13,
   "id": "d1caf319",
   "metadata": {},
   "outputs": [
    {
     "data": {
      "text/plain": [
       "DataFrame[PULocationID: int, sum(total_amount): double]"
      ]
     },
     "execution_count": 13,
     "metadata": {},
     "output_type": "execute_result"
    }
   ],
   "source": [
    "yellowTaxiGroupDf.unpersist()"
   ]
  },
  {
   "cell_type": "code",
   "execution_count": null,
   "id": "bdf62ff9",
   "metadata": {},
   "outputs": [],
   "source": []
  }
 ],
 "metadata": {
  "kernelspec": {
   "display_name": "Python 3 (ipykernel)",
   "language": "python",
   "name": "python3"
  },
  "language_info": {
   "codemirror_mode": {
    "name": "ipython",
    "version": 3
   },
   "file_extension": ".py",
   "mimetype": "text/x-python",
   "name": "python",
   "nbconvert_exporter": "python",
   "pygments_lexer": "ipython3",
   "version": "3.11.5"
  }
 },
 "nbformat": 4,
 "nbformat_minor": 5
}

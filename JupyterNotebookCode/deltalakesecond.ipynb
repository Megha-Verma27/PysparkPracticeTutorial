{
 "cells": [
  {
   "cell_type": "code",
   "execution_count": 1,
   "id": "61e16a8b",
   "metadata": {},
   "outputs": [
    {
     "data": {
      "text/html": [
       "<style>pre { white-space: pre !important; }</style>"
      ],
      "text/plain": [
       "<IPython.core.display.HTML object>"
      ]
     },
     "metadata": {},
     "output_type": "display_data"
    }
   ],
   "source": [
    "import findspark\n",
    "findspark.init()\n",
    "findspark.find()\n",
    "\n",
    "from IPython.display import display, HTML\n",
    "display(HTML(\"<style>pre { white-space: pre !important; }</style>\"))"
   ]
  },
  {
   "cell_type": "code",
   "execution_count": 2,
   "id": "063f856e",
   "metadata": {},
   "outputs": [
    {
     "data": {
      "text/html": [
       "\n",
       "            <div>\n",
       "                <p><b>SparkSession - in-memory</b></p>\n",
       "                \n",
       "        <div>\n",
       "            <p><b>SparkContext</b></p>\n",
       "\n",
       "            <p><a href=\"http://192.168.86.219:4043\">Spark UI</a></p>\n",
       "\n",
       "            <dl>\n",
       "              <dt>Version</dt>\n",
       "                <dd><code>v3.5.0</code></dd>\n",
       "              <dt>Master</dt>\n",
       "                <dd><code>local[4]</code></dd>\n",
       "              <dt>AppName</dt>\n",
       "                <dd><code>DeltaLakeApp</code></dd>\n",
       "            </dl>\n",
       "        </div>\n",
       "        \n",
       "            </div>\n",
       "        "
      ],
      "text/plain": [
       "<pyspark.sql.session.SparkSession at 0x1a59ebe2010>"
      ]
     },
     "execution_count": 2,
     "metadata": {},
     "output_type": "execute_result"
    }
   ],
   "source": [
    "from pyspark.sql import SparkSession\n",
    "from pyspark.sql.types import *\n",
    "from pyspark.sql.functions import *\n",
    "\n",
    "spark = (\n",
    "            SparkSession\n",
    "                .builder\n",
    "                .appName(\"DeltaLakeApp\")\n",
    "    \n",
    "                .master(\"local[4]\")    \n",
    "                .config(\"spark.dynamicAllocation.enabled\", \"false\")     \n",
    "    \n",
    "    \n",
    "                # Add package for Delta Lake\n",
    "                .config(\"spark.jars.packages\", \"io.delta:delta-spark_2.12:3.0.0\")\n",
    "    \n",
    "    \n",
    "                # Add settings to use Delta Lake with Spark session\n",
    "                .config(\"spark.sql.extensions\", \"io.delta.sql.DeltaSparkSessionExtension\")\n",
    "    \n",
    "                .config(\"spark.sql.catalog.spark_catalog\", \n",
    "                        \"org.apache.spark.sql.delta.catalog.DeltaCatalog\")\n",
    "    \n",
    "                .getOrCreate()\n",
    "        )\n",
    "\n",
    "sc = spark.sparkContext\n",
    "\n",
    "spark"
   ]
  },
  {
   "cell_type": "code",
   "execution_count": 5,
   "id": "0cb8707d",
   "metadata": {},
   "outputs": [
    {
     "data": {
      "text/plain": [
       "DataFrame[]"
      ]
     },
     "execution_count": 5,
     "metadata": {},
     "output_type": "execute_result"
    }
   ],
   "source": [
    "spark.sql(\"\"\"\n",
    "\n",
    "CREATE DATABASE IF NOT EXISTS TaxisDB\n",
    "\n",
    "\"\"\")"
   ]
  },
  {
   "cell_type": "code",
   "execution_count": 6,
   "id": "b8ea3931",
   "metadata": {},
   "outputs": [
    {
     "data": {
      "text/plain": [
       "DataFrame[]"
      ]
     },
     "execution_count": 6,
     "metadata": {},
     "output_type": "execute_result"
    }
   ],
   "source": [
    "\n",
    "\n",
    "\n",
    "\n",
    "spark.sql(\"\"\"\n",
    "\n",
    "CREATE TABLE TaxisDB.YellowTaxisdelta\n",
    "(\n",
    "    VendorId                int ,\n",
    "lpep_pickup_datetime    timestamp,\n",
    "lpep_dropoff_datetime   timestamp,\n",
    "passenger_count         Double,\n",
    "trip_distance          Double,\n",
    "RatecodeID            Double,  \n",
    "store_and_fwd_flag     String, \n",
    "PULocationID           int , \n",
    "DOLocationID           int ,\n",
    "payment_type           int ,\n",
    "fare_amount             Double, \n",
    "extra                  Double,  \n",
    "mta_tax                 Double,  \n",
    "tip_amount              Double,  \n",
    "tolls_amount            Double,  \n",
    "improvement_surcharge   Double, \n",
    "total_amount           Double, \n",
    "congestion_surcharge   Double, \n",
    "airport_fee            Double  \n",
    ")\n",
    "\n",
    "USING DELTA                  -- default is Parquet\n",
    "\n",
    "LOCATION \"C:/DataFiles/deltaThings/deltaNotebook/YellowTaxis.delta\"\n",
    "\n",
    "PARTITIONED BY (VendorId)    -- optional\n",
    "\n",
    "COMMENT 'This table stores ride information for Yellow Taxis'\n",
    "\n",
    "\"\"\")"
   ]
  },
  {
   "cell_type": "code",
   "execution_count": 8,
   "id": "8806082f",
   "metadata": {},
   "outputs": [
    {
     "name": "stdout",
     "output_type": "stream",
     "text": [
      "+----------------------------+--------------------------------------------------------------+-------+\n",
      "|col_name                    |data_type                                                     |comment|\n",
      "+----------------------------+--------------------------------------------------------------+-------+\n",
      "|VendorId                    |int                                                           |NULL   |\n",
      "|lpep_pickup_datetime        |timestamp                                                     |NULL   |\n",
      "|lpep_dropoff_datetime       |timestamp                                                     |NULL   |\n",
      "|passenger_count             |double                                                        |NULL   |\n",
      "|trip_distance               |double                                                        |NULL   |\n",
      "|RatecodeID                  |double                                                        |NULL   |\n",
      "|store_and_fwd_flag          |string                                                        |NULL   |\n",
      "|PULocationID                |int                                                           |NULL   |\n",
      "|DOLocationID                |int                                                           |NULL   |\n",
      "|payment_type                |int                                                           |NULL   |\n",
      "|fare_amount                 |double                                                        |NULL   |\n",
      "|extra                       |double                                                        |NULL   |\n",
      "|mta_tax                     |double                                                        |NULL   |\n",
      "|tip_amount                  |double                                                        |NULL   |\n",
      "|tolls_amount                |double                                                        |NULL   |\n",
      "|improvement_surcharge       |double                                                        |NULL   |\n",
      "|total_amount                |double                                                        |NULL   |\n",
      "|congestion_surcharge        |double                                                        |NULL   |\n",
      "|airport_fee                 |double                                                        |NULL   |\n",
      "|# Partition Information     |                                                              |       |\n",
      "|# col_name                  |data_type                                                     |comment|\n",
      "|VendorId                    |int                                                           |NULL   |\n",
      "|                            |                                                              |       |\n",
      "|# Detailed Table Information|                                                              |       |\n",
      "|Name                        |spark_catalog.taxisdb.yellowtaxisdelta                        |       |\n",
      "|Type                        |EXTERNAL                                                      |       |\n",
      "|Comment                     |This table stores ride information for Yellow Taxis           |       |\n",
      "|Location                    |file:/C:/DataFiles/deltaThings/deltaNotebook/YellowTaxis.delta|       |\n",
      "|Provider                    |delta                                                         |       |\n",
      "|Table Properties            |[delta.minReaderVersion=1,delta.minWriterVersion=2]           |       |\n",
      "+----------------------------+--------------------------------------------------------------+-------+\n",
      "\n"
     ]
    }
   ],
   "source": [
    "spark.sql(\"\"\"\n",
    "\n",
    "DESCRIBE TABLE EXTENDED TaxisDB.YellowTaxisdelta\n",
    "\n",
    "\"\"\").show(50, truncate=False)"
   ]
  },
  {
   "cell_type": "code",
   "execution_count": 9,
   "id": "5b968bf8",
   "metadata": {},
   "outputs": [
    {
     "data": {
      "text/plain": [
       "DataFrame[]"
      ]
     },
     "execution_count": 9,
     "metadata": {},
     "output_type": "execute_result"
    }
   ],
   "source": [
    "spark.sql(\"\"\"\n",
    "\n",
    "INSERT INTO TaxisDB.YellowTaxisdelta\n",
    "\n",
    "-- (VendorId, PickupTime, DropTime, PickupLocationId, DropLocationId, PassengerCount, TripDistance, RateCodeId, StoreAndFwdFlag, PaymentType, FareAmount, Extra, MtaTax, TipAmount, TollsAmount, ImprovementSurcharge, TotalAmount, CongestionSurcharge, AirportFee)\n",
    "\n",
    "VALUES (3, '2022-12-01T00:00:00.000Z', '2022-12-01T00:15:34.000Z', 170, 140, 1.0, 2.9, 1.0, '1', 1, 13.0, 0.5, 0.5, 1.0, 0.0, 0.3, 15.3, 0.0, 0.0)\n",
    "\n",
    "\"\"\")"
   ]
  },
  {
   "cell_type": "code",
   "execution_count": 10,
   "id": "ede0e7b1",
   "metadata": {},
   "outputs": [
    {
     "name": "stdout",
     "output_type": "stream",
     "text": [
      "+--------+--------------------+---------------------+---------------+-------------+----------+------------------+------------+------------+------------+-----------+-----+-------+----------+------------+---------------------+------------+--------------------+-----------+\n",
      "|VendorId|lpep_pickup_datetime|lpep_dropoff_datetime|passenger_count|trip_distance|RatecodeID|store_and_fwd_flag|PULocationID|DOLocationID|payment_type|fare_amount|extra|mta_tax|tip_amount|tolls_amount|improvement_surcharge|total_amount|congestion_surcharge|airport_fee|\n",
      "+--------+--------------------+---------------------+---------------+-------------+----------+------------------+------------+------------+------------+-----------+-----+-------+----------+------------+---------------------+------------+--------------------+-----------+\n",
      "|3       |2022-12-01 05:30:00 |2022-12-01 05:45:34  |170.0          |140.0        |1.0       |2.9               |1           |1           |1           |13.0       |0.5  |0.5    |1.0       |0.0         |0.3                  |15.3        |0.0                 |0.0        |\n",
      "+--------+--------------------+---------------------+---------------+-------------+----------+------------------+------------+------------+------------+-----------+-----+-------+----------+------------+---------------------+------------+--------------------+-----------+\n",
      "\n"
     ]
    }
   ],
   "source": [
    "spark.sql(\"\"\"\n",
    "\n",
    "SELECT * FROM TaxisDB.YellowTaxisdelta\n",
    "\n",
    "\"\"\").show(truncate=False)"
   ]
  },
  {
   "cell_type": "code",
   "execution_count": 12,
   "id": "58b04a3a",
   "metadata": {},
   "outputs": [
    {
     "name": "stdout",
     "output_type": "stream",
     "text": [
      "+-------+-----------------------+------+--------+------------+---------------------------------------------------------------------------------------------------------------------------------------+----+--------+---------+-----------+--------------+-------------+-----------------------------------------------------------+------------+-----------------------------------+\n",
      "|version|timestamp              |userId|userName|operation   |operationParameters                                                                                                                    |job |notebook|clusterId|readVersion|isolationLevel|isBlindAppend|operationMetrics                                           |userMetadata|engineInfo                         |\n",
      "+-------+-----------------------+------+--------+------------+---------------------------------------------------------------------------------------------------------------------------------------+----+--------+---------+-----------+--------------+-------------+-----------------------------------------------------------+------------+-----------------------------------+\n",
      "|1      |2024-01-08 15:27:42.689|NULL  |NULL    |WRITE       |{mode -> Append, partitionBy -> []}                                                                                                    |NULL|NULL    |NULL     |0          |Serializable  |true         |{numFiles -> 1, numOutputRows -> 1, numOutputBytes -> 5203}|NULL        |Apache-Spark/3.5.0 Delta-Lake/3.0.0|\n",
      "|0      |2024-01-08 15:22:34    |NULL  |NULL    |CREATE TABLE|{isManaged -> false, description -> This table stores ride information for Yellow Taxis, partitionBy -> [\"VendorId\"], properties -> {}}|NULL|NULL    |NULL     |NULL       |Serializable  |true         |{}                                                         |NULL        |Apache-Spark/3.5.0 Delta-Lake/3.0.0|\n",
      "+-------+-----------------------+------+--------+------------+---------------------------------------------------------------------------------------------------------------------------------------+----+--------+---------+-----------+--------------+-------------+-----------------------------------------------------------+------------+-----------------------------------+\n",
      "\n"
     ]
    }
   ],
   "source": [
    "spark.sql(\"\"\"\n",
    "\n",
    "DESCRIBE HISTORY TaxisDB.YellowTaxisdelta\n",
    "\n",
    "\"\"\").show(truncate=False)"
   ]
  },
  {
   "cell_type": "code",
   "execution_count": null,
   "id": "22a9295b",
   "metadata": {},
   "outputs": [],
   "source": []
  }
 ],
 "metadata": {
  "kernelspec": {
   "display_name": "Python 3 (ipykernel)",
   "language": "python",
   "name": "python3"
  },
  "language_info": {
   "codemirror_mode": {
    "name": "ipython",
    "version": 3
   },
   "file_extension": ".py",
   "mimetype": "text/x-python",
   "name": "python",
   "nbconvert_exporter": "python",
   "pygments_lexer": "ipython3",
   "version": "3.11.5"
  }
 },
 "nbformat": 4,
 "nbformat_minor": 5
}

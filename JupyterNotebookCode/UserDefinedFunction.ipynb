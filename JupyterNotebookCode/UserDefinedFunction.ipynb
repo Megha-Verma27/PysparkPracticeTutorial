{
 "cells": [
  {
   "cell_type": "code",
   "execution_count": 1,
   "id": "bf7d6939",
   "metadata": {},
   "outputs": [
    {
     "data": {
      "text/plain": [
       "'C:\\\\Users\\\\Admin\\\\anaconda3\\\\envs\\\\SparkEnvironment\\\\Lib\\\\site-packages\\\\pyspark'"
      ]
     },
     "execution_count": 1,
     "metadata": {},
     "output_type": "execute_result"
    }
   ],
   "source": [
    "import findspark\n",
    "findspark.init()\n",
    "findspark.find()"
   ]
  },
  {
   "cell_type": "code",
   "execution_count": 2,
   "id": "21a1284e",
   "metadata": {},
   "outputs": [
    {
     "data": {
      "text/html": [
       "\n",
       "            <div>\n",
       "                <p><b>SparkSession - in-memory</b></p>\n",
       "                \n",
       "        <div>\n",
       "            <p><b>SparkContext</b></p>\n",
       "\n",
       "            <p><a href=\"http://192.168.86.219:4046\">Spark UI</a></p>\n",
       "\n",
       "            <dl>\n",
       "              <dt>Version</dt>\n",
       "                <dd><code>v3.5.0</code></dd>\n",
       "              <dt>Master</dt>\n",
       "                <dd><code>local[4]</code></dd>\n",
       "              <dt>AppName</dt>\n",
       "                <dd><code>UDFApp</code></dd>\n",
       "            </dl>\n",
       "        </div>\n",
       "        \n",
       "            </div>\n",
       "        "
      ],
      "text/plain": [
       "<pyspark.sql.session.SparkSession at 0x241dd130090>"
      ]
     },
     "execution_count": 2,
     "metadata": {},
     "output_type": "execute_result"
    }
   ],
   "source": [
    "from pyspark.sql import SparkSession\n",
    "from pyspark.sql.types import *\n",
    "from pyspark.sql.functions import *\n",
    "\n",
    "spark = (\n",
    "    SparkSession\n",
    "    .builder\n",
    "    .appName(\"UDFApp\")\n",
    "    .master(\"local[4]\")\n",
    "    .config(\"spark.dynamicAloocation.enabled\", \"false\")\n",
    "    .getOrCreate()\n",
    ")\n",
    "\n",
    "sc = spark.sparkContext\n",
    "\n",
    "spark"
   ]
  },
  {
   "cell_type": "code",
   "execution_count": 7,
   "id": "c329d6da",
   "metadata": {},
   "outputs": [
    {
     "name": "stdout",
     "output_type": "stream",
     "text": [
      "+---------+--------------------+------------------------+----------------+------+-------------------+-----------------+--------------------+-----------+-----------+---------------+--------------------------+--------------------------------------------+---------------+\n",
      "|CabNumber|VehicleLicenseNumber|Name                    |LicenseType     |Active|PermitLicenseNumber|VehicleVinNumber |WheelchairAccessible|VehicleYear|VehicleType|TelephoneNumber|Website                   |Address                                     |LastDateUpdated|\n",
      "+---------+--------------------+------------------------+----------------+------+-------------------+-----------------+--------------------+-----------+-----------+---------------+--------------------------+--------------------------------------------+---------------+\n",
      "|T802127C |C19641              |ABCON INC.              |OWNER MUST DRIVE|YES   |NULL               |5TDBK3EH0DS268018|NULL                |2016       |NULL       |(718)438-1100  |NULL                      |41-24   38 STREET L.I.C. NY 11101           |04/22/2020     |\n",
      "|T525963C |5362996             |ACCEPTABLE TAXI LLC     |NAMED DRIVER    |YES   |NULL               |JTDZN3EU1GJ044907|NULL                |2016       |NULL       |(718)375-1001  |NULL                      |2395 CONEY ISLAND AVENUE BROOKLYN NY 11223  |04/22/2020     |\n",
      "|T457353C |5122403             |ALLIS CAB CORP          |NAMED DRIVER    |YES   |NULL               |4T1BD1FK9FU150746|NULL                |2013       |NULL       |(212)927-4600  |NULL                      |2400 AMSTERDAM AVENUE NEW YORK NY 10033     |04/22/2020     |\n",
      "|T606373C |5386507             |BENE CAB CORP           |NAMED DRIVER    |YES   |AC992              |4T1BD1FK1EU137360|NULL                |2015       |NULL       |(718)472-9800  |NULL                      |29 - 10   36 AVENUE ASTORIA NY 11106        |04/22/2020     |\n",
      "|T451536C |5143151             |BOULOS TAXI CORP.       |NAMED DRIVER    |YES   |NULL               |4T1BD1FK8FU142430|NULL                |2017       |NULL       |(718)971-5639  |NULL                      |636 WEST   28 STREET NEW YORK NY 10001      |04/22/2020     |\n",
      "|T500313C |5268004             |CACERES,JAIME,P         |OWNER MUST DRIVE|YES   |NULL               |4T1BF1FK8FU477889|NULL                |2015       |NULL       |(516)861-2019  |NULL                      |62 MAIN STREET PT WASHINGTON NY 11050       |04/22/2020     |\n",
      "|T484321C |5238526             |CALCIUM ONE SERVICE INC.|NAMED DRIVER    |YES   |NULL               |4T1BD1FK4FU176834|NULL                |2017       |NULL       |(718)971-5559  |WWW.DRIVEUBERNYC.COM      |636 WEST   28 STREET NEW YORK NY 10001      |04/22/2020     |\n",
      "|T663612C |5386120             |CHARLES,WILBERT         |OWNER MUST DRIVE|YES   |NULL               |JTMRJREV1HD120102|NULL                |2015       |NULL       |(718)658-5700  |NULL                      |135-10 JAMAICA AVENUE RICHMOND HILL NY 11418|04/22/2020     |\n",
      "|T725323C |5171032             |CHAWKI,MICHAEL          |OWNER MUST DRIVE|YES   |NULL               |1FMCU4K35AKA35795|NULL                |2016       |NULL       |(646)665-3514  |DRIVEUBERNYC.COM          |636 WEST   28 STREET NEW YORK NY 10001      |04/22/2020     |\n",
      "|T519718C |5330235             |CHRYSOVALANTOU CORP,    |NAMED DRIVER    |YES   |NULL               |4T1BD1FK4FU149276|NULL                |2017       |NULL       |(718)515-5555  |WWW.BESTDEALCARSERVICE.COM|757 A BURKE AVENUE BRONX NY 10467           |04/22/2020     |\n",
      "|T664587C |5588056             |COFI BOAT CORP.         |OWNER MUST DRIVE|YES   |NULL               |JTMRJREV5GD012564|NULL                |2016       |NULL       |(212)666-6666  |NULL                      |2642 BROADWAY NY NY 10025                   |04/22/2020     |\n",
      "|ELITE346 |F37515              |DEKEL TAXI CAB CORP     |NAMED DRIVER    |YES   |NULL               |4T1BD1FK4FU163789|NULL                |2019       |NULL       |(718)472-2300  |NULL                      |32-72 GALE AVENUE LIC NY 11101              |04/22/2020     |\n",
      "|T621614C |5453341             |FLORIAN & ROBERT INC    |NAMED DRIVER    |YES   |NULL               |JTDZN3EU3E3306122|NULL                |2012       |NULL       |(718)543-0001  |NULL                      |3107 KINGSBRIDGE AVENUE BRONX NY 10463      |04/22/2020     |\n",
      "|T714073C |5385905             |GART CAB CORP           |NAMED DRIVER    |YES   |NULL               |3N8CM0JT9EK702820|NULL                |2016       |NULL       |(718)971-5559  |ZWEINYC.COM               |636 WEST   28 STREET NEW YORK NY 10001      |04/22/2020     |\n",
      "|T655723C |5553705             |GAUTHIER,JACQUES        |OWNER MUST DRIVE|YES   |NULL               |1FMCU4K35CKA37551|NULL                |2016       |NULL       |(212)431-5555  |NULL                      |11-35   31 DRIVE LONG ISLAND CIT NY 11106   |04/22/2020     |\n",
      "|T600330C |V75262              |GEORGAKOPOULOS, GEORGIA |NAMED DRIVER    |YES   |NULL               |2FABP7AV7BX148809|NULL                |2010       |NULL       |(646)665-7584  |NULL                      |636 WEST   28 STREET NEW YORK NY 10001      |04/22/2020     |\n",
      "|T652698C |5552919             |GUJAR CAB CORP          |NAMED DRIVER    |YES   |NULL               |1FMCU4K35CKA85955|NULL                |2015       |NULL       |(646)665-7540  |WWW.ELFNYC1.COM           |636 WEST   28 STREET NEW YORK NY 10001      |04/22/2020     |\n",
      "|T624038C |5438429             |HUEZO, SALVADOR         |OWNER MUST DRIVE|YES   |NULL               |3N8CM0JT3GK701911|NULL                |2019       |NULL       |(646)665-7304  |DRIVEUBERNYC.COM          |636 WEST   28 STREET NEW YORK NY 10001      |04/22/2020     |\n",
      "|ELITE903 |5388274             |JEAN-PIERRE,SERGE       |OWNER MUST DRIVE|YES   |NULL               |5TDZK3DCXGS706794|NULL                |2014       |NULL       |(718)472-2300  |NULL                      |32-72 GALE AVENUE LIC NY 11101              |04/22/2020     |\n",
      "|T487069C |5250818             |JETS CAB CORP.          |NAMED DRIVER    |YES   |NULL               |JTMRJREV8HD120663|NULL                |2016       |NULL       |(646)665-7402  |NULL                      |636 WEST   28 STREET NEW YORK NY 10001      |04/22/2020     |\n",
      "+---------+--------------------+------------------------+----------------+------+-------------------+-----------------+--------------------+-----------+-----------+---------------+--------------------------+--------------------------------------------+---------------+\n",
      "only showing top 20 rows\n",
      "\n"
     ]
    }
   ],
   "source": [
    "cabsDf = (\n",
    "    spark\n",
    "    .read\n",
    "    .option(\"header\", \"true\")\n",
    "    .option(\"inferSchema\", \"true\")\n",
    "    .csv(\"C:\\DataFiles\\Cabs.csv\")\n",
    ")\n",
    "cabsDf.createOrReplaceTempView(\"Cabs\")\n",
    "cabsDf.show(truncate = False)"
   ]
  },
  {
   "cell_type": "code",
   "execution_count": 14,
   "id": "c9e9b610",
   "metadata": {},
   "outputs": [],
   "source": [
    "def convertCase(str):\n",
    "    result = \"\"\n",
    "    nameWordsArray = str.split(\",\")\n",
    "    for nameWord in nameWordsArray:\n",
    "        result = (result\n",
    "                  + nameWord[0:1].upper()\n",
    "                  + nameWord[1:len(nameWord)].lower()\n",
    "                  +\",\"\n",
    "                 )\n",
    "        result = result[0:len(result) -2]\n",
    "        return result"
   ]
  },
  {
   "cell_type": "code",
   "execution_count": 15,
   "id": "ef28277e",
   "metadata": {},
   "outputs": [],
   "source": [
    "convertCaseUdf = udf(lambda str: convertCase(str), StringType())"
   ]
  },
  {
   "cell_type": "code",
   "execution_count": 17,
   "id": "6b87462b",
   "metadata": {},
   "outputs": [
    {
     "name": "stdout",
     "output_type": "stream",
     "text": [
      "+------------------------+-----------------------+\n",
      "|Name                    |Name_convertCase       |\n",
      "+------------------------+-----------------------+\n",
      "|ABCON INC.              |Abcon inc              |\n",
      "|ACCEPTABLE TAXI LLC     |Acceptable taxi ll     |\n",
      "|ALLIS CAB CORP          |Allis cab cor          |\n",
      "|BENE CAB CORP           |Bene cab cor           |\n",
      "|BOULOS TAXI CORP.       |Boulos taxi corp       |\n",
      "|CACERES,JAIME,P         |Cacere                 |\n",
      "|CALCIUM ONE SERVICE INC.|Calcium one service inc|\n",
      "|CHARLES,WILBERT         |Charle                 |\n",
      "|CHAWKI,MICHAEL          |Chawk                  |\n",
      "|CHRYSOVALANTOU CORP,    |Chrysovalantou cor     |\n",
      "|COFI BOAT CORP.         |Cofi boat corp         |\n",
      "|DEKEL TAXI CAB CORP     |Dekel taxi cab cor     |\n",
      "|FLORIAN & ROBERT INC    |Florian & robert in    |\n",
      "|GART CAB CORP           |Gart cab cor           |\n",
      "|GAUTHIER,JACQUES        |Gauthie                |\n",
      "|GEORGAKOPOULOS, GEORGIA |Georgakopoulo          |\n",
      "|GUJAR CAB CORP          |Gujar cab cor          |\n",
      "|HUEZO, SALVADOR         |Huez                   |\n",
      "|JEAN-PIERRE,SERGE       |Jean-pierr             |\n",
      "|JETS CAB CORP.          |Jets cab corp          |\n",
      "+------------------------+-----------------------+\n",
      "only showing top 20 rows\n",
      "\n"
     ]
    }
   ],
   "source": [
    "(\n",
    "    cabsDf\n",
    "    .select(\n",
    "        \"Name\",\n",
    "        convertCaseUdf(col(\"Name\")).alias(\"Name_convertCase\")\n",
    "    )\n",
    ").show(truncate = False)"
   ]
  },
  {
   "cell_type": "code",
   "execution_count": null,
   "id": "41a69af5",
   "metadata": {},
   "outputs": [],
   "source": []
  }
 ],
 "metadata": {
  "kernelspec": {
   "display_name": "Python 3 (ipykernel)",
   "language": "python",
   "name": "python3"
  },
  "language_info": {
   "codemirror_mode": {
    "name": "ipython",
    "version": 3
   },
   "file_extension": ".py",
   "mimetype": "text/x-python",
   "name": "python",
   "nbconvert_exporter": "python",
   "pygments_lexer": "ipython3",
   "version": "3.11.5"
  }
 },
 "nbformat": 4,
 "nbformat_minor": 5
}

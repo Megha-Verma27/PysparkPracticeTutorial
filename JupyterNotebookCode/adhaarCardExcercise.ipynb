{
 "cells": [
  {
   "cell_type": "code",
   "execution_count": 1,
   "id": "9d588387",
   "metadata": {},
   "outputs": [
    {
     "data": {
      "text/plain": [
       "'C:\\\\Users\\\\Admin\\\\anaconda3\\\\envs\\\\SparkEnvironment\\\\Lib\\\\site-packages\\\\pyspark'"
      ]
     },
     "execution_count": 1,
     "metadata": {},
     "output_type": "execute_result"
    }
   ],
   "source": [
    "import findspark\n",
    "findspark.init()\n",
    "findspark.find()"
   ]
  },
  {
   "cell_type": "code",
   "execution_count": 2,
   "id": "6b3e9d5c",
   "metadata": {},
   "outputs": [
    {
     "data": {
      "text/html": [
       "\n",
       "            <div>\n",
       "                <p><b>SparkSession - in-memory</b></p>\n",
       "                \n",
       "        <div>\n",
       "            <p><b>SparkContext</b></p>\n",
       "\n",
       "            <p><a href=\"http://192.168.86.219:4042\">Spark UI</a></p>\n",
       "\n",
       "            <dl>\n",
       "              <dt>Version</dt>\n",
       "                <dd><code>v3.5.0</code></dd>\n",
       "              <dt>Master</dt>\n",
       "                <dd><code>local[4]</code></dd>\n",
       "              <dt>AppName</dt>\n",
       "                <dd><code>SparkSQLApp</code></dd>\n",
       "            </dl>\n",
       "        </div>\n",
       "        \n",
       "            </div>\n",
       "        "
      ],
      "text/plain": [
       "<pyspark.sql.session.SparkSession at 0x1e2fc41fc10>"
      ]
     },
     "execution_count": 2,
     "metadata": {},
     "output_type": "execute_result"
    }
   ],
   "source": [
    "from pyspark.sql import SparkSession\n",
    "from pyspark.sql.types import *\n",
    "from pyspark.sql.functions import *\n",
    "\n",
    "spark = (\n",
    "    SparkSession\n",
    "    .builder\n",
    "    .appName(\"SparkSQLApp\")\n",
    "    .master(\"local[4]\")\n",
    "    .config(\"spark.dynamicAllocation.enabled\", \"false\")\n",
    "    .config(\"spark.sql.adaptive.enabled\", \"false\")\n",
    "    .getOrCreate()\n",
    ")\n",
    "\n",
    "sc = spark.sparkContext\n",
    "\n",
    "spark"
   ]
  },
  {
   "cell_type": "code",
   "execution_count": 8,
   "id": "facb424f",
   "metadata": {},
   "outputs": [
    {
     "name": "stdout",
     "output_type": "stream",
     "text": [
      "root\n",
      " |-- Registrar: string (nullable = true)\n",
      " |-- Enrolment_Agency: string (nullable = true)\n",
      " |-- State: string (nullable = true)\n",
      " |-- District: string (nullable = true)\n",
      " |-- Sub_District: string (nullable = true)\n",
      " |-- Pin_Code: string (nullable = true)\n",
      " |-- Gender: string (nullable = true)\n",
      " |-- Age: integer (nullable = true)\n",
      " |-- Aadhaar_generated: integer (nullable = true)\n",
      " |-- Enrolment_Rejected: integer (nullable = true)\n",
      " |-- Email: integer (nullable = true)\n",
      " |-- Mobile: integer (nullable = true)\n",
      "\n"
     ]
    }
   ],
   "source": [
    "# Create schema for Yellow Taxi Data\n",
    " \n",
    "aadhaarSchema = (\n",
    "                    StructType\n",
    "                    ([ \n",
    "                        StructField(\"Registrar\"               , StringType()   , True),\n",
    "                        StructField(\"Enrolment_Agency\"   , StringType() , True),\n",
    "                        StructField(\"State\"  , StringType() , True),                            \n",
    "                        StructField(\"District\"        , StringType()    , True),\n",
    "                        StructField(\"Sub_District\"          , StringType()    , True),\n",
    "                        StructField(\"Pin_Code\"             , StringType()    , True),                            \n",
    "                        StructField(\"Gender\"     , StringType()    , True),\n",
    "                        StructField(\"Age\"           , IntegerType()   , True),\n",
    "                        StructField(\"Aadhaar_generated\"           , IntegerType()   , True),                            \n",
    "                        StructField(\"Enrolment_Rejected\"           , IntegerType()   , True),                            \n",
    "                        StructField(\"Email\"            , IntegerType()    , True),\n",
    "                        StructField(\"Mobile\"                  , IntegerType()    , True),\n",
    "                        \n",
    "                    ])\n",
    "               )\n",
    "\n",
    "aadhaarDf = (\n",
    "    spark\n",
    "    .read\n",
    "    .schema(aadhaarSchema)\n",
    "    .option(\"inferSchema\", \"true\")\n",
    "    .csv(\"C:\\\\DataFiles\\\\aadhaar_data.csv\")\n",
    ")\n",
    "aadhaarDf.printSchema()"
   ]
  },
  {
   "cell_type": "code",
   "execution_count": null,
   "id": "caf0144c",
   "metadata": {},
   "outputs": [],
   "source": [
    "spark.sql(\"\"\"\n",
    "select\n",
    "\"\"\")"
   ]
  }
 ],
 "metadata": {
  "kernelspec": {
   "display_name": "Python 3 (ipykernel)",
   "language": "python",
   "name": "python3"
  },
  "language_info": {
   "codemirror_mode": {
    "name": "ipython",
    "version": 3
   },
   "file_extension": ".py",
   "mimetype": "text/x-python",
   "name": "python",
   "nbconvert_exporter": "python",
   "pygments_lexer": "ipython3",
   "version": "3.11.5"
  }
 },
 "nbformat": 4,
 "nbformat_minor": 5
}
